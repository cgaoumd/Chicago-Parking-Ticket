{
 "cells": [
  {
   "cell_type": "markdown",
   "metadata": {},
   "source": [
    "Python notebook for exploratory data analysis of the City of Chicago Parking Ticket Data"
   ]
  },
  {
   "cell_type": "code",
   "execution_count": 1,
   "metadata": {
    "collapsed": true
   },
   "outputs": [],
   "source": [
    "import pandas as pd\n",
    "import matplotlib.pyplot as plt\n",
    "import seaborn as sns\n",
    "import numpy as np\n",
    "import warnings\n",
    "warnings.filterwarnings(\"ignore\")\n",
    "\n",
    "import datetime"
   ]
  },
  {
   "cell_type": "code",
   "execution_count": 2,
   "metadata": {
    "collapsed": true
   },
   "outputs": [],
   "source": [
    "# read the dataframe\n",
    "df_CCPT = pd.read_csv('../data/parking_tickets_frac.csv')"
   ]
  },
  {
   "cell_type": "code",
   "execution_count": 3,
   "metadata": {
    "collapsed": false
   },
   "outputs": [
    {
     "data": {
      "text/html": [
       "<div>\n",
       "<style scoped>\n",
       "    .dataframe tbody tr th:only-of-type {\n",
       "        vertical-align: middle;\n",
       "    }\n",
       "\n",
       "    .dataframe tbody tr th {\n",
       "        vertical-align: top;\n",
       "    }\n",
       "\n",
       "    .dataframe thead th {\n",
       "        text-align: right;\n",
       "    }\n",
       "</style>\n",
       "<table border=\"1\" class=\"dataframe\">\n",
       "  <thead>\n",
       "    <tr style=\"text-align: right;\">\n",
       "      <th></th>\n",
       "      <th>Unnamed: 0</th>\n",
       "      <th>ticket_number</th>\n",
       "      <th>issue_date</th>\n",
       "      <th>violation_location</th>\n",
       "      <th>license_plate_number</th>\n",
       "      <th>license_plate_state</th>\n",
       "      <th>license_plate_type</th>\n",
       "      <th>zipcode</th>\n",
       "      <th>violation_code</th>\n",
       "      <th>violation_description</th>\n",
       "      <th>...</th>\n",
       "      <th>fine_level2_amount</th>\n",
       "      <th>current_amount_due</th>\n",
       "      <th>total_payments</th>\n",
       "      <th>ticket_queue</th>\n",
       "      <th>ticket_queue_date</th>\n",
       "      <th>notice_level</th>\n",
       "      <th>hearing_disposition</th>\n",
       "      <th>notice_number</th>\n",
       "      <th>officer</th>\n",
       "      <th>address</th>\n",
       "    </tr>\n",
       "  </thead>\n",
       "  <tbody>\n",
       "    <tr>\n",
       "      <th>0</th>\n",
       "      <td>19727593</td>\n",
       "      <td>9185717028</td>\n",
       "      <td>2014-08-05 21:26:00</td>\n",
       "      <td>1852 N MAUD</td>\n",
       "      <td>1e55730db26522e18e6cc4e37db1d5e49a1e9740ef56b5...</td>\n",
       "      <td>MI</td>\n",
       "      <td>PAS</td>\n",
       "      <td>NaN</td>\n",
       "      <td>0964090E</td>\n",
       "      <td>RESIDENTIAL PERMIT PARKING</td>\n",
       "      <td>...</td>\n",
       "      <td>150</td>\n",
       "      <td>0.0</td>\n",
       "      <td>75.0</td>\n",
       "      <td>Paid</td>\n",
       "      <td>2014-08-18 00:00:00</td>\n",
       "      <td>NaN</td>\n",
       "      <td>NaN</td>\n",
       "      <td>0</td>\n",
       "      <td>1432</td>\n",
       "      <td>1800 n maud, chicago, il</td>\n",
       "    </tr>\n",
       "    <tr>\n",
       "      <th>1</th>\n",
       "      <td>19367998</td>\n",
       "      <td>64352592</td>\n",
       "      <td>2014-06-14 09:41:00</td>\n",
       "      <td>4057 N SUNNYSIDE</td>\n",
       "      <td>e2ceaa3ed4fba9fa9ddeb146a1218c43eedac433ebacef...</td>\n",
       "      <td>IL</td>\n",
       "      <td>PAS</td>\n",
       "      <td>605212454</td>\n",
       "      <td>0964040B</td>\n",
       "      <td>STREET CLEANING</td>\n",
       "      <td>...</td>\n",
       "      <td>120</td>\n",
       "      <td>0.0</td>\n",
       "      <td>60.0</td>\n",
       "      <td>Paid</td>\n",
       "      <td>2014-08-23 00:00:00</td>\n",
       "      <td>NaN</td>\n",
       "      <td>NaN</td>\n",
       "      <td>5181940070</td>\n",
       "      <td>18937</td>\n",
       "      <td>4000 n sunnyside, chicago, il</td>\n",
       "    </tr>\n",
       "    <tr>\n",
       "      <th>2</th>\n",
       "      <td>5681589</td>\n",
       "      <td>9177655732</td>\n",
       "      <td>2009-01-07 19:56:00</td>\n",
       "      <td>3324 N HALSTED ST</td>\n",
       "      <td>c822dc8d016c735a2d95f33cd9fda4c89519c7aa8c1073...</td>\n",
       "      <td>IL</td>\n",
       "      <td>PAS</td>\n",
       "      <td>606473722</td>\n",
       "      <td>0964200B</td>\n",
       "      <td>PARK OUTSIDE METERED SPACE</td>\n",
       "      <td>...</td>\n",
       "      <td>100</td>\n",
       "      <td>0.0</td>\n",
       "      <td>50.0</td>\n",
       "      <td>Paid</td>\n",
       "      <td>2009-02-05 00:00:00</td>\n",
       "      <td>VIOL</td>\n",
       "      <td>NaN</td>\n",
       "      <td>5105450510</td>\n",
       "      <td>1030</td>\n",
       "      <td>3300 n halsted st, chicago, il</td>\n",
       "    </tr>\n",
       "    <tr>\n",
       "      <th>3</th>\n",
       "      <td>22647956</td>\n",
       "      <td>9188902856</td>\n",
       "      <td>2015-10-24 14:55:00</td>\n",
       "      <td>1953 N LACROSSE AV</td>\n",
       "      <td>0dc52cb43957b09dfc5514e2080d5c1e2a8de3747fe144...</td>\n",
       "      <td>IL</td>\n",
       "      <td>PAS</td>\n",
       "      <td>606512031</td>\n",
       "      <td>0964190A</td>\n",
       "      <td>EXP. METER NON-CENTRAL BUSINESS DISTRICT</td>\n",
       "      <td>...</td>\n",
       "      <td>100</td>\n",
       "      <td>0.0</td>\n",
       "      <td>50.0</td>\n",
       "      <td>Paid</td>\n",
       "      <td>2015-10-29 00:00:00</td>\n",
       "      <td>NaN</td>\n",
       "      <td>NaN</td>\n",
       "      <td>5131145590</td>\n",
       "      <td>1408</td>\n",
       "      <td>1900 n lacrosse av, chicago, il</td>\n",
       "    </tr>\n",
       "    <tr>\n",
       "      <th>4</th>\n",
       "      <td>1161221</td>\n",
       "      <td>9058219394</td>\n",
       "      <td>2007-05-30 17:27:00</td>\n",
       "      <td>1151 W WAVELAND</td>\n",
       "      <td>c99f5ac386092c0274cc2b247e1a411baf8f3a1587965b...</td>\n",
       "      <td>IL</td>\n",
       "      <td>PAS</td>\n",
       "      <td>600351014</td>\n",
       "      <td>0964090E</td>\n",
       "      <td>RESIDENTIAL PERMIT PARKING</td>\n",
       "      <td>...</td>\n",
       "      <td>100</td>\n",
       "      <td>0.0</td>\n",
       "      <td>50.0</td>\n",
       "      <td>Paid</td>\n",
       "      <td>2007-06-26 00:00:00</td>\n",
       "      <td>VIOL</td>\n",
       "      <td>NaN</td>\n",
       "      <td>5084345240</td>\n",
       "      <td>678</td>\n",
       "      <td>1100 w waveland, chicago, il</td>\n",
       "    </tr>\n",
       "  </tbody>\n",
       "</table>\n",
       "<p>5 rows × 24 columns</p>\n",
       "</div>"
      ],
      "text/plain": [
       "   Unnamed: 0  ticket_number           issue_date  violation_location  \\\n",
       "0    19727593     9185717028  2014-08-05 21:26:00         1852 N MAUD   \n",
       "1    19367998       64352592  2014-06-14 09:41:00    4057 N SUNNYSIDE   \n",
       "2     5681589     9177655732  2009-01-07 19:56:00   3324 N HALSTED ST   \n",
       "3    22647956     9188902856  2015-10-24 14:55:00  1953 N LACROSSE AV   \n",
       "4     1161221     9058219394  2007-05-30 17:27:00     1151 W WAVELAND   \n",
       "\n",
       "                                license_plate_number license_plate_state  \\\n",
       "0  1e55730db26522e18e6cc4e37db1d5e49a1e9740ef56b5...                  MI   \n",
       "1  e2ceaa3ed4fba9fa9ddeb146a1218c43eedac433ebacef...                  IL   \n",
       "2  c822dc8d016c735a2d95f33cd9fda4c89519c7aa8c1073...                  IL   \n",
       "3  0dc52cb43957b09dfc5514e2080d5c1e2a8de3747fe144...                  IL   \n",
       "4  c99f5ac386092c0274cc2b247e1a411baf8f3a1587965b...                  IL   \n",
       "\n",
       "  license_plate_type    zipcode violation_code  \\\n",
       "0                PAS        NaN       0964090E   \n",
       "1                PAS  605212454       0964040B   \n",
       "2                PAS  606473722       0964200B   \n",
       "3                PAS  606512031       0964190A   \n",
       "4                PAS  600351014       0964090E   \n",
       "\n",
       "                      violation_description               ...                 \\\n",
       "0                RESIDENTIAL PERMIT PARKING               ...                  \n",
       "1                           STREET CLEANING               ...                  \n",
       "2                PARK OUTSIDE METERED SPACE               ...                  \n",
       "3  EXP. METER NON-CENTRAL BUSINESS DISTRICT               ...                  \n",
       "4                RESIDENTIAL PERMIT PARKING               ...                  \n",
       "\n",
       "  fine_level2_amount current_amount_due total_payments  ticket_queue  \\\n",
       "0                150                0.0           75.0          Paid   \n",
       "1                120                0.0           60.0          Paid   \n",
       "2                100                0.0           50.0          Paid   \n",
       "3                100                0.0           50.0          Paid   \n",
       "4                100                0.0           50.0          Paid   \n",
       "\n",
       "     ticket_queue_date  notice_level  hearing_disposition notice_number  \\\n",
       "0  2014-08-18 00:00:00           NaN                  NaN             0   \n",
       "1  2014-08-23 00:00:00           NaN                  NaN    5181940070   \n",
       "2  2009-02-05 00:00:00          VIOL                  NaN    5105450510   \n",
       "3  2015-10-29 00:00:00           NaN                  NaN    5131145590   \n",
       "4  2007-06-26 00:00:00          VIOL                  NaN    5084345240   \n",
       "\n",
       "  officer                          address  \n",
       "0    1432         1800 n maud, chicago, il  \n",
       "1   18937    4000 n sunnyside, chicago, il  \n",
       "2    1030   3300 n halsted st, chicago, il  \n",
       "3    1408  1900 n lacrosse av, chicago, il  \n",
       "4     678     1100 w waveland, chicago, il  \n",
       "\n",
       "[5 rows x 24 columns]"
      ]
     },
     "execution_count": 3,
     "metadata": {},
     "output_type": "execute_result"
    }
   ],
   "source": [
    "df_CCPT.head(5)"
   ]
  },
  {
   "cell_type": "code",
   "execution_count": 4,
   "metadata": {
    "collapsed": false
   },
   "outputs": [
    {
     "data": {
      "text/html": [
       "<div>\n",
       "<style scoped>\n",
       "    .dataframe tbody tr th:only-of-type {\n",
       "        vertical-align: middle;\n",
       "    }\n",
       "\n",
       "    .dataframe tbody tr th {\n",
       "        vertical-align: top;\n",
       "    }\n",
       "\n",
       "    .dataframe thead th {\n",
       "        text-align: right;\n",
       "    }\n",
       "</style>\n",
       "<table border=\"1\" class=\"dataframe\">\n",
       "  <thead>\n",
       "    <tr style=\"text-align: right;\">\n",
       "      <th></th>\n",
       "      <th>Unique Entry</th>\n",
       "      <th>Nan Entry</th>\n",
       "    </tr>\n",
       "  </thead>\n",
       "  <tbody>\n",
       "    <tr>\n",
       "      <th>Unnamed: 0</th>\n",
       "      <td>5654516</td>\n",
       "      <td>False</td>\n",
       "    </tr>\n",
       "    <tr>\n",
       "      <th>ticket_number</th>\n",
       "      <td>5654516</td>\n",
       "      <td>False</td>\n",
       "    </tr>\n",
       "    <tr>\n",
       "      <th>issue_date</th>\n",
       "      <td>2978168</td>\n",
       "      <td>False</td>\n",
       "    </tr>\n",
       "    <tr>\n",
       "      <th>violation_location</th>\n",
       "      <td>1461772</td>\n",
       "      <td>False</td>\n",
       "    </tr>\n",
       "    <tr>\n",
       "      <th>license_plate_number</th>\n",
       "      <td>3148505</td>\n",
       "      <td>False</td>\n",
       "    </tr>\n",
       "    <tr>\n",
       "      <th>license_plate_state</th>\n",
       "      <td>63</td>\n",
       "      <td>True</td>\n",
       "    </tr>\n",
       "    <tr>\n",
       "      <th>license_plate_type</th>\n",
       "      <td>152</td>\n",
       "      <td>True</td>\n",
       "    </tr>\n",
       "    <tr>\n",
       "      <th>zipcode</th>\n",
       "      <td>752499</td>\n",
       "      <td>True</td>\n",
       "    </tr>\n",
       "    <tr>\n",
       "      <th>violation_code</th>\n",
       "      <td>130</td>\n",
       "      <td>False</td>\n",
       "    </tr>\n",
       "    <tr>\n",
       "      <th>violation_description</th>\n",
       "      <td>128</td>\n",
       "      <td>False</td>\n",
       "    </tr>\n",
       "    <tr>\n",
       "      <th>unit</th>\n",
       "      <td>373</td>\n",
       "      <td>True</td>\n",
       "    </tr>\n",
       "    <tr>\n",
       "      <th>unit_description</th>\n",
       "      <td>6</td>\n",
       "      <td>False</td>\n",
       "    </tr>\n",
       "    <tr>\n",
       "      <th>vehicle_make</th>\n",
       "      <td>175</td>\n",
       "      <td>False</td>\n",
       "    </tr>\n",
       "    <tr>\n",
       "      <th>fine_level1_amount</th>\n",
       "      <td>15</td>\n",
       "      <td>False</td>\n",
       "    </tr>\n",
       "    <tr>\n",
       "      <th>fine_level2_amount</th>\n",
       "      <td>16</td>\n",
       "      <td>False</td>\n",
       "    </tr>\n",
       "    <tr>\n",
       "      <th>current_amount_due</th>\n",
       "      <td>18838</td>\n",
       "      <td>False</td>\n",
       "    </tr>\n",
       "    <tr>\n",
       "      <th>total_payments</th>\n",
       "      <td>26346</td>\n",
       "      <td>False</td>\n",
       "    </tr>\n",
       "    <tr>\n",
       "      <th>ticket_queue</th>\n",
       "      <td>7</td>\n",
       "      <td>False</td>\n",
       "    </tr>\n",
       "    <tr>\n",
       "      <th>ticket_queue_date</th>\n",
       "      <td>4159</td>\n",
       "      <td>False</td>\n",
       "    </tr>\n",
       "    <tr>\n",
       "      <th>notice_level</th>\n",
       "      <td>5</td>\n",
       "      <td>True</td>\n",
       "    </tr>\n",
       "    <tr>\n",
       "      <th>hearing_disposition</th>\n",
       "      <td>2</td>\n",
       "      <td>True</td>\n",
       "    </tr>\n",
       "    <tr>\n",
       "      <th>notice_number</th>\n",
       "      <td>2977432</td>\n",
       "      <td>False</td>\n",
       "    </tr>\n",
       "    <tr>\n",
       "      <th>officer</th>\n",
       "      <td>22021</td>\n",
       "      <td>False</td>\n",
       "    </tr>\n",
       "    <tr>\n",
       "      <th>address</th>\n",
       "      <td>187498</td>\n",
       "      <td>False</td>\n",
       "    </tr>\n",
       "  </tbody>\n",
       "</table>\n",
       "</div>"
      ],
      "text/plain": [
       "                       Unique Entry  Nan Entry\n",
       "Unnamed: 0                  5654516      False\n",
       "ticket_number               5654516      False\n",
       "issue_date                  2978168      False\n",
       "violation_location          1461772      False\n",
       "license_plate_number        3148505      False\n",
       "license_plate_state              63       True\n",
       "license_plate_type              152       True\n",
       "zipcode                      752499       True\n",
       "violation_code                  130      False\n",
       "violation_description           128      False\n",
       "unit                            373       True\n",
       "unit_description                  6      False\n",
       "vehicle_make                    175      False\n",
       "fine_level1_amount               15      False\n",
       "fine_level2_amount               16      False\n",
       "current_amount_due            18838      False\n",
       "total_payments                26346      False\n",
       "ticket_queue                      7      False\n",
       "ticket_queue_date              4159      False\n",
       "notice_level                      5       True\n",
       "hearing_disposition               2       True\n",
       "notice_number               2977432      False\n",
       "officer                       22021      False\n",
       "address                      187498      False"
      ]
     },
     "execution_count": 4,
     "metadata": {},
     "output_type": "execute_result"
    }
   ],
   "source": [
    "hd = {'Unique Entry': df_CCPT.nunique(axis = 0),\n",
    "        'Nan Entry': df_CCPT.isnull().any()}\n",
    "pd.DataFrame(data = hd, index = df_CCPT.columns.values)\n",
    "\n",
    "# potential columns to drop: ticket_number,violation_location (since its normalized to address),license_plate_number,\n",
    "# zipcode, unit, notice_number  "
   ]
  },
  {
   "cell_type": "code",
   "execution_count": 5,
   "metadata": {
    "collapsed": true
   },
   "outputs": [],
   "source": [
    "to_drop = ['Unnamed: 0','ticket_number','violation_location','license_plate_number',\n",
    "           'zipcode','unit','unit_description','notice_number']\n",
    "df_CCPT.drop(labels=to_drop ,axis = 1,inplace = True)"
   ]
  },
  {
   "cell_type": "code",
   "execution_count": 6,
   "metadata": {
    "collapsed": true
   },
   "outputs": [],
   "source": [
    "row2drop= ['license_plate_state','license_plate_type']\n",
    "df_CCPT.dropna(axis = 0, how = 'any', subset = row2drop, inplace = True)"
   ]
  },
  {
   "cell_type": "code",
   "execution_count": null,
   "metadata": {
    "collapsed": true
   },
   "outputs": [],
   "source": [
    "df_CCPT['license_plate_state'].isnull().any()"
   ]
  },
  {
   "cell_type": "code",
   "execution_count": 7,
   "metadata": {
    "collapsed": false
   },
   "outputs": [
    {
     "data": {
      "text/plain": [
       "0   2014-08-05 21:26:00\n",
       "1   2014-06-14 09:41:00\n",
       "2   2009-01-07 19:56:00\n",
       "3   2015-10-24 14:55:00\n",
       "4   2007-05-30 17:27:00\n",
       "Name: issue_date, dtype: datetime64[ns]"
      ]
     },
     "execution_count": 7,
     "metadata": {},
     "output_type": "execute_result"
    }
   ],
   "source": [
    "df_CCPT['issue_date'] = pd.to_datetime(df_CCPT['issue_date'])\n",
    "df_CCPT['issue_date'].head(5)\n"
   ]
  },
  {
   "cell_type": "code",
   "execution_count": 8,
   "metadata": {
    "collapsed": true
   },
   "outputs": [],
   "source": [
    "# Getting the data from year 2015 to 2017\n",
    "mask16 = ((df_CCPT['issue_date'] >= pd.Timestamp(2016,1,1,0)) & (df_CCPT['issue_date'] <pd.Timestamp(2018,1,1,0)))\n",
    "df_CCPT16 = df_CCPT.loc[mask16]"
   ]
  },
  {
   "cell_type": "code",
   "execution_count": 9,
   "metadata": {
    "collapsed": true
   },
   "outputs": [],
   "source": [
    "wd = {'weekday': df_CCPT16['issue_date'].dt.weekday,\n",
    "        'hourofday': df_CCPT16['issue_date'].dt.hour}\n",
    "df_date = pd.DataFrame(data = wd, index = df_CCPT16.index)"
   ]
  },
  {
   "cell_type": "code",
   "execution_count": 11,
   "metadata": {
    "collapsed": false
   },
   "outputs": [
    {
     "data": {
      "image/png": "[encoded data removed]",
      "text/plain": [
       "<Figure size 648x1080 with 1 Axes>"
      ]
     },
     "metadata": {},
     "output_type": "display_data"
    }
   ],
   "source": [
    "plt.figure(figsize=(9,15))\n",
    "plt.title('Days and Hours of Violations', fontweight='bold',fontsize = 16);\n",
    "plt.hist2d(df_date['weekday'],df_date['hourofday'],[np.linspace(-0.5,6.5,num=8),np.linspace(-0.5,23.5,num=25)]);\n",
    "plt.xticks(np.arange(7), ['Mon','Tue','Wed','Thu','Fri','Sat','Sun'], fontweight='bold');\n",
    "hours_indx = [(datetime.time(i).strftime('%I %p')) for i in range(24)]\n",
    "plt.yticks(np.arange(24), hours_indx, fontweight='bold');\n",
    "plt.set_cmap('viridis')\n",
    "plt.show()"
   ]
  },
  {
   "cell_type": "code",
   "execution_count": 12,
   "metadata": {
    "collapsed": false
   },
   "outputs": [
    {
     "data": {
      "text/plain": [
       "IL    791110\n",
       "IN     19185\n",
       "WI     10784\n",
       "MI      8227\n",
       "OH      5360\n",
       "TX      4246\n",
       "CA      3998\n",
       "FL      3507\n",
       "IA      3443\n",
       "MO      3254\n",
       "Name: license_plate_state, dtype: int64"
      ]
     },
     "execution_count": 12,
     "metadata": {},
     "output_type": "execute_result"
    }
   ],
   "source": [
    "df_CCPT16['license_plate_state'].value_counts().head(10)"
   ]
  },
  {
   "cell_type": "code",
   "execution_count": 13,
   "metadata": {
    "collapsed": false
   },
   "outputs": [
    {
     "data": {
      "image/png": "[encoded data removed]",
      "text/plain": [
       "<Figure size 1080x1008 with 1 Axes>"
      ]
     },
     "metadata": {},
     "output_type": "display_data"
    }
   ],
   "source": [
    "x_ticks = df_CCPT16['license_plate_state'].value_counts().index\n",
    "heights = df_CCPT16['license_plate_state'].value_counts()\n",
    "y_pos = np.arange(len(x_ticks))\n",
    "fig = plt.figure(figsize=(15,14)) \n",
    "# set horizontal bars\n",
    "plt.barh(y_pos, heights)\n",
    " \n",
    "# set names on the y-axis\n",
    "plt.yticks(y_pos, x_ticks)\n",
    "plt.gca().invert_yaxis() \n",
    "# plot figure\n",
    "plt.show()"
   ]
  },
  {
   "cell_type": "code",
   "execution_count": 14,
   "metadata": {
    "collapsed": true
   },
   "outputs": [],
   "source": [
    "plate_state = df_CCPT16['license_plate_state'].value_counts().index\n",
    "ticket_status = df_CCPT16['ticket_queue'].value_counts().index\n",
    "# Here I categorize the ticket status in to 4:\n",
    "# Paid, Dissmissed, Likely to be Guilty (Notice), Unlikely to pay (the rest: Define, Court, Bankrupcy,Hearing Req)\n",
    "count_by_state = np.zeros([2,4])\n",
    "\n",
    "\n",
    "mask_instate = (df_CCPT16['license_plate_state'] == 'IL')\n",
    "count_by_state[0,0] = np.count_nonzero(df_CCPT16.loc[mask_instate]['ticket_queue'] == 'Paid')\n",
    "count_by_state[0,1] = np.count_nonzero(df_CCPT16.loc[mask_instate]['ticket_queue'] == 'Dismissed')\n",
    "count_by_state[0,2] = np.count_nonzero(df_CCPT16.loc[mask_instate]['ticket_queue'] == 'Notice') \n",
    "count_by_state[0,3] = df_CCPT16.loc[mask_instate]['ticket_queue'].size - np.sum(count_by_state[0,0:3])\n",
    "                \n",
    "mask_outstate = (df_CCPT16['license_plate_state'] != 'IL')\n",
    "count_by_state[1,0] = np.count_nonzero(df_CCPT16.loc[mask_outstate]['ticket_queue'] == 'Paid')\n",
    "count_by_state[1,1] = np.count_nonzero(df_CCPT16.loc[mask_outstate]['ticket_queue'] == 'Dismissed')\n",
    "count_by_state[1,2] = np.count_nonzero(df_CCPT16.loc[mask_outstate]['ticket_queue'] == 'Notice') \n",
    "count_by_state[1,3] = df_CCPT16.loc[mask_outstate]['ticket_queue'].size - np.sum(count_by_state[1,0:3])"
   ]
  },
  {
   "cell_type": "code",
   "execution_count": 15,
   "metadata": {
    "collapsed": false
   },
   "outputs": [
    {
     "data": {
      "image/png": "[encoded data removed]",
      "text/plain": [
       "<Figure size 648x648 with 1 Axes>"
      ]
     },
     "metadata": {},
     "output_type": "display_data"
    }
   ],
   "source": [
    "from matplotlib import rc\n",
    "\n",
    "plt.figure(figsize=(9,9))\n",
    "plt.tick_params(labelbottom=True)\n",
    "rc('font',weight = 'bold')\n",
    "r = np.arange(2)\n",
    "# bar width\n",
    "BW = 1\n",
    "\n",
    "plt.bar(r, count_by_state[:,0], color='blue', edgecolor='white', width=BW,label = 'Paid')\n",
    "plt.bar(r, count_by_state[:,1], bottom=count_by_state[:,0], color='red', edgecolor='white', width=BW,label='Dismissed')\n",
    "plt.bar(r, count_by_state[:,2], bottom=np.sum(count_by_state[:,0:2],axis = 1), color='green', edgecolor='white', width=BW,label='Likely Guilty')\n",
    "plt.bar(r, count_by_state[:,3], bottom=np.sum(count_by_state[:,0:3],axis = 1), color='magenta', edgecolor='white', width=BW,label='Unlikely to Pay')\n",
    "\n",
    "plt.xticks(r, ['In state plate','Out of state plate'], fontweight='bold',rotation='vertical')\n",
    "#plt.xlabel(\"Violation Type (Top 20)\")\n",
    "plt.ylabel(\"No. of Occurance between 2016 and 2017\")\n",
    "plt.legend(fontsize = 16)\n",
    "plt.show()"
   ]
  },
  {
   "cell_type": "code",
   "execution_count": 19,
   "metadata": {
    "collapsed": false
   },
   "outputs": [
    {
     "data": {
      "image/png": "[encoded data removed]",
      "text/plain": [
       "<Figure size 1296x648 with 1 Axes>"
      ]
     },
     "metadata": {},
     "output_type": "display_data"
    }
   ],
   "source": [
    "plt.figure(figsize=(18,9))\n",
    "df_CCPT16['violation_description'].value_counts().head(30).plot(kind='pie')\n",
    "#plt.tick_params(labelbottom='on')\n",
    "plt.ylabel('', fontsize=16);\n",
    "plt.xlabel('Violation Type', fontsize=16);\n",
    "plt.title('Number of Parking Tickets Given for Each Violation Code', fontsize=16);\n",
    "plt.show()"
   ]
  },
  {
   "cell_type": "code",
   "execution_count": 17,
   "metadata": {
    "collapsed": true
   },
   "outputs": [],
   "source": [
    "violation_type = df_CCPT16['violation_description'].value_counts().index\n",
    "ticket_status = df_CCPT16['ticket_queue'].value_counts().index\n",
    "# Here I categorize the ticket status in to 4:\n",
    "# Paid, Dissmissed, Likely to be Guilty (Notice), Unlikely to pay (the rest: Define, Court, Bankrupcy,Hearing Req)\n",
    "count_by_vt = np.zeros([20,4])\n",
    "\n",
    "for vt_index in np.arange(20):\n",
    "    mask = (df_CCPT16['violation_description'] == violation_type[vt_index])\n",
    "    count_by_vt[vt_index,0] = np.count_nonzero(df_CCPT16.loc[mask]['ticket_queue'] == 'Paid')\n",
    "    count_by_vt[vt_index,1] = np.count_nonzero(df_CCPT16.loc[mask]['ticket_queue'] == 'Dismissed')\n",
    "    count_by_vt[vt_index,2] = np.count_nonzero(df_CCPT16.loc[mask]['ticket_queue'] == 'Notice') \n",
    "    count_by_vt[vt_index,3] = df_CCPT16.loc[mask]['ticket_queue'].size - np.sum(count_by_vt[vt_index,0:3])"
   ]
  },
  {
   "cell_type": "code",
   "execution_count": 20,
   "metadata": {
    "collapsed": false
   },
   "outputs": [
    {
     "data": {
      "image/png": "[encoded data removed]",
      "text/plain": [
       "<Figure size 1296x648 with 1 Axes>"
      ]
     },
     "metadata": {},
     "output_type": "display_data"
    }
   ],
   "source": [
    "plt.figure(figsize=(18,9))\n",
    "plt.tick_params(labelbottom=True)\n",
    "rc('font',weight = 'bold')\n",
    "r = np.arange(20)\n",
    "# bar width\n",
    "BW = 1\n",
    "\n",
    "plt.bar(r, count_by_vt[:,0], color='blue', edgecolor='white', width=BW,label = 'Paid')\n",
    "plt.bar(r, count_by_vt[:,1], bottom=count_by_vt[:,0], color='red', edgecolor='white', width=BW,label='Dismissed')\n",
    "plt.bar(r, count_by_vt[:,2], bottom=np.sum(count_by_vt[:,0:2],axis = 1), color='green', edgecolor='white', width=BW,label='Likely Guilty')\n",
    "plt.bar(r, count_by_vt[:,3], bottom=np.sum(count_by_vt[:,0:3],axis = 1), color='magenta', edgecolor='white', width=BW,label='Unlikely to Pay')\n",
    "\n",
    "plt.xticks(r, violation_type[:20], fontweight='bold',rotation='vertical')\n",
    "plt.xlabel(\"Violation Type (Top 20)\")\n",
    "plt.ylabel(\"No. of Occurance between 2016 and 2017\")\n",
    "plt.legend(fontsize = 16)\n",
    "plt.show()"
   ]
  },
  {
   "cell_type": "code",
   "execution_count": null,
   "metadata": {
    "collapsed": true
   },
   "outputs": [],
   "source": [
    "hd = {'Unique Entry': df_CCPT.nunique(axis = 0),\n",
    "        'Nan Entry': df_CCPT.isnull().any()}\n",
    "pd.DataFrame(data = hd, index = df_CCPT16.columns.values)\n"
   ]
  },
  {
   "cell_type": "code",
   "execution_count": 21,
   "metadata": {
    "collapsed": true
   },
   "outputs": [],
   "source": [
    "fine_amount = df_CCPT16[['fine_level1_amount','fine_level2_amount','current_amount_due','total_payments']]"
   ]
  },
  {
   "cell_type": "code",
   "execution_count": 22,
   "metadata": {
    "collapsed": false,
    "scrolled": true
   },
   "outputs": [
    {
     "data": {
      "text/plain": [
       "2.0"
      ]
     },
     "execution_count": 22,
     "metadata": {},
     "output_type": "execute_result"
    }
   ],
   "source": [
    "# fine_level2 is always twice the fine_level1, which makes it not helpful here\n",
    "np.mean(fine_amount['fine_level2_amount']//fine_amount['fine_level1_amount'])"
   ]
  },
  {
   "cell_type": "code",
   "execution_count": 23,
   "metadata": {
    "collapsed": true
   },
   "outputs": [],
   "source": [
    "fine_amount['final_amount'] = fine_amount['current_amount_due'] + fine_amount['total_payments']\n",
    "fine_amount['due_or_not'] = fine_amount['current_amount_due'] > 0"
   ]
  },
  {
   "cell_type": "code",
   "execution_count": 24,
   "metadata": {
    "collapsed": false
   },
   "outputs": [
    {
     "data": {
      "image/png": "[encoded data removed]",
      "text/plain": [
       "<Figure size 432x432 with 3 Axes>"
      ]
     },
     "metadata": {},
     "output_type": "display_data"
    }
   ],
   "source": [
    "sns.set()\n",
    "#ax = sns.scatterplot(x=fine_amount['fine_level1_amount'], y = fine_amount['final_amount'], hue=fine_amount['due_or_not'],data=tips)\n",
    "\n",
    "ax = sns.jointplot(x = 'fine_level1_amount', y = 'final_amount',data=fine_amount[:10000])\n",
    "plt.show()"
   ]
  },
  {
   "cell_type": "code",
   "execution_count": 25,
   "metadata": {
    "collapsed": true,
    "scrolled": false
   },
   "outputs": [],
   "source": [
    "fine_level = np.sort(df_CCPT16['fine_level1_amount'].unique())\n",
    "fine_due_or_not = np.zeros([np.size(fine_level),2])\n",
    "\n",
    "for fl_indx in np.arange(np.size(fine_level)):\n",
    "    mask = (df_CCPT16['fine_level1_amount'] == fine_level[fl_indx])\n",
    "    fine_due_or_not[fl_indx,0] = np.count_nonzero(df_CCPT16.loc[mask]['current_amount_due'] <= 0 ) # paid\n",
    "    fine_due_or_not[fl_indx,1] = np.count_nonzero(df_CCPT16.loc[mask]['current_amount_due'] > 0 ) # due"
   ]
  },
  {
   "cell_type": "code",
   "execution_count": 26,
   "metadata": {
    "collapsed": false
   },
   "outputs": [
    {
     "data": {
      "image/png": "[encoded data removed]",
      "text/plain": [
       "<Figure size 1296x648 with 1 Axes>"
      ]
     },
     "metadata": {},
     "output_type": "display_data"
    }
   ],
   "source": [
    "plt.figure(figsize=(18,9))\n",
    "plt.tick_params(labelbottom=True)\n",
    "rc('font',weight = 'bold')\n",
    "r = np.arange(np.size(fine_level))\n",
    "# bar width\n",
    "BW = 1\n",
    "\n",
    "plt.bar(r, fine_due_or_not[:,0], color='blue', edgecolor='white', width=BW,label = 'Paid')\n",
    "plt.bar(r, fine_due_or_not[:,1], bottom=fine_due_or_not[:,0], color='red', edgecolor='white', width=BW,label='Due')\n",
    "\n",
    "plt.xticks(r, fine_level, fontweight='bold',rotation='vertical')\n",
    "plt.xlabel(\"Initial Fine Amount\")\n",
    "plt.ylabel(\"No. of Ticket between 2016 and 2017\")\n",
    "plt.legend(fontsize = 16)\n",
    "plt.show()\n",
    "\n"
   ]
  },
  {
   "cell_type": "code",
   "execution_count": null,
   "metadata": {
    "collapsed": true
   },
   "outputs": [],
   "source": [
    " np.sort(df_CCPT16['fine_level1_amount'].unique())"
   ]
  },
  {
   "cell_type": "code",
   "execution_count": null,
   "metadata": {
    "collapsed": true
   },
   "outputs": [],
   "source": [
    "df_CCPT16['address'].head()"
   ]
  },
  {
   "cell_type": "code",
   "execution_count": 27,
   "metadata": {
    "collapsed": true
   },
   "outputs": [],
   "source": [
    "address_df = pd.DataFrame(df_CCPT16['address'].str.split(', ').tolist(), columns=['address','city','state','None'])\n",
    "#adderss_df.drop(columns = 'None',inplace = True)"
   ]
  },
  {
   "cell_type": "code",
   "execution_count": 28,
   "metadata": {
    "collapsed": false
   },
   "outputs": [
    {
     "data": {
      "text/html": [
       "<div>\n",
       "<style scoped>\n",
       "    .dataframe tbody tr th:only-of-type {\n",
       "        vertical-align: middle;\n",
       "    }\n",
       "\n",
       "    .dataframe tbody tr th {\n",
       "        vertical-align: top;\n",
       "    }\n",
       "\n",
       "    .dataframe thead th {\n",
       "        text-align: right;\n",
       "    }\n",
       "</style>\n",
       "<table border=\"1\" class=\"dataframe\">\n",
       "  <thead>\n",
       "    <tr style=\"text-align: right;\">\n",
       "      <th></th>\n",
       "      <th>address</th>\n",
       "      <th>city</th>\n",
       "      <th>state</th>\n",
       "      <th>None</th>\n",
       "    </tr>\n",
       "  </thead>\n",
       "  <tbody>\n",
       "    <tr>\n",
       "      <th>0</th>\n",
       "      <td>500 e 46</td>\n",
       "      <td>chicago</td>\n",
       "      <td>il</td>\n",
       "      <td>None</td>\n",
       "    </tr>\n",
       "    <tr>\n",
       "      <th>1</th>\n",
       "      <td>6100 s archer ave</td>\n",
       "      <td>chicago</td>\n",
       "      <td>il</td>\n",
       "      <td>None</td>\n",
       "    </tr>\n",
       "    <tr>\n",
       "      <th>2</th>\n",
       "      <td>4200 w irving park</td>\n",
       "      <td>chicago</td>\n",
       "      <td>il</td>\n",
       "      <td>None</td>\n",
       "    </tr>\n",
       "    <tr>\n",
       "      <th>3</th>\n",
       "      <td>1700 w grand</td>\n",
       "      <td>chicago</td>\n",
       "      <td>il</td>\n",
       "      <td>None</td>\n",
       "    </tr>\n",
       "    <tr>\n",
       "      <th>4</th>\n",
       "      <td>2200 n st louis</td>\n",
       "      <td>chicago</td>\n",
       "      <td>il</td>\n",
       "      <td>None</td>\n",
       "    </tr>\n",
       "  </tbody>\n",
       "</table>\n",
       "</div>"
      ],
      "text/plain": [
       "              address     city state  None\n",
       "0            500 e 46  chicago    il  None\n",
       "1   6100 s archer ave  chicago    il  None\n",
       "2  4200 w irving park  chicago    il  None\n",
       "3        1700 w grand  chicago    il  None\n",
       "4     2200 n st louis  chicago    il  None"
      ]
     },
     "execution_count": 28,
     "metadata": {},
     "output_type": "execute_result"
    }
   ],
   "source": [
    "address_df.head()"
   ]
  },
  {
   "cell_type": "code",
   "execution_count": 29,
   "metadata": {
    "collapsed": false
   },
   "outputs": [
    {
     "data": {
      "text/plain": [
       "chicago    878695\n",
       "louis           1\n",
       "Name: city, dtype: int64"
      ]
     },
     "execution_count": 29,
     "metadata": {},
     "output_type": "execute_result"
    }
   ],
   "source": [
    "address_df['city'].value_counts()"
   ]
  },
  {
   "cell_type": "code",
   "execution_count": 32,
   "metadata": {
    "collapsed": false
   },
   "outputs": [
    {
     "data": {
      "text/html": [
       "<div>\n",
       "<style scoped>\n",
       "    .dataframe tbody tr th:only-of-type {\n",
       "        vertical-align: middle;\n",
       "    }\n",
       "\n",
       "    .dataframe tbody tr th {\n",
       "        vertical-align: top;\n",
       "    }\n",
       "\n",
       "    .dataframe thead th {\n",
       "        text-align: right;\n",
       "    }\n",
       "</style>\n",
       "<table border=\"1\" class=\"dataframe\">\n",
       "  <thead>\n",
       "    <tr style=\"text-align: right;\">\n",
       "      <th></th>\n",
       "      <th>address</th>\n",
       "      <th>city</th>\n",
       "      <th>state</th>\n",
       "      <th>None</th>\n",
       "    </tr>\n",
       "  </thead>\n",
       "  <tbody>\n",
       "    <tr>\n",
       "      <th>135412</th>\n",
       "      <td>600 n st</td>\n",
       "      <td>louis</td>\n",
       "      <td>chicago</td>\n",
       "      <td>il</td>\n",
       "    </tr>\n",
       "  </tbody>\n",
       "</table>\n",
       "</div>"
      ],
      "text/plain": [
       "         address   city    state None\n",
       "135412  600 n st  louis  chicago   il"
      ]
     },
     "execution_count": 32,
     "metadata": {},
     "output_type": "execute_result"
    }
   ],
   "source": [
    "mask = (address_df['city']=='louis')\n",
    "address_df.loc[mask]"
   ]
  },
  {
   "cell_type": "code",
   "execution_count": 33,
   "metadata": {
    "collapsed": true
   },
   "outputs": [],
   "source": [
    "# found anomoly here, change it\n",
    "mask_add = (df_CCPT16['address'] == '600 n st, louis, chicago, il')\n",
    "# I know this looks ugly, I haven't found a better way :(\n",
    "df_CCPT16['address'] = df_CCPT16['address'].str.replace('600 n st, louis, chicago, il','600 n st louis, chicago, il')"
   ]
  },
  {
   "cell_type": "code",
   "execution_count": 34,
   "metadata": {
    "collapsed": false
   },
   "outputs": [
    {
     "data": {
      "text/plain": [
       "871103    600 n st louis, chicago, il\n",
       "Name: address, dtype: object"
      ]
     },
     "execution_count": 34,
     "metadata": {},
     "output_type": "execute_result"
    }
   ],
   "source": [
    "df_CCPT16.loc[mask_add]['address']"
   ]
  },
  {
   "cell_type": "code",
   "execution_count": 35,
   "metadata": {
    "collapsed": true
   },
   "outputs": [],
   "source": [
    "address_df = pd.DataFrame(df_CCPT16['address'].str.split(', ').tolist(), columns=['address','city','state'])"
   ]
  },
  {
   "cell_type": "code",
   "execution_count": 36,
   "metadata": {
    "collapsed": false
   },
   "outputs": [
    {
     "data": {
      "text/plain": [
       "chicago    878696\n",
       "Name: city, dtype: int64"
      ]
     },
     "execution_count": 36,
     "metadata": {},
     "output_type": "execute_result"
    }
   ],
   "source": [
    "address_df['city'].value_counts()\n",
    "# now the address should have been cleaned"
   ]
  },
  {
   "cell_type": "code",
   "execution_count": null,
   "metadata": {
    "collapsed": true,
    "scrolled": true
   },
   "outputs": [],
   "source": [
    "address_df['state'].unique()\n",
    "print('Number of unique addresses: {}'.format(len(address_df['address'].unique())))"
   ]
  },
  {
   "cell_type": "code",
   "execution_count": null,
   "metadata": {
    "collapsed": true
   },
   "outputs": [],
   "source": [
    "address_df = pd.DataFrame(address_df['address'].unique(), columns=['address'])\n",
    "address_df['lat'] = np.nan\n",
    "address_df['lng'] = np.nan\n",
    "address_df.head()"
   ]
  },
  {
   "cell_type": "code",
   "execution_count": null,
   "metadata": {
    "collapsed": true
   },
   "outputs": [],
   "source": [
    "import geocoder\n",
    "import requests\n",
    "import time"
   ]
  },
  {
   "cell_type": "code",
   "execution_count": null,
   "metadata": {
    "collapsed": true
   },
   "outputs": [],
   "source": [
    "class GeoSessions:\n",
    "    def __init__(self):\n",
    "        self.Arcgis = requests.Session()\n",
    "        self.Komoot = requests.Session()\n",
    "        self.USCensus = requests.Session()\n",
    "        self.OSM = requests.Session()\n",
    "\n",
    "def create_sessions():\n",
    "    return GeoSessions()\n",
    "\n",
    "def geocode_address(address, s):\n",
    "    g = geocoder.komoot(address, session=s.Komoot)\n",
    "    if (g.ok == False):        \n",
    "        g = geocoder.osm(address, session=s.OSM)\n",
    "    if (g.ok == False):\n",
    "        g = geocoder.arcgis(address, session=s.Arcgis)\n",
    "    if (g.ok == False):\n",
    "        g = geocoder.uscensus(address, session=s.USCensus)\n",
    "    return g"
   ]
  },
  {
   "cell_type": "code",
   "execution_count": null,
   "metadata": {
    "collapsed": true
   },
   "outputs": [],
   "source": [
    "s = create_sessions()\n"
   ]
  },
  {
   "cell_type": "code",
   "execution_count": null,
   "metadata": {
    "collapsed": true
   },
   "outputs": [],
   "source": [
    "addr = address_df['address'][0] + ', Chicago, IL'\n",
    "tmp = geocode_address(addr, s)\n",
    "print(addr)\n",
    "print('Latitude:  {}'.format(tmp.lat))\n",
    "print('Longitude: {}'.format(tmp.lng))"
   ]
  },
  {
   "cell_type": "code",
   "execution_count": null,
   "metadata": {
    "collapsed": true
   },
   "outputs": [],
   "source": [
    "failed_inds = []\n",
    "iter_between_saves = 100"
   ]
  },
  {
   "cell_type": "code",
   "execution_count": null,
   "metadata": {
    "collapsed": true,
    "scrolled": true
   },
   "outputs": [],
   "source": [
    "missing_latlon_ind = address_df[address_df['lat'].isnull()][:60001].index.tolist()\n",
    "\n",
    "for i in missing_latlon_ind:\n",
    "    try:\n",
    "        if i%iter_between_saves == 0:\n",
    "            print('reached index {}, saving df'.format(i))\n",
    "            address_df.to_csv('CCPT_frac_1617.csv', index=False)\n",
    "        addr = address_df['address'][i] + ', Chicago, IL'\n",
    "        tmp = geocode_address(addr, s)\n",
    "        address_df.loc[i,'lat'] = tmp.lat\n",
    "        address_df.loc[i,'lng'] = tmp.lng\n",
    "    except Exception as e:\n",
    "        failed_inds.append(i)\n",
    "address_df.to_csv('CCPT_frac_1617.csv', index=False)"
   ]
  },
  {
   "cell_type": "code",
   "execution_count": null,
   "metadata": {
    "collapsed": true,
    "scrolled": true
   },
   "outputs": [],
   "source": [
    "address_df[address_df['lat'].isnull()]"
   ]
  },
  {
   "cell_type": "code",
   "execution_count": 37,
   "metadata": {
    "collapsed": true
   },
   "outputs": [],
   "source": [
    "# load the presaved df for geocoded df\n",
    "df_geoloc = pd.read_csv('../data/Geocoded_CCPT_1617.csv')\n",
    "df_geoloc['address'] = df_geoloc['address'] + ', chicago, il'\n"
   ]
  },
  {
   "cell_type": "code",
   "execution_count": 38,
   "metadata": {
    "collapsed": false
   },
   "outputs": [
    {
     "data": {
      "text/html": [
       "<div>\n",
       "<style scoped>\n",
       "    .dataframe tbody tr th:only-of-type {\n",
       "        vertical-align: middle;\n",
       "    }\n",
       "\n",
       "    .dataframe tbody tr th {\n",
       "        vertical-align: top;\n",
       "    }\n",
       "\n",
       "    .dataframe thead th {\n",
       "        text-align: right;\n",
       "    }\n",
       "</style>\n",
       "<table border=\"1\" class=\"dataframe\">\n",
       "  <thead>\n",
       "    <tr style=\"text-align: right;\">\n",
       "      <th></th>\n",
       "      <th>issue_date</th>\n",
       "      <th>license_plate_state</th>\n",
       "      <th>license_plate_type</th>\n",
       "      <th>violation_code</th>\n",
       "      <th>violation_description</th>\n",
       "      <th>vehicle_make</th>\n",
       "      <th>fine_level1_amount</th>\n",
       "      <th>fine_level2_amount</th>\n",
       "      <th>current_amount_due</th>\n",
       "      <th>total_payments</th>\n",
       "      <th>ticket_queue</th>\n",
       "      <th>ticket_queue_date</th>\n",
       "      <th>notice_level</th>\n",
       "      <th>hearing_disposition</th>\n",
       "      <th>officer</th>\n",
       "      <th>address</th>\n",
       "      <th>lat</th>\n",
       "      <th>lng</th>\n",
       "    </tr>\n",
       "  </thead>\n",
       "  <tbody>\n",
       "    <tr>\n",
       "      <th>0</th>\n",
       "      <td>2016-05-19 17:40:00</td>\n",
       "      <td>IL</td>\n",
       "      <td>PAS</td>\n",
       "      <td>0976160A</td>\n",
       "      <td>REAR AND FRONT PLATE REQUIRED</td>\n",
       "      <td>LNDR</td>\n",
       "      <td>60</td>\n",
       "      <td>120</td>\n",
       "      <td>60.0</td>\n",
       "      <td>0.0</td>\n",
       "      <td>Define</td>\n",
       "      <td>2016-05-25 00:00:00</td>\n",
       "      <td>NaN</td>\n",
       "      <td>NaN</td>\n",
       "      <td>05238</td>\n",
       "      <td>500 e 46, chicago, il</td>\n",
       "      <td>41.834909</td>\n",
       "      <td>-87.614170</td>\n",
       "    </tr>\n",
       "    <tr>\n",
       "      <th>1</th>\n",
       "      <td>2016-01-30 00:34:00</td>\n",
       "      <td>IL</td>\n",
       "      <td>TMP</td>\n",
       "      <td>0976160F</td>\n",
       "      <td>EXPIRED PLATES OR TEMPORARY REGISTRATION</td>\n",
       "      <td>CHRY</td>\n",
       "      <td>60</td>\n",
       "      <td>120</td>\n",
       "      <td>146.4</td>\n",
       "      <td>0.0</td>\n",
       "      <td>Notice</td>\n",
       "      <td>2016-02-11 00:00:00</td>\n",
       "      <td>FINL</td>\n",
       "      <td>NaN</td>\n",
       "      <td>10109</td>\n",
       "      <td>500 e 46, chicago, il</td>\n",
       "      <td>41.834909</td>\n",
       "      <td>-87.614170</td>\n",
       "    </tr>\n",
       "    <tr>\n",
       "      <th>2</th>\n",
       "      <td>2016-11-05 20:35:00</td>\n",
       "      <td>IL</td>\n",
       "      <td>PAS</td>\n",
       "      <td>0964100C</td>\n",
       "      <td>BLOCK ACCESS/ALLEY/DRIVEWAY/FIRELANE</td>\n",
       "      <td>HOND</td>\n",
       "      <td>150</td>\n",
       "      <td>300</td>\n",
       "      <td>0.0</td>\n",
       "      <td>150.0</td>\n",
       "      <td>Paid</td>\n",
       "      <td>2016-11-15 00:00:00</td>\n",
       "      <td>NaN</td>\n",
       "      <td>NaN</td>\n",
       "      <td>5121</td>\n",
       "      <td>6100 s archer ave, chicago, il</td>\n",
       "      <td>41.794587</td>\n",
       "      <td>-87.770287</td>\n",
       "    </tr>\n",
       "    <tr>\n",
       "      <th>3</th>\n",
       "      <td>2016-05-27 17:30:00</td>\n",
       "      <td>IL</td>\n",
       "      <td>PAS</td>\n",
       "      <td>0964050J</td>\n",
       "      <td>DISABLED PARKING ZONE</td>\n",
       "      <td>FORD</td>\n",
       "      <td>250</td>\n",
       "      <td>500</td>\n",
       "      <td>0.0</td>\n",
       "      <td>250.0</td>\n",
       "      <td>Paid</td>\n",
       "      <td>2016-06-07 00:00:00</td>\n",
       "      <td>NaN</td>\n",
       "      <td>NaN</td>\n",
       "      <td>5652</td>\n",
       "      <td>6100 s archer ave, chicago, il</td>\n",
       "      <td>41.794587</td>\n",
       "      <td>-87.770287</td>\n",
       "    </tr>\n",
       "    <tr>\n",
       "      <th>4</th>\n",
       "      <td>2017-11-24 16:23:00</td>\n",
       "      <td>IL</td>\n",
       "      <td>PAS</td>\n",
       "      <td>0964100C</td>\n",
       "      <td>BLOCK ACCESS/ALLEY/DRIVEWAY/FIRELANE</td>\n",
       "      <td>DODG</td>\n",
       "      <td>150</td>\n",
       "      <td>300</td>\n",
       "      <td>300.0</td>\n",
       "      <td>0.0</td>\n",
       "      <td>Notice</td>\n",
       "      <td>2017-12-21 00:00:00</td>\n",
       "      <td>FINL</td>\n",
       "      <td>NaN</td>\n",
       "      <td>5652</td>\n",
       "      <td>6100 s archer ave, chicago, il</td>\n",
       "      <td>41.794587</td>\n",
       "      <td>-87.770287</td>\n",
       "    </tr>\n",
       "  </tbody>\n",
       "</table>\n",
       "</div>"
      ],
      "text/plain": [
       "           issue_date license_plate_state license_plate_type violation_code  \\\n",
       "0 2016-05-19 17:40:00                  IL                PAS       0976160A   \n",
       "1 2016-01-30 00:34:00                  IL                TMP       0976160F   \n",
       "2 2016-11-05 20:35:00                  IL                PAS       0964100C   \n",
       "3 2016-05-27 17:30:00                  IL                PAS       0964050J   \n",
       "4 2017-11-24 16:23:00                  IL                PAS       0964100C   \n",
       "\n",
       "                      violation_description vehicle_make  fine_level1_amount  \\\n",
       "0             REAR AND FRONT PLATE REQUIRED         LNDR                  60   \n",
       "1  EXPIRED PLATES OR TEMPORARY REGISTRATION         CHRY                  60   \n",
       "2      BLOCK ACCESS/ALLEY/DRIVEWAY/FIRELANE         HOND                 150   \n",
       "3                     DISABLED PARKING ZONE         FORD                 250   \n",
       "4      BLOCK ACCESS/ALLEY/DRIVEWAY/FIRELANE         DODG                 150   \n",
       "\n",
       "   fine_level2_amount  current_amount_due  total_payments ticket_queue  \\\n",
       "0                 120                60.0             0.0       Define   \n",
       "1                 120               146.4             0.0       Notice   \n",
       "2                 300                 0.0           150.0         Paid   \n",
       "3                 500                 0.0           250.0         Paid   \n",
       "4                 300               300.0             0.0       Notice   \n",
       "\n",
       "     ticket_queue_date notice_level hearing_disposition officer  \\\n",
       "0  2016-05-25 00:00:00          NaN                 NaN   05238   \n",
       "1  2016-02-11 00:00:00         FINL                 NaN   10109   \n",
       "2  2016-11-15 00:00:00          NaN                 NaN    5121   \n",
       "3  2016-06-07 00:00:00          NaN                 NaN    5652   \n",
       "4  2017-12-21 00:00:00         FINL                 NaN    5652   \n",
       "\n",
       "                          address        lat        lng  \n",
       "0           500 e 46, chicago, il  41.834909 -87.614170  \n",
       "1           500 e 46, chicago, il  41.834909 -87.614170  \n",
       "2  6100 s archer ave, chicago, il  41.794587 -87.770287  \n",
       "3  6100 s archer ave, chicago, il  41.794587 -87.770287  \n",
       "4  6100 s archer ave, chicago, il  41.794587 -87.770287  "
      ]
     },
     "execution_count": 38,
     "metadata": {},
     "output_type": "execute_result"
    }
   ],
   "source": [
    "geocoded_df = pd.merge(left=df_CCPT16, right=df_geoloc, how='inner', on='address')\n",
    "geocoded_df.head()"
   ]
  },
  {
   "cell_type": "code",
   "execution_count": 39,
   "metadata": {
    "collapsed": true
   },
   "outputs": [],
   "source": [
    "mask_chi = ((geocoded_df['lat']>=41.63) & (geocoded_df['lat']<= 42.05) &\n",
    "               (geocoded_df['lng']>= -88.0) & (geocoded_df['lng']<= -87.5))\n",
    "\n",
    "geocoded_df = geocoded_df.loc[mask_chi]"
   ]
  },
  {
   "cell_type": "code",
   "execution_count": null,
   "metadata": {
    "collapsed": true
   },
   "outputs": [],
   "source": [
    "import folium\n",
    "import folium.plugins as plugins\n",
    "\n",
    "#from folium.plugins import HeatMap"
   ]
  },
  {
   "cell_type": "code",
   "execution_count": null,
   "metadata": {
    "collapsed": true
   },
   "outputs": [],
   "source": [
    "chicago_lat = 41.8\n",
    "chicago_lng = -87.7"
   ]
  },
  {
   "cell_type": "code",
   "execution_count": null,
   "metadata": {
    "collapsed": false,
    "scrolled": true
   },
   "outputs": [],
   "source": [
    "df_permit = geocoded_df.loc[geocoded_df['violation_description'] == 'RESIDENTIAL PERMIT PARKING']\n",
    "df_permit.head()\n",
    "#df_CCPT16['issue_date'].groupby(df_CCPT16['issue_date'].dt.hour).count().plot(kind='bar')"
   ]
  },
  {
   "cell_type": "code",
   "execution_count": null,
   "metadata": {
    "collapsed": true
   },
   "outputs": [],
   "source": [
    "df_permit_hm = df_permit[['lat','lng']]"
   ]
  },
  {
   "cell_type": "code",
   "execution_count": null,
   "metadata": {
    "collapsed": true
   },
   "outputs": [],
   "source": [
    "# There are quite some outliers, here I will just remove the ones outside Chicago, \n",
    "# later I will do the more careful cleaning\n",
    "\n",
    "mask_chi = ((df_permit['lat']>=41.63) & (df_permit['lat']<= 42.05) &\n",
    "               (df_permit['lng']>= -88.0) & (df_permit['lng']<= -87.5))\n",
    "df_permit_hm = df_permit_hm.loc[mask_chi]"
   ]
  },
  {
   "cell_type": "code",
   "execution_count": null,
   "metadata": {
    "collapsed": true
   },
   "outputs": [],
   "source": [
    "permit_data = [[row['lat'],row['lng']] for index, row in df_permit_hm.iterrows()]"
   ]
  },
  {
   "cell_type": "code",
   "execution_count": null,
   "metadata": {
    "collapsed": false
   },
   "outputs": [],
   "source": [
    "np.size(permit_data)"
   ]
  },
  {
   "cell_type": "code",
   "execution_count": null,
   "metadata": {
    "collapsed": false
   },
   "outputs": [],
   "source": [
    "m = folium.Map([chicago_lat,chicago_lng],  tiles = \"Stamen Toner\",zoom_start=10)\n",
    "hm = plugins.HeatMap(permit_data,radius = 9)\n",
    "hm.add_to(m)\n",
    "m"
   ]
  },
  {
   "cell_type": "code",
   "execution_count": null,
   "metadata": {
    "collapsed": true,
    "scrolled": true
   },
   "outputs": [],
   "source": [
    "df_permit['Weight'] = df_permit['issue_date'].dt.hour\n",
    "df_permit['Weight'] = df_permit['Weight'].astype(float)\n",
    "df_permit_hmt = df_permit[['lat','lng','Weight']]"
   ]
  },
  {
   "cell_type": "code",
   "execution_count": null,
   "metadata": {
    "collapsed": true
   },
   "outputs": [],
   "source": [
    "permit_timeseries = [[[row['lat'],row['lng']] \n",
    "                           for index, row in df_permit_hmt[df_permit_hmt['Weight'] == i].iterrows()] for i in range(0,24)]"
   ]
  },
  {
   "cell_type": "code",
   "execution_count": null,
   "metadata": {
    "collapsed": true,
    "scrolled": false
   },
   "outputs": [],
   "source": [
    "hours_indx = [(datetime.time(i).strftime('%I %p')) for i in range(24)]\n",
    "mt = folium.Map([chicago_lat,chicago_lng],tiles = \"Stamen Toner\",zoom_start=10)\n",
    "hmt = plugins.HeatMapWithTime(permit_timeseries,auto_play=True,radius = 5, min_opacity = 1,index = hours_indx)\n",
    "hmt.add_to(mt)\n",
    "mt"
   ]
  },
  {
   "cell_type": "code",
   "execution_count": null,
   "metadata": {
    "collapsed": true
   },
   "outputs": [],
   "source": [
    "plt.figure(figsize=(16,8))\n",
    "df_permit['issue_date'].groupby(df_permit['issue_date'].dt.hour).count().plot(kind='bar')\n",
    "plt.tick_params(labelbottom='on')\n",
    "plt.ylabel('No. of cars', fontsize=16);\n",
    "plt.xlabel('Day Time', fontsize=16);\n",
    "plt.title('Parking ticket issued at different time of the day', fontsize=16);\n"
   ]
  },
  {
   "cell_type": "code",
   "execution_count": null,
   "metadata": {
    "collapsed": true
   },
   "outputs": [],
   "source": [
    "# machine learning\n",
    "from sklearn.linear_model import LogisticRegression\n",
    "from sklearn.svm import SVC, LinearSVC\n",
    "from sklearn.ensemble import RandomForestClassifier\n",
    "from sklearn.neighbors import KNeighborsClassifier\n",
    "from sklearn.naive_bayes import GaussianNB\n",
    "from sklearn.linear_model import Perceptron\n",
    "from sklearn.linear_model import SGDClassifier\n",
    "from sklearn.tree import DecisionTreeClassifier"
   ]
  },
  {
   "cell_type": "code",
   "execution_count": 40,
   "metadata": {
    "collapsed": false
   },
   "outputs": [
    {
     "data": {
      "text/html": [
       "<div>\n",
       "<style scoped>\n",
       "    .dataframe tbody tr th:only-of-type {\n",
       "        vertical-align: middle;\n",
       "    }\n",
       "\n",
       "    .dataframe tbody tr th {\n",
       "        vertical-align: top;\n",
       "    }\n",
       "\n",
       "    .dataframe thead th {\n",
       "        text-align: right;\n",
       "    }\n",
       "</style>\n",
       "<table border=\"1\" class=\"dataframe\">\n",
       "  <thead>\n",
       "    <tr style=\"text-align: right;\">\n",
       "      <th></th>\n",
       "      <th>issue_date</th>\n",
       "      <th>license_plate_state</th>\n",
       "      <th>license_plate_type</th>\n",
       "      <th>violation_code</th>\n",
       "      <th>violation_description</th>\n",
       "      <th>vehicle_make</th>\n",
       "      <th>fine_level1_amount</th>\n",
       "      <th>fine_level2_amount</th>\n",
       "      <th>current_amount_due</th>\n",
       "      <th>total_payments</th>\n",
       "      <th>ticket_queue</th>\n",
       "      <th>ticket_queue_date</th>\n",
       "      <th>notice_level</th>\n",
       "      <th>hearing_disposition</th>\n",
       "      <th>officer</th>\n",
       "      <th>address</th>\n",
       "      <th>lat</th>\n",
       "      <th>lng</th>\n",
       "    </tr>\n",
       "  </thead>\n",
       "  <tbody>\n",
       "    <tr>\n",
       "      <th>0</th>\n",
       "      <td>2016-05-19 17:40:00</td>\n",
       "      <td>IL</td>\n",
       "      <td>PAS</td>\n",
       "      <td>0976160A</td>\n",
       "      <td>REAR AND FRONT PLATE REQUIRED</td>\n",
       "      <td>LNDR</td>\n",
       "      <td>60</td>\n",
       "      <td>120</td>\n",
       "      <td>60.0</td>\n",
       "      <td>0.0</td>\n",
       "      <td>Define</td>\n",
       "      <td>2016-05-25 00:00:00</td>\n",
       "      <td>NaN</td>\n",
       "      <td>NaN</td>\n",
       "      <td>05238</td>\n",
       "      <td>500 e 46, chicago, il</td>\n",
       "      <td>41.834909</td>\n",
       "      <td>-87.614170</td>\n",
       "    </tr>\n",
       "    <tr>\n",
       "      <th>1</th>\n",
       "      <td>2016-01-30 00:34:00</td>\n",
       "      <td>IL</td>\n",
       "      <td>TMP</td>\n",
       "      <td>0976160F</td>\n",
       "      <td>EXPIRED PLATES OR TEMPORARY REGISTRATION</td>\n",
       "      <td>CHRY</td>\n",
       "      <td>60</td>\n",
       "      <td>120</td>\n",
       "      <td>146.4</td>\n",
       "      <td>0.0</td>\n",
       "      <td>Notice</td>\n",
       "      <td>2016-02-11 00:00:00</td>\n",
       "      <td>FINL</td>\n",
       "      <td>NaN</td>\n",
       "      <td>10109</td>\n",
       "      <td>500 e 46, chicago, il</td>\n",
       "      <td>41.834909</td>\n",
       "      <td>-87.614170</td>\n",
       "    </tr>\n",
       "    <tr>\n",
       "      <th>2</th>\n",
       "      <td>2016-11-05 20:35:00</td>\n",
       "      <td>IL</td>\n",
       "      <td>PAS</td>\n",
       "      <td>0964100C</td>\n",
       "      <td>BLOCK ACCESS/ALLEY/DRIVEWAY/FIRELANE</td>\n",
       "      <td>HOND</td>\n",
       "      <td>150</td>\n",
       "      <td>300</td>\n",
       "      <td>0.0</td>\n",
       "      <td>150.0</td>\n",
       "      <td>Paid</td>\n",
       "      <td>2016-11-15 00:00:00</td>\n",
       "      <td>NaN</td>\n",
       "      <td>NaN</td>\n",
       "      <td>5121</td>\n",
       "      <td>6100 s archer ave, chicago, il</td>\n",
       "      <td>41.794587</td>\n",
       "      <td>-87.770287</td>\n",
       "    </tr>\n",
       "    <tr>\n",
       "      <th>3</th>\n",
       "      <td>2016-05-27 17:30:00</td>\n",
       "      <td>IL</td>\n",
       "      <td>PAS</td>\n",
       "      <td>0964050J</td>\n",
       "      <td>DISABLED PARKING ZONE</td>\n",
       "      <td>FORD</td>\n",
       "      <td>250</td>\n",
       "      <td>500</td>\n",
       "      <td>0.0</td>\n",
       "      <td>250.0</td>\n",
       "      <td>Paid</td>\n",
       "      <td>2016-06-07 00:00:00</td>\n",
       "      <td>NaN</td>\n",
       "      <td>NaN</td>\n",
       "      <td>5652</td>\n",
       "      <td>6100 s archer ave, chicago, il</td>\n",
       "      <td>41.794587</td>\n",
       "      <td>-87.770287</td>\n",
       "    </tr>\n",
       "    <tr>\n",
       "      <th>4</th>\n",
       "      <td>2017-11-24 16:23:00</td>\n",
       "      <td>IL</td>\n",
       "      <td>PAS</td>\n",
       "      <td>0964100C</td>\n",
       "      <td>BLOCK ACCESS/ALLEY/DRIVEWAY/FIRELANE</td>\n",
       "      <td>DODG</td>\n",
       "      <td>150</td>\n",
       "      <td>300</td>\n",
       "      <td>300.0</td>\n",
       "      <td>0.0</td>\n",
       "      <td>Notice</td>\n",
       "      <td>2017-12-21 00:00:00</td>\n",
       "      <td>FINL</td>\n",
       "      <td>NaN</td>\n",
       "      <td>5652</td>\n",
       "      <td>6100 s archer ave, chicago, il</td>\n",
       "      <td>41.794587</td>\n",
       "      <td>-87.770287</td>\n",
       "    </tr>\n",
       "  </tbody>\n",
       "</table>\n",
       "</div>"
      ],
      "text/plain": [
       "           issue_date license_plate_state license_plate_type violation_code  \\\n",
       "0 2016-05-19 17:40:00                  IL                PAS       0976160A   \n",
       "1 2016-01-30 00:34:00                  IL                TMP       0976160F   \n",
       "2 2016-11-05 20:35:00                  IL                PAS       0964100C   \n",
       "3 2016-05-27 17:30:00                  IL                PAS       0964050J   \n",
       "4 2017-11-24 16:23:00                  IL                PAS       0964100C   \n",
       "\n",
       "                      violation_description vehicle_make  fine_level1_amount  \\\n",
       "0             REAR AND FRONT PLATE REQUIRED         LNDR                  60   \n",
       "1  EXPIRED PLATES OR TEMPORARY REGISTRATION         CHRY                  60   \n",
       "2      BLOCK ACCESS/ALLEY/DRIVEWAY/FIRELANE         HOND                 150   \n",
       "3                     DISABLED PARKING ZONE         FORD                 250   \n",
       "4      BLOCK ACCESS/ALLEY/DRIVEWAY/FIRELANE         DODG                 150   \n",
       "\n",
       "   fine_level2_amount  current_amount_due  total_payments ticket_queue  \\\n",
       "0                 120                60.0             0.0       Define   \n",
       "1                 120               146.4             0.0       Notice   \n",
       "2                 300                 0.0           150.0         Paid   \n",
       "3                 500                 0.0           250.0         Paid   \n",
       "4                 300               300.0             0.0       Notice   \n",
       "\n",
       "     ticket_queue_date notice_level hearing_disposition officer  \\\n",
       "0  2016-05-25 00:00:00          NaN                 NaN   05238   \n",
       "1  2016-02-11 00:00:00         FINL                 NaN   10109   \n",
       "2  2016-11-15 00:00:00          NaN                 NaN    5121   \n",
       "3  2016-06-07 00:00:00          NaN                 NaN    5652   \n",
       "4  2017-12-21 00:00:00         FINL                 NaN    5652   \n",
       "\n",
       "                          address        lat        lng  \n",
       "0           500 e 46, chicago, il  41.834909 -87.614170  \n",
       "1           500 e 46, chicago, il  41.834909 -87.614170  \n",
       "2  6100 s archer ave, chicago, il  41.794587 -87.770287  \n",
       "3  6100 s archer ave, chicago, il  41.794587 -87.770287  \n",
       "4  6100 s archer ave, chicago, il  41.794587 -87.770287  "
      ]
     },
     "execution_count": 40,
     "metadata": {},
     "output_type": "execute_result"
    }
   ],
   "source": [
    "geocoded_df.head()"
   ]
  },
  {
   "cell_type": "code",
   "execution_count": 41,
   "metadata": {
    "collapsed": true
   },
   "outputs": [],
   "source": [
    "to_drop = ['fine_level2_amount','current_amount_due','total_payments',\n",
    "          'ticket_queue_date','notice_level','hearing_disposition','address']\n",
    "geocoded_df.drop(labels=to_drop ,axis = 1,inplace = True)"
   ]
  },
  {
   "cell_type": "code",
   "execution_count": 43,
   "metadata": {
    "collapsed": false
   },
   "outputs": [
    {
     "data": {
      "text/html": [
       "<div>\n",
       "<style scoped>\n",
       "    .dataframe tbody tr th:only-of-type {\n",
       "        vertical-align: middle;\n",
       "    }\n",
       "\n",
       "    .dataframe tbody tr th {\n",
       "        vertical-align: top;\n",
       "    }\n",
       "\n",
       "    .dataframe thead th {\n",
       "        text-align: right;\n",
       "    }\n",
       "</style>\n",
       "<table border=\"1\" class=\"dataframe\">\n",
       "  <thead>\n",
       "    <tr style=\"text-align: right;\">\n",
       "      <th></th>\n",
       "      <th>Unique Entry</th>\n",
       "      <th>Nan Entry</th>\n",
       "    </tr>\n",
       "  </thead>\n",
       "  <tbody>\n",
       "    <tr>\n",
       "      <th>issue_date</th>\n",
       "      <td>486704</td>\n",
       "      <td>False</td>\n",
       "    </tr>\n",
       "    <tr>\n",
       "      <th>license_plate_state</th>\n",
       "      <td>62</td>\n",
       "      <td>False</td>\n",
       "    </tr>\n",
       "    <tr>\n",
       "      <th>license_plate_type</th>\n",
       "      <td>132</td>\n",
       "      <td>False</td>\n",
       "    </tr>\n",
       "    <tr>\n",
       "      <th>violation_code</th>\n",
       "      <td>111</td>\n",
       "      <td>False</td>\n",
       "    </tr>\n",
       "    <tr>\n",
       "      <th>violation_description</th>\n",
       "      <td>112</td>\n",
       "      <td>False</td>\n",
       "    </tr>\n",
       "    <tr>\n",
       "      <th>vehicle_make</th>\n",
       "      <td>149</td>\n",
       "      <td>False</td>\n",
       "    </tr>\n",
       "    <tr>\n",
       "      <th>fine_level1_amount</th>\n",
       "      <td>14</td>\n",
       "      <td>False</td>\n",
       "    </tr>\n",
       "    <tr>\n",
       "      <th>ticket_queue</th>\n",
       "      <td>7</td>\n",
       "      <td>False</td>\n",
       "    </tr>\n",
       "    <tr>\n",
       "      <th>officer</th>\n",
       "      <td>10530</td>\n",
       "      <td>False</td>\n",
       "    </tr>\n",
       "    <tr>\n",
       "      <th>lat</th>\n",
       "      <td>14753</td>\n",
       "      <td>False</td>\n",
       "    </tr>\n",
       "    <tr>\n",
       "      <th>lng</th>\n",
       "      <td>14860</td>\n",
       "      <td>False</td>\n",
       "    </tr>\n",
       "  </tbody>\n",
       "</table>\n",
       "</div>"
      ],
      "text/plain": [
       "                       Unique Entry  Nan Entry\n",
       "issue_date                   486704      False\n",
       "license_plate_state              62      False\n",
       "license_plate_type              132      False\n",
       "violation_code                  111      False\n",
       "violation_description           112      False\n",
       "vehicle_make                    149      False\n",
       "fine_level1_amount               14      False\n",
       "ticket_queue                      7      False\n",
       "officer                       10530      False\n",
       "lat                           14753      False\n",
       "lng                           14860      False"
      ]
     },
     "execution_count": 43,
     "metadata": {},
     "output_type": "execute_result"
    }
   ],
   "source": [
    "hd = {'Unique Entry': geocoded_df.nunique(axis = 0),\n",
    "        'Nan Entry': geocoded_df.isnull().any()}\n",
    "pd.DataFrame(data = hd, index = geocoded_df.columns.values)"
   ]
  },
  {
   "cell_type": "code",
   "execution_count": null,
   "metadata": {
    "collapsed": true
   },
   "outputs": [],
   "source": []
  },
  {
   "cell_type": "code",
   "execution_count": 44,
   "metadata": {
    "collapsed": false
   },
   "outputs": [
    {
     "data": {
      "text/plain": [
       "Paid           533709\n",
       "Notice         157280\n",
       "Dismissed       72936\n",
       "Define          71239\n",
       "Bankruptcy       9229\n",
       "Court             537\n",
       "Hearing Req        61\n",
       "Name: ticket_queue, dtype: int64"
      ]
     },
     "execution_count": 44,
     "metadata": {},
     "output_type": "execute_result"
    }
   ],
   "source": [
    "geocoded_df['ticket_queue'].value_counts()"
   ]
  },
  {
   "cell_type": "code",
   "execution_count": 45,
   "metadata": {
    "collapsed": true
   },
   "outputs": [],
   "source": [
    "geocoded_df['Outcome'] = np.nan\n",
    "geocoded_df['Outcome'] = geocoded_df['ticket_queue'].map( {'Paid': 0, 'Dismissed': 1, 'Notice': 2,'Define':3,'Bankruptcy':3,'Court':3,'Hearing Req':3} ).astype(int)\n",
    "#geocoded_df.loc[geocoded_df['ticket_queue']=='Court']"
   ]
  },
  {
   "cell_type": "code",
   "execution_count": 46,
   "metadata": {
    "collapsed": true
   },
   "outputs": [],
   "source": [
    "wd = {'Month':geocoded_df['issue_date'].dt.month,\n",
    "      'Weekday': geocoded_df['issue_date'].dt.weekday,\n",
    "      'Hour': geocoded_df['issue_date'].dt.hour}\n",
    "df_date = pd.DataFrame(data = wd, index = geocoded_df.index)"
   ]
  },
  {
   "cell_type": "code",
   "execution_count": 47,
   "metadata": {
    "collapsed": true
   },
   "outputs": [],
   "source": [
    "df_ml = pd.concat([geocoded_df,df_date],axis=1)"
   ]
  },
  {
   "cell_type": "code",
   "execution_count": 48,
   "metadata": {
    "collapsed": false
   },
   "outputs": [
    {
     "data": {
      "text/html": [
       "<div>\n",
       "<style scoped>\n",
       "    .dataframe tbody tr th:only-of-type {\n",
       "        vertical-align: middle;\n",
       "    }\n",
       "\n",
       "    .dataframe tbody tr th {\n",
       "        vertical-align: top;\n",
       "    }\n",
       "\n",
       "    .dataframe thead th {\n",
       "        text-align: right;\n",
       "    }\n",
       "</style>\n",
       "<table border=\"1\" class=\"dataframe\">\n",
       "  <thead>\n",
       "    <tr style=\"text-align: right;\">\n",
       "      <th></th>\n",
       "      <th>issue_date</th>\n",
       "      <th>license_plate_state</th>\n",
       "      <th>license_plate_type</th>\n",
       "      <th>violation_code</th>\n",
       "      <th>violation_description</th>\n",
       "      <th>vehicle_make</th>\n",
       "      <th>fine_level1_amount</th>\n",
       "      <th>ticket_queue</th>\n",
       "      <th>officer</th>\n",
       "      <th>lat</th>\n",
       "      <th>lng</th>\n",
       "      <th>Outcome</th>\n",
       "      <th>Month</th>\n",
       "      <th>Weekday</th>\n",
       "      <th>Hour</th>\n",
       "    </tr>\n",
       "  </thead>\n",
       "  <tbody>\n",
       "    <tr>\n",
       "      <th>0</th>\n",
       "      <td>2016-05-19 17:40:00</td>\n",
       "      <td>IL</td>\n",
       "      <td>PAS</td>\n",
       "      <td>0976160A</td>\n",
       "      <td>REAR AND FRONT PLATE REQUIRED</td>\n",
       "      <td>LNDR</td>\n",
       "      <td>60</td>\n",
       "      <td>Define</td>\n",
       "      <td>05238</td>\n",
       "      <td>41.834909</td>\n",
       "      <td>-87.614170</td>\n",
       "      <td>3</td>\n",
       "      <td>5</td>\n",
       "      <td>3</td>\n",
       "      <td>17</td>\n",
       "    </tr>\n",
       "    <tr>\n",
       "      <th>1</th>\n",
       "      <td>2016-01-30 00:34:00</td>\n",
       "      <td>IL</td>\n",
       "      <td>TMP</td>\n",
       "      <td>0976160F</td>\n",
       "      <td>EXPIRED PLATES OR TEMPORARY REGISTRATION</td>\n",
       "      <td>CHRY</td>\n",
       "      <td>60</td>\n",
       "      <td>Notice</td>\n",
       "      <td>10109</td>\n",
       "      <td>41.834909</td>\n",
       "      <td>-87.614170</td>\n",
       "      <td>2</td>\n",
       "      <td>1</td>\n",
       "      <td>5</td>\n",
       "      <td>0</td>\n",
       "    </tr>\n",
       "    <tr>\n",
       "      <th>2</th>\n",
       "      <td>2016-11-05 20:35:00</td>\n",
       "      <td>IL</td>\n",
       "      <td>PAS</td>\n",
       "      <td>0964100C</td>\n",
       "      <td>BLOCK ACCESS/ALLEY/DRIVEWAY/FIRELANE</td>\n",
       "      <td>HOND</td>\n",
       "      <td>150</td>\n",
       "      <td>Paid</td>\n",
       "      <td>5121</td>\n",
       "      <td>41.794587</td>\n",
       "      <td>-87.770287</td>\n",
       "      <td>0</td>\n",
       "      <td>11</td>\n",
       "      <td>5</td>\n",
       "      <td>20</td>\n",
       "    </tr>\n",
       "    <tr>\n",
       "      <th>3</th>\n",
       "      <td>2016-05-27 17:30:00</td>\n",
       "      <td>IL</td>\n",
       "      <td>PAS</td>\n",
       "      <td>0964050J</td>\n",
       "      <td>DISABLED PARKING ZONE</td>\n",
       "      <td>FORD</td>\n",
       "      <td>250</td>\n",
       "      <td>Paid</td>\n",
       "      <td>5652</td>\n",
       "      <td>41.794587</td>\n",
       "      <td>-87.770287</td>\n",
       "      <td>0</td>\n",
       "      <td>5</td>\n",
       "      <td>4</td>\n",
       "      <td>17</td>\n",
       "    </tr>\n",
       "    <tr>\n",
       "      <th>4</th>\n",
       "      <td>2017-11-24 16:23:00</td>\n",
       "      <td>IL</td>\n",
       "      <td>PAS</td>\n",
       "      <td>0964100C</td>\n",
       "      <td>BLOCK ACCESS/ALLEY/DRIVEWAY/FIRELANE</td>\n",
       "      <td>DODG</td>\n",
       "      <td>150</td>\n",
       "      <td>Notice</td>\n",
       "      <td>5652</td>\n",
       "      <td>41.794587</td>\n",
       "      <td>-87.770287</td>\n",
       "      <td>2</td>\n",
       "      <td>11</td>\n",
       "      <td>4</td>\n",
       "      <td>16</td>\n",
       "    </tr>\n",
       "  </tbody>\n",
       "</table>\n",
       "</div>"
      ],
      "text/plain": [
       "           issue_date license_plate_state license_plate_type violation_code  \\\n",
       "0 2016-05-19 17:40:00                  IL                PAS       0976160A   \n",
       "1 2016-01-30 00:34:00                  IL                TMP       0976160F   \n",
       "2 2016-11-05 20:35:00                  IL                PAS       0964100C   \n",
       "3 2016-05-27 17:30:00                  IL                PAS       0964050J   \n",
       "4 2017-11-24 16:23:00                  IL                PAS       0964100C   \n",
       "\n",
       "                      violation_description vehicle_make  fine_level1_amount  \\\n",
       "0             REAR AND FRONT PLATE REQUIRED         LNDR                  60   \n",
       "1  EXPIRED PLATES OR TEMPORARY REGISTRATION         CHRY                  60   \n",
       "2      BLOCK ACCESS/ALLEY/DRIVEWAY/FIRELANE         HOND                 150   \n",
       "3                     DISABLED PARKING ZONE         FORD                 250   \n",
       "4      BLOCK ACCESS/ALLEY/DRIVEWAY/FIRELANE         DODG                 150   \n",
       "\n",
       "  ticket_queue officer        lat        lng  Outcome  Month  Weekday  Hour  \n",
       "0       Define   05238  41.834909 -87.614170        3      5        3    17  \n",
       "1       Notice   10109  41.834909 -87.614170        2      1        5     0  \n",
       "2         Paid    5121  41.794587 -87.770287        0     11        5    20  \n",
       "3         Paid    5652  41.794587 -87.770287        0      5        4    17  \n",
       "4       Notice    5652  41.794587 -87.770287        2     11        4    16  "
      ]
     },
     "execution_count": 48,
     "metadata": {},
     "output_type": "execute_result"
    }
   ],
   "source": [
    "df_ml.head()"
   ]
  },
  {
   "cell_type": "code",
   "execution_count": 49,
   "metadata": {
    "collapsed": true
   },
   "outputs": [],
   "source": [
    "mask_in_state = (df_ml['license_plate_state'] == 'IL')\n",
    "df_ml['Plate_State'] = np.zeros(df_ml['license_plate_state'].count()).astype(int)\n",
    "df_ml.loc[mask_in_state,'Plate_State'] = np.ones(df_ml.loc[mask_in_state]['Plate_State'].count()).astype(int)"
   ]
  },
  {
   "cell_type": "code",
   "execution_count": 56,
   "metadata": {
    "collapsed": false,
    "scrolled": true
   },
   "outputs": [
    {
     "data": {
      "text/plain": [
       "PAS    728753\n",
       "TRK     40702\n",
       "TMP     33151\n",
       "OTH     25072\n",
       "TXI      9464\n",
       "DLC      4484\n",
       "FFM      3365\n",
       "Name: license_plate_type, dtype: int64"
      ]
     },
     "execution_count": 56,
     "metadata": {},
     "output_type": "execute_result"
    }
   ],
   "source": [
    "df_ml['license_plate_type'].value_counts().head(20)"
   ]
  },
  {
   "cell_type": "code",
   "execution_count": 51,
   "metadata": {
    "collapsed": true
   },
   "outputs": [],
   "source": [
    "mask_plate_type = df_ml['license_plate_type'].isin(['PAS','TRK','TMP','TXI','DLC','FFM'])\n",
    "df_ml.loc[~mask_plate_type,'license_plate_type'] = 'OTH'"
   ]
  },
  {
   "cell_type": "code",
   "execution_count": 58,
   "metadata": {
    "collapsed": false
   },
   "outputs": [
    {
     "data": {
      "text/html": [
       "<div>\n",
       "<style scoped>\n",
       "    .dataframe tbody tr th:only-of-type {\n",
       "        vertical-align: middle;\n",
       "    }\n",
       "\n",
       "    .dataframe tbody tr th {\n",
       "        vertical-align: top;\n",
       "    }\n",
       "\n",
       "    .dataframe thead th {\n",
       "        text-align: right;\n",
       "    }\n",
       "</style>\n",
       "<table border=\"1\" class=\"dataframe\">\n",
       "  <thead>\n",
       "    <tr style=\"text-align: right;\">\n",
       "      <th></th>\n",
       "      <th>issue_date</th>\n",
       "      <th>license_plate_state</th>\n",
       "      <th>license_plate_type</th>\n",
       "      <th>violation_code</th>\n",
       "      <th>violation_description</th>\n",
       "      <th>vehicle_make</th>\n",
       "      <th>fine_level1_amount</th>\n",
       "      <th>ticket_queue</th>\n",
       "      <th>officer</th>\n",
       "      <th>lat</th>\n",
       "      <th>lng</th>\n",
       "      <th>Outcome</th>\n",
       "      <th>Month</th>\n",
       "      <th>Weekday</th>\n",
       "      <th>Hour</th>\n",
       "      <th>Plate_State</th>\n",
       "    </tr>\n",
       "  </thead>\n",
       "  <tbody>\n",
       "    <tr>\n",
       "      <th>163</th>\n",
       "      <td>2016-03-02 13:52:00</td>\n",
       "      <td>IL</td>\n",
       "      <td>OTH</td>\n",
       "      <td>0964190A</td>\n",
       "      <td>EXP. METER NON-CENTRAL BUSINESS DISTRICT</td>\n",
       "      <td>TOYT</td>\n",
       "      <td>50</td>\n",
       "      <td>Paid</td>\n",
       "      <td>805</td>\n",
       "      <td>41.857914</td>\n",
       "      <td>-87.663931</td>\n",
       "      <td>0</td>\n",
       "      <td>3</td>\n",
       "      <td>2</td>\n",
       "      <td>13</td>\n",
       "      <td>1</td>\n",
       "    </tr>\n",
       "    <tr>\n",
       "      <th>204</th>\n",
       "      <td>2016-01-25 13:25:00</td>\n",
       "      <td>IL</td>\n",
       "      <td>OTH</td>\n",
       "      <td>0976160F</td>\n",
       "      <td>EXPIRED PLATES OR TEMPORARY REGISTRATION</td>\n",
       "      <td>HYUN</td>\n",
       "      <td>60</td>\n",
       "      <td>Paid</td>\n",
       "      <td>800</td>\n",
       "      <td>41.857914</td>\n",
       "      <td>-87.663931</td>\n",
       "      <td>0</td>\n",
       "      <td>1</td>\n",
       "      <td>0</td>\n",
       "      <td>13</td>\n",
       "      <td>1</td>\n",
       "    </tr>\n",
       "    <tr>\n",
       "      <th>239</th>\n",
       "      <td>2017-09-13 18:35:00</td>\n",
       "      <td>IL</td>\n",
       "      <td>OTH</td>\n",
       "      <td>0964190A</td>\n",
       "      <td>EXP. METER NON-CENTRAL BUSINESS DISTRICT</td>\n",
       "      <td>CHEV</td>\n",
       "      <td>50</td>\n",
       "      <td>Define</td>\n",
       "      <td>1606</td>\n",
       "      <td>41.857914</td>\n",
       "      <td>-87.663931</td>\n",
       "      <td>3</td>\n",
       "      <td>9</td>\n",
       "      <td>2</td>\n",
       "      <td>18</td>\n",
       "      <td>1</td>\n",
       "    </tr>\n",
       "    <tr>\n",
       "      <th>252</th>\n",
       "      <td>2017-06-30 20:34:00</td>\n",
       "      <td>IL</td>\n",
       "      <td>OTH</td>\n",
       "      <td>0976160A</td>\n",
       "      <td>REAR AND FRONT PLATE REQUIRED</td>\n",
       "      <td>JEEP</td>\n",
       "      <td>60</td>\n",
       "      <td>Paid</td>\n",
       "      <td>1623</td>\n",
       "      <td>41.857914</td>\n",
       "      <td>-87.663931</td>\n",
       "      <td>0</td>\n",
       "      <td>6</td>\n",
       "      <td>4</td>\n",
       "      <td>20</td>\n",
       "      <td>1</td>\n",
       "    </tr>\n",
       "    <tr>\n",
       "      <th>272</th>\n",
       "      <td>2016-09-07 20:05:00</td>\n",
       "      <td>IL</td>\n",
       "      <td>OTH</td>\n",
       "      <td>0976160F</td>\n",
       "      <td>EXPIRED PLATES OR TEMPORARY REGISTRATION</td>\n",
       "      <td>VESP</td>\n",
       "      <td>60</td>\n",
       "      <td>Paid</td>\n",
       "      <td>1565</td>\n",
       "      <td>41.857914</td>\n",
       "      <td>-87.663931</td>\n",
       "      <td>0</td>\n",
       "      <td>9</td>\n",
       "      <td>2</td>\n",
       "      <td>20</td>\n",
       "      <td>1</td>\n",
       "    </tr>\n",
       "  </tbody>\n",
       "</table>\n",
       "</div>"
      ],
      "text/plain": [
       "             issue_date license_plate_state license_plate_type violation_code  \\\n",
       "163 2016-03-02 13:52:00                  IL                OTH       0964190A   \n",
       "204 2016-01-25 13:25:00                  IL                OTH       0976160F   \n",
       "239 2017-09-13 18:35:00                  IL                OTH       0964190A   \n",
       "252 2017-06-30 20:34:00                  IL                OTH       0976160A   \n",
       "272 2016-09-07 20:05:00                  IL                OTH       0976160F   \n",
       "\n",
       "                        violation_description vehicle_make  \\\n",
       "163  EXP. METER NON-CENTRAL BUSINESS DISTRICT         TOYT   \n",
       "204  EXPIRED PLATES OR TEMPORARY REGISTRATION         HYUN   \n",
       "239  EXP. METER NON-CENTRAL BUSINESS DISTRICT         CHEV   \n",
       "252             REAR AND FRONT PLATE REQUIRED         JEEP   \n",
       "272  EXPIRED PLATES OR TEMPORARY REGISTRATION         VESP   \n",
       "\n",
       "     fine_level1_amount ticket_queue officer        lat        lng  Outcome  \\\n",
       "163                  50         Paid     805  41.857914 -87.663931        0   \n",
       "204                  60         Paid     800  41.857914 -87.663931        0   \n",
       "239                  50       Define    1606  41.857914 -87.663931        3   \n",
       "252                  60         Paid    1623  41.857914 -87.663931        0   \n",
       "272                  60         Paid    1565  41.857914 -87.663931        0   \n",
       "\n",
       "     Month  Weekday  Hour  Plate_State  \n",
       "163      3        2    13            1  \n",
       "204      1        0    13            1  \n",
       "239      9        2    18            1  \n",
       "252      6        4    20            1  \n",
       "272      9        2    20            1  "
      ]
     },
     "execution_count": 58,
     "metadata": {},
     "output_type": "execute_result"
    }
   ],
   "source": [
    "df_ml.loc[~mask_plate_type].head()"
   ]
  },
  {
   "cell_type": "code",
   "execution_count": 59,
   "metadata": {
    "collapsed": false
   },
   "outputs": [
    {
     "data": {
      "text/plain": [
       "PAS    728753\n",
       "TRK     40702\n",
       "TMP     33151\n",
       "OTH     25072\n",
       "TXI      9464\n",
       "Name: license_plate_type, dtype: int64"
      ]
     },
     "execution_count": 59,
     "metadata": {},
     "output_type": "execute_result"
    }
   ],
   "source": [
    "df_ml['license_plate_type'].value_counts().head()"
   ]
  },
  {
   "cell_type": "code",
   "execution_count": 60,
   "metadata": {
    "collapsed": false,
    "scrolled": true
   },
   "outputs": [
    {
     "data": {
      "text/plain": [
       "CHEV    106423\n",
       "FORD     88955\n",
       "TOYT     88396\n",
       "HOND     70864\n",
       "NISS     65097\n",
       "Name: vehicle_make, dtype: int64"
      ]
     },
     "execution_count": 60,
     "metadata": {},
     "output_type": "execute_result"
    }
   ],
   "source": [
    "df_ml['vehicle_make'].value_counts().head()"
   ]
  },
  {
   "cell_type": "code",
   "execution_count": 61,
   "metadata": {
    "collapsed": true
   },
   "outputs": [],
   "source": [
    "violation_type = df_ml['violation_description'].value_counts().index\n",
    "mask_vio_type = df_ml['violation_description'].isin(violation_type[:25])\n",
    "df_ml.loc[~mask_vio_type,'violation_description'] = 'OTHER'"
   ]
  },
  {
   "cell_type": "code",
   "execution_count": null,
   "metadata": {
    "collapsed": false
   },
   "outputs": [],
   "source": [
    "df_ml.loc[~mask_vio_type]"
   ]
  },
  {
   "cell_type": "code",
   "execution_count": 62,
   "metadata": {
    "collapsed": false
   },
   "outputs": [
    {
     "data": {
      "text/plain": [
       "EXPIRED PLATES OR TEMPORARY REGISTRATION              119408\n",
       "STREET CLEANING                                       102610\n",
       "EXP. METER NON-CENTRAL BUSINESS DISTRICT               95059\n",
       "NO CITY STICKER VEHICLE UNDER/EQUAL TO 16,000 LBS.     84112\n",
       "RESIDENTIAL PERMIT PARKING                             75478\n",
       "PARKING/STANDING PROHIBITED ANYTIME                    58473\n",
       "OTHER                                                  50396\n",
       "EXPIRED METER CENTRAL BUSINESS DISTRICT                49918\n",
       "REAR AND FRONT PLATE REQUIRED                          34080\n",
       "NO STANDING/PARKING TIME RESTRICTED                    29234\n",
       "RUSH HOUR PARKING                                      24371\n",
       "EXPIRED PLATE OR TEMPORARY REGISTRATION                24236\n",
       "WITHIN 15' OF FIRE HYDRANT                             16463\n",
       "PARK OR STAND IN BUS/TAXI/CARRIAGE STAND               13678\n",
       "MISSING/NONCOMPLIANT FRONT AND/OR REAR PLATE            8434\n",
       "STOP SIGN OR TRAFFIC SIGNAL                             8131\n",
       "OBSTRUCT ROADWAY                                        6861\n",
       "DOUBLE PARKING OR STANDING                              6614\n",
       "TRUCK,RV,BUS, OR TAXI RESIDENTIAL STREET                6373\n",
       "PARK ALLEY                                              6250\n",
       "REAR PLATE REQUIRED MOTORCYCLE/TRAILER                  5695\n",
       "DISABLED PARKING ZONE                                   5092\n",
       "STAND, PARK, OR OTHER USE OF BUS LANE                   4824\n",
       "NONCOMPLIANT PLATE(S)                                   4656\n",
       "BLOCK ACCESS/ALLEY/DRIVEWAY/FIRELANE                    4545\n",
       "Name: violation_description, dtype: int64"
      ]
     },
     "execution_count": 62,
     "metadata": {},
     "output_type": "execute_result"
    }
   ],
   "source": [
    " df_ml['violation_description'].value_counts()"
   ]
  },
  {
   "cell_type": "code",
   "execution_count": 63,
   "metadata": {
    "collapsed": false
   },
   "outputs": [
    {
     "data": {
      "text/html": [
       "<div>\n",
       "<style scoped>\n",
       "    .dataframe tbody tr th:only-of-type {\n",
       "        vertical-align: middle;\n",
       "    }\n",
       "\n",
       "    .dataframe tbody tr th {\n",
       "        vertical-align: top;\n",
       "    }\n",
       "\n",
       "    .dataframe thead th {\n",
       "        text-align: right;\n",
       "    }\n",
       "</style>\n",
       "<table border=\"1\" class=\"dataframe\">\n",
       "  <thead>\n",
       "    <tr style=\"text-align: right;\">\n",
       "      <th></th>\n",
       "      <th>Unique Entry</th>\n",
       "      <th>Nan Entry</th>\n",
       "    </tr>\n",
       "  </thead>\n",
       "  <tbody>\n",
       "    <tr>\n",
       "      <th>issue_date</th>\n",
       "      <td>486704</td>\n",
       "      <td>False</td>\n",
       "    </tr>\n",
       "    <tr>\n",
       "      <th>license_plate_state</th>\n",
       "      <td>62</td>\n",
       "      <td>False</td>\n",
       "    </tr>\n",
       "    <tr>\n",
       "      <th>license_plate_type</th>\n",
       "      <td>7</td>\n",
       "      <td>False</td>\n",
       "    </tr>\n",
       "    <tr>\n",
       "      <th>violation_code</th>\n",
       "      <td>111</td>\n",
       "      <td>False</td>\n",
       "    </tr>\n",
       "    <tr>\n",
       "      <th>violation_description</th>\n",
       "      <td>25</td>\n",
       "      <td>False</td>\n",
       "    </tr>\n",
       "    <tr>\n",
       "      <th>vehicle_make</th>\n",
       "      <td>149</td>\n",
       "      <td>False</td>\n",
       "    </tr>\n",
       "    <tr>\n",
       "      <th>fine_level1_amount</th>\n",
       "      <td>14</td>\n",
       "      <td>False</td>\n",
       "    </tr>\n",
       "    <tr>\n",
       "      <th>ticket_queue</th>\n",
       "      <td>7</td>\n",
       "      <td>False</td>\n",
       "    </tr>\n",
       "    <tr>\n",
       "      <th>officer</th>\n",
       "      <td>10530</td>\n",
       "      <td>False</td>\n",
       "    </tr>\n",
       "    <tr>\n",
       "      <th>lat</th>\n",
       "      <td>14753</td>\n",
       "      <td>False</td>\n",
       "    </tr>\n",
       "    <tr>\n",
       "      <th>lng</th>\n",
       "      <td>14860</td>\n",
       "      <td>False</td>\n",
       "    </tr>\n",
       "    <tr>\n",
       "      <th>Outcome</th>\n",
       "      <td>4</td>\n",
       "      <td>False</td>\n",
       "    </tr>\n",
       "    <tr>\n",
       "      <th>Month</th>\n",
       "      <td>12</td>\n",
       "      <td>False</td>\n",
       "    </tr>\n",
       "    <tr>\n",
       "      <th>Weekday</th>\n",
       "      <td>7</td>\n",
       "      <td>False</td>\n",
       "    </tr>\n",
       "    <tr>\n",
       "      <th>Hour</th>\n",
       "      <td>24</td>\n",
       "      <td>False</td>\n",
       "    </tr>\n",
       "    <tr>\n",
       "      <th>Plate_State</th>\n",
       "      <td>2</td>\n",
       "      <td>False</td>\n",
       "    </tr>\n",
       "  </tbody>\n",
       "</table>\n",
       "</div>"
      ],
      "text/plain": [
       "                       Unique Entry  Nan Entry\n",
       "issue_date                   486704      False\n",
       "license_plate_state              62      False\n",
       "license_plate_type                7      False\n",
       "violation_code                  111      False\n",
       "violation_description            25      False\n",
       "vehicle_make                    149      False\n",
       "fine_level1_amount               14      False\n",
       "ticket_queue                      7      False\n",
       "officer                       10530      False\n",
       "lat                           14753      False\n",
       "lng                           14860      False\n",
       "Outcome                           4      False\n",
       "Month                            12      False\n",
       "Weekday                           7      False\n",
       "Hour                             24      False\n",
       "Plate_State                       2      False"
      ]
     },
     "execution_count": 63,
     "metadata": {},
     "output_type": "execute_result"
    }
   ],
   "source": [
    "hd = {'Unique Entry': df_ml.nunique(axis = 0),\n",
    "        'Nan Entry': df_ml.isnull().any()}\n",
    "pd.DataFrame(data = hd, index = df_ml.columns.values)"
   ]
  },
  {
   "cell_type": "code",
   "execution_count": 64,
   "metadata": {
    "collapsed": true
   },
   "outputs": [],
   "source": [
    "to_drop = ['issue_date','license_plate_state','violation_code','ticket_queue']\n",
    "df_ml.drop(labels=to_drop ,axis = 1,inplace = True)"
   ]
  },
  {
   "cell_type": "code",
   "execution_count": 3,
   "metadata": {
    "collapsed": false
   },
   "outputs": [
    {
     "data": {
      "text/plain": [
       "Index(['license_plate_type', 'violation_description', 'vehicle_make',\n",
       "       'fine_level1_amount', 'officer', 'lat', 'lng', 'Outcome', 'Month',\n",
       "       'Weekday', 'Hour', 'Plate_State'],\n",
       "      dtype='object')"
      ]
     },
     "execution_count": 3,
     "metadata": {},
     "output_type": "execute_result"
    }
   ],
   "source": [
    "df_ml.columns"
   ]
  },
  {
   "cell_type": "code",
   "execution_count": 28,
   "metadata": {
    "collapsed": false,
    "scrolled": true
   },
   "outputs": [
    {
     "data": {
      "text/plain": [
       "0    533709\n",
       "2    157280\n",
       "3     81066\n",
       "1     72936\n",
       "Name: Outcome, dtype: int64"
      ]
     },
     "execution_count": 28,
     "metadata": {},
     "output_type": "execute_result"
    }
   ],
   "source": [
    "df_ml.Outcome.value_counts()"
   ]
  },
  {
   "cell_type": "code",
   "execution_count": 186,
   "metadata": {
    "collapsed": true
   },
   "outputs": [],
   "source": [
    "#df_ml.to_csv('CCPT_ML.csv', index=False)"
   ]
  },
  {
   "cell_type": "code",
   "execution_count": 2,
   "metadata": {
    "collapsed": true
   },
   "outputs": [],
   "source": [
    "df_ml = pd.read_csv('./CCPT_ML.csv')"
   ]
  },
  {
   "cell_type": "code",
   "execution_count": 3,
   "metadata": {
    "collapsed": false
   },
   "outputs": [],
   "source": [
    "import h2o\n",
    "from h2o.estimators import H2ORandomForestEstimator"
   ]
  },
  {
   "cell_type": "code",
   "execution_count": 30,
   "metadata": {
    "collapsed": false
   },
   "outputs": [],
   "source": [
    "h2o.cluster().shutdown()"
   ]
  },
  {
   "cell_type": "code",
   "execution_count": 15,
   "metadata": {
    "collapsed": false
   },
   "outputs": [
    {
     "name": "stdout",
     "output_type": "stream",
     "text": [
      "Checking whether there is an H2O instance running at http://localhost:54321..... not found.\n",
      "Attempting to start a local H2O server...\n",
      "  Java Version: openjdk version \"1.8.0_152-release\"; OpenJDK Runtime Environment (build 1.8.0_152-release-1056-b12); OpenJDK 64-Bit Server VM (build 25.152-b12, mixed mode)\n",
      "  Starting server from /Users/chaogao/anaconda/h2o_jar/h2o.jar\n",
      "  Ice root: /var/folders/qy/8ph9blss7658wd26ypypv6jh0000gn/T/tmpef9quid5\n",
      "  JVM stdout: /var/folders/qy/8ph9blss7658wd26ypypv6jh0000gn/T/tmpef9quid5/h2o_chaogao_started_from_python.out\n",
      "  JVM stderr: /var/folders/qy/8ph9blss7658wd26ypypv6jh0000gn/T/tmpef9quid5/h2o_chaogao_started_from_python.err\n",
      "  Server is running at http://127.0.0.1:54321\n",
      "Connecting to H2O server at http://127.0.0.1:54321... successful.\n",
      "Warning: Your H2O cluster version is too old (8 months and 4 days)! Please download and install the latest version from http://h2o.ai/download/\n"
     ]
    },
    {
     "data": {
      "text/html": [
       "<div style=\"overflow:auto\"><table style=\"width:50%\"><tr><td>H2O cluster uptime:</td>\n",
       "<td>02 secs</td></tr>\n",
       "<tr><td>H2O cluster timezone:</td>\n",
       "<td>America/New_York</td></tr>\n",
       "<tr><td>H2O data parsing timezone:</td>\n",
       "<td>UTC</td></tr>\n",
       "<tr><td>H2O cluster version:</td>\n",
       "<td>3.18.0.2</td></tr>\n",
       "<tr><td>H2O cluster version age:</td>\n",
       "<td>8 months and 4 days !!!</td></tr>\n",
       "<tr><td>H2O cluster name:</td>\n",
       "<td>H2O_from_python_chaogao_ruy9hq</td></tr>\n",
       "<tr><td>H2O cluster total nodes:</td>\n",
       "<td>1</td></tr>\n",
       "<tr><td>H2O cluster free memory:</td>\n",
       "<td>28.44 Gb</td></tr>\n",
       "<tr><td>H2O cluster total cores:</td>\n",
       "<td>12</td></tr>\n",
       "<tr><td>H2O cluster allowed cores:</td>\n",
       "<td>12</td></tr>\n",
       "<tr><td>H2O cluster status:</td>\n",
       "<td>accepting new members, healthy</td></tr>\n",
       "<tr><td>H2O connection url:</td>\n",
       "<td>http://127.0.0.1:54321</td></tr>\n",
       "<tr><td>H2O connection proxy:</td>\n",
       "<td>None</td></tr>\n",
       "<tr><td>H2O internal security:</td>\n",
       "<td>False</td></tr>\n",
       "<tr><td>H2O API Extensions:</td>\n",
       "<td>XGBoost, Algos, AutoML, Core V3, Core V4</td></tr>\n",
       "<tr><td>Python version:</td>\n",
       "<td>3.6.6 final</td></tr></table></div>"
      ],
      "text/plain": [
       "--------------------------  ----------------------------------------\n",
       "H2O cluster uptime:         02 secs\n",
       "H2O cluster timezone:       America/New_York\n",
       "H2O data parsing timezone:  UTC\n",
       "H2O cluster version:        3.18.0.2\n",
       "H2O cluster version age:    8 months and 4 days !!!\n",
       "H2O cluster name:           H2O_from_python_chaogao_ruy9hq\n",
       "H2O cluster total nodes:    1\n",
       "H2O cluster free memory:    28.44 Gb\n",
       "H2O cluster total cores:    12\n",
       "H2O cluster allowed cores:  12\n",
       "H2O cluster status:         accepting new members, healthy\n",
       "H2O connection url:         http://127.0.0.1:54321\n",
       "H2O connection proxy:\n",
       "H2O internal security:      False\n",
       "H2O API Extensions:         XGBoost, Algos, AutoML, Core V3, Core V4\n",
       "Python version:             3.6.6 final\n",
       "--------------------------  ----------------------------------------"
      ]
     },
     "metadata": {},
     "output_type": "display_data"
    }
   ],
   "source": [
    "#data = h2o.import_file('CCPT_ML.csv')\n",
    "\n",
    "#h2o.connect()\n",
    "\n",
    "h2o.init(ip='localhost',max_mem_size = '32G',min_mem_size = '20G')"
   ]
  },
  {
   "cell_type": "code",
   "execution_count": 16,
   "metadata": {
    "collapsed": true
   },
   "outputs": [],
   "source": [
    "h2o.remove_all()"
   ]
  },
  {
   "cell_type": "code",
   "execution_count": 17,
   "metadata": {
    "collapsed": false
   },
   "outputs": [
    {
     "data": {
      "text/html": [
       "<div>\n",
       "<style scoped>\n",
       "    .dataframe tbody tr th:only-of-type {\n",
       "        vertical-align: middle;\n",
       "    }\n",
       "\n",
       "    .dataframe tbody tr th {\n",
       "        vertical-align: top;\n",
       "    }\n",
       "\n",
       "    .dataframe thead th {\n",
       "        text-align: right;\n",
       "    }\n",
       "</style>\n",
       "<table border=\"1\" class=\"dataframe\">\n",
       "  <thead>\n",
       "    <tr style=\"text-align: right;\">\n",
       "      <th></th>\n",
       "      <th>key</th>\n",
       "    </tr>\n",
       "  </thead>\n",
       "  <tbody>\n",
       "  </tbody>\n",
       "</table>\n",
       "</div>"
      ],
      "text/plain": [
       "Empty DataFrame\n",
       "Columns: [key]\n",
       "Index: []"
      ]
     },
     "execution_count": 17,
     "metadata": {},
     "output_type": "execute_result"
    }
   ],
   "source": [
    "h2o.ls()"
   ]
  },
  {
   "cell_type": "code",
   "execution_count": 18,
   "metadata": {
    "collapsed": false,
    "scrolled": true
   },
   "outputs": [
    {
     "name": "stdout",
     "output_type": "stream",
     "text": [
      "Parse progress: |█████████████████████████████████████████████████████████| 100%\n"
     ]
    }
   ],
   "source": [
    "hf_ml = h2o.H2OFrame(df_ml)"
   ]
  },
  {
   "cell_type": "code",
   "execution_count": 19,
   "metadata": {
    "collapsed": false
   },
   "outputs": [
    {
     "data": {
      "text/html": [
       "<table>\n",
       "<thead>\n",
       "<tr><th>license_plate_type  </th><th>violation_description                   </th><th>vehicle_make  </th><th style=\"text-align: right;\">  fine_level1_amount</th><th style=\"text-align: right;\">  officer</th><th style=\"text-align: right;\">    lat</th><th style=\"text-align: right;\">     lng</th><th style=\"text-align: right;\">  Outcome</th><th style=\"text-align: right;\">  Month</th><th style=\"text-align: right;\">  Weekday</th><th style=\"text-align: right;\">  Hour</th><th style=\"text-align: right;\">  Plate_State</th></tr>\n",
       "</thead>\n",
       "<tbody>\n",
       "<tr><td>PAS                 </td><td>REAR AND FRONT PLATE REQUIRED           </td><td>LNDR          </td><td style=\"text-align: right;\">                  60</td><td style=\"text-align: right;\">     5238</td><td style=\"text-align: right;\">41.8349</td><td style=\"text-align: right;\">-87.6142</td><td style=\"text-align: right;\">        3</td><td style=\"text-align: right;\">      5</td><td style=\"text-align: right;\">        3</td><td style=\"text-align: right;\">    17</td><td style=\"text-align: right;\">            1</td></tr>\n",
       "<tr><td>TMP                 </td><td>EXPIRED PLATES OR TEMPORARY REGISTRATION</td><td>CHRY          </td><td style=\"text-align: right;\">                  60</td><td style=\"text-align: right;\">    10109</td><td style=\"text-align: right;\">41.8349</td><td style=\"text-align: right;\">-87.6142</td><td style=\"text-align: right;\">        2</td><td style=\"text-align: right;\">      1</td><td style=\"text-align: right;\">        5</td><td style=\"text-align: right;\">     0</td><td style=\"text-align: right;\">            1</td></tr>\n",
       "<tr><td>PAS                 </td><td>BLOCK ACCESS/ALLEY/DRIVEWAY/FIRELANE    </td><td>HOND          </td><td style=\"text-align: right;\">                 150</td><td style=\"text-align: right;\">     5121</td><td style=\"text-align: right;\">41.7946</td><td style=\"text-align: right;\">-87.7703</td><td style=\"text-align: right;\">        0</td><td style=\"text-align: right;\">     11</td><td style=\"text-align: right;\">        5</td><td style=\"text-align: right;\">    20</td><td style=\"text-align: right;\">            1</td></tr>\n",
       "<tr><td>PAS                 </td><td>DISABLED PARKING ZONE                   </td><td>FORD          </td><td style=\"text-align: right;\">                 250</td><td style=\"text-align: right;\">     5652</td><td style=\"text-align: right;\">41.7946</td><td style=\"text-align: right;\">-87.7703</td><td style=\"text-align: right;\">        0</td><td style=\"text-align: right;\">      5</td><td style=\"text-align: right;\">        4</td><td style=\"text-align: right;\">    17</td><td style=\"text-align: right;\">            1</td></tr>\n",
       "<tr><td>PAS                 </td><td>BLOCK ACCESS/ALLEY/DRIVEWAY/FIRELANE    </td><td>DODG          </td><td style=\"text-align: right;\">                 150</td><td style=\"text-align: right;\">     5652</td><td style=\"text-align: right;\">41.7946</td><td style=\"text-align: right;\">-87.7703</td><td style=\"text-align: right;\">        2</td><td style=\"text-align: right;\">     11</td><td style=\"text-align: right;\">        4</td><td style=\"text-align: right;\">    16</td><td style=\"text-align: right;\">            1</td></tr>\n",
       "<tr><td>PAS                 </td><td>BLOCK ACCESS/ALLEY/DRIVEWAY/FIRELANE    </td><td>FORD          </td><td style=\"text-align: right;\">                 150</td><td style=\"text-align: right;\">    18502</td><td style=\"text-align: right;\">41.7946</td><td style=\"text-align: right;\">-87.7703</td><td style=\"text-align: right;\">        0</td><td style=\"text-align: right;\">      4</td><td style=\"text-align: right;\">        0</td><td style=\"text-align: right;\">    18</td><td style=\"text-align: right;\">            1</td></tr>\n",
       "<tr><td>PAS                 </td><td>PARK OR STAND IN BUS/TAXI/CARRIAGE STAND</td><td>JEEP          </td><td style=\"text-align: right;\">                 100</td><td style=\"text-align: right;\">    23932</td><td style=\"text-align: right;\">41.9538</td><td style=\"text-align: right;\">-87.7327</td><td style=\"text-align: right;\">        2</td><td style=\"text-align: right;\">      8</td><td style=\"text-align: right;\">        6</td><td style=\"text-align: right;\">     4</td><td style=\"text-align: right;\">            1</td></tr>\n",
       "<tr><td>PAS                 </td><td>PARK OR STAND IN BUS/TAXI/CARRIAGE STAND</td><td>CHEV          </td><td style=\"text-align: right;\">                 100</td><td style=\"text-align: right;\">     6628</td><td style=\"text-align: right;\">41.9538</td><td style=\"text-align: right;\">-87.7327</td><td style=\"text-align: right;\">        2</td><td style=\"text-align: right;\">      4</td><td style=\"text-align: right;\">        5</td><td style=\"text-align: right;\">     2</td><td style=\"text-align: right;\">            1</td></tr>\n",
       "<tr><td>PAS                 </td><td>PARKING/STANDING PROHIBITED ANYTIME     </td><td>HOND          </td><td style=\"text-align: right;\">                  75</td><td style=\"text-align: right;\">     6628</td><td style=\"text-align: right;\">41.9538</td><td style=\"text-align: right;\">-87.7327</td><td style=\"text-align: right;\">        0</td><td style=\"text-align: right;\">      4</td><td style=\"text-align: right;\">        1</td><td style=\"text-align: right;\">    23</td><td style=\"text-align: right;\">            1</td></tr>\n",
       "<tr><td>PAS                 </td><td>PARK OR STAND IN BUS/TAXI/CARRIAGE STAND</td><td>TOYT          </td><td style=\"text-align: right;\">                 100</td><td style=\"text-align: right;\">    23932</td><td style=\"text-align: right;\">41.9538</td><td style=\"text-align: right;\">-87.7327</td><td style=\"text-align: right;\">        0</td><td style=\"text-align: right;\">      7</td><td style=\"text-align: right;\">        5</td><td style=\"text-align: right;\">    15</td><td style=\"text-align: right;\">            1</td></tr>\n",
       "</tbody>\n",
       "</table>"
      ]
     },
     "metadata": {},
     "output_type": "display_data"
    },
    {
     "data": {
      "text/plain": []
     },
     "execution_count": 19,
     "metadata": {},
     "output_type": "execute_result"
    }
   ],
   "source": [
    "hf_ml.head()"
   ]
  },
  {
   "cell_type": "code",
   "execution_count": 20,
   "metadata": {
    "collapsed": true
   },
   "outputs": [],
   "source": [
    "hf_ml[\"license_plate_type\"]= hf_ml[\"license_plate_type\"].asfactor()\n",
    "hf_ml[\"violation_description\"]= hf_ml[\"violation_description\"].asfactor()\n",
    "#hf_ml[\"vehicle_make\"]= hf_ml[\"vehicle_make\"].asfactor()\n",
    "hf_ml[\"Plate_State\"]= hf_ml[\"Plate_State\"].asfactor()\n",
    "#hf_ml[\"Month\"]= hf_ml[\"Month\"].asfactor()\n",
    "#hf_ml[\"Weekday\"]= hf_ml[\"Weekday\"].asfactor()\n",
    "#hf_ml[\"Hour\"]= hf_ml[\"Hour\"].asfactor()\n",
    "hf_ml[\"Outcome\"]= hf_ml[\"Outcome\"].asfactor()"
   ]
  },
  {
   "cell_type": "code",
   "execution_count": 21,
   "metadata": {
    "collapsed": true
   },
   "outputs": [],
   "source": [
    "#train, test = hf_ml.split_frame(ratios=[0.8])\n",
    "train, valid, test = hf_ml.split_frame([0.6, 0.2], seed=1234)"
   ]
  },
  {
   "cell_type": "code",
   "execution_count": 22,
   "metadata": {
    "collapsed": true
   },
   "outputs": [],
   "source": [
    "train_col = ['license_plate_type','violation_description','fine_level1_amount',\n",
    "             'Plate_State','Month', 'Weekday', 'Hour']\n",
    "response_col = 'Outcome'"
   ]
  },
  {
   "cell_type": "code",
   "execution_count": 102,
   "metadata": {
    "collapsed": true
   },
   "outputs": [],
   "source": [
    "model = H2ORandomForestEstimator(ntrees=100, max_depth=20, nfolds=10)"
   ]
  },
  {
   "cell_type": "code",
   "execution_count": 103,
   "metadata": {
    "collapsed": false
   },
   "outputs": [
    {
     "name": "stdout",
     "output_type": "stream",
     "text": [
      "drf Model Build progress: |███████████████████████████████████████████████| 100%\n"
     ]
    }
   ],
   "source": [
    "model.train(x=train_col, y=response_col, training_frame=train, validation_frame = valid)"
   ]
  },
  {
   "cell_type": "code",
   "execution_count": 106,
   "metadata": {
    "collapsed": false
   },
   "outputs": [
    {
     "name": "stdout",
     "output_type": "stream",
     "text": [
      "\n",
      "ModelMetricsMultinomial: drf\n",
      "** Reported on test data. **\n",
      "\n",
      "MSE: 0.3149106919137782\n",
      "RMSE: 0.5611690404091962\n",
      "LogLoss: 0.9342263977905264\n",
      "Mean Per-Class Error: 0.6643708418420311\n",
      "Confusion Matrix: Row labels: Actual class; Column labels: Predicted class\n",
      "\n"
     ]
    },
    {
     "data": {
      "text/html": [
       "<div style=\"overflow:auto\"><table style=\"width:50%\"><tr><td><b>0</b></td>\n",
       "<td><b>1</b></td>\n",
       "<td><b>2</b></td>\n",
       "<td><b>3</b></td>\n",
       "<td><b>Error</b></td>\n",
       "<td><b>Rate</b></td></tr>\n",
       "<tr><td>101790.0</td>\n",
       "<td>650.0</td>\n",
       "<td>3466.0</td>\n",
       "<td>1038.0</td>\n",
       "<td>0.0481934</td>\n",
       "<td>5,154 / 106,944</td></tr>\n",
       "<tr><td>11547.0</td>\n",
       "<td>1453.0</td>\n",
       "<td>1063.0</td>\n",
       "<td>299.0</td>\n",
       "<td>0.8988302</td>\n",
       "<td>12,909 / 14,362</td></tr>\n",
       "<tr><td>25062.0</td>\n",
       "<td>196.0</td>\n",
       "<td>5379.0</td>\n",
       "<td>560.0</td>\n",
       "<td>0.8275796</td>\n",
       "<td>25,818 / 31,197</td></tr>\n",
       "<tr><td>12481.0</td>\n",
       "<td>90.0</td>\n",
       "<td>1714.0</td>\n",
       "<td>1895.0</td>\n",
       "<td>0.8828801</td>\n",
       "<td>14,285 / 16,180</td></tr>\n",
       "<tr><td>150880.0</td>\n",
       "<td>2389.0</td>\n",
       "<td>11622.0</td>\n",
       "<td>3792.0</td>\n",
       "<td>0.3448243</td>\n",
       "<td>58,166 / 168,683</td></tr></table></div>"
      ],
      "text/plain": [
       "0       1     2      3     Error      Rate\n",
       "------  ----  -----  ----  ---------  ----------------\n",
       "101790  650   3466   1038  0.0481934  5,154 / 106,944\n",
       "11547   1453  1063   299   0.89883    12,909 / 14,362\n",
       "25062   196   5379   560   0.82758    25,818 / 31,197\n",
       "12481   90    1714   1895  0.88288    14,285 / 16,180\n",
       "150880  2389  11622  3792  0.344824   58,166 / 168,683"
      ]
     },
     "metadata": {},
     "output_type": "display_data"
    },
    {
     "name": "stdout",
     "output_type": "stream",
     "text": [
      "Top-4 Hit Ratios: \n"
     ]
    },
    {
     "data": {
      "text/html": [
       "<div style=\"overflow:auto\"><table style=\"width:50%\"><tr><td><b>k</b></td>\n",
       "<td><b>hit_ratio</b></td></tr>\n",
       "<tr><td>1</td>\n",
       "<td>0.6551757</td></tr>\n",
       "<tr><td>2</td>\n",
       "<td>0.8486984</td></tr>\n",
       "<tr><td>3</td>\n",
       "<td>0.9423712</td></tr>\n",
       "<tr><td>4</td>\n",
       "<td>1.0</td></tr></table></div>"
      ],
      "text/plain": [
       "k    hit_ratio\n",
       "---  -----------\n",
       "1    0.655176\n",
       "2    0.848698\n",
       "3    0.942371\n",
       "4    1"
      ]
     },
     "metadata": {},
     "output_type": "display_data"
    },
    {
     "name": "stdout",
     "output_type": "stream",
     "text": [
      "\n"
     ]
    }
   ],
   "source": [
    "# Model performance\n",
    "performance = model.model_performance(test_data=test)\n",
    "\n",
    "print(performance)"
   ]
  },
  {
   "cell_type": "code",
   "execution_count": 104,
   "metadata": {
    "collapsed": false
   },
   "outputs": [
    {
     "data": {
      "text/html": [
       "<div>\n",
       "<style scoped>\n",
       "    .dataframe tbody tr th:only-of-type {\n",
       "        vertical-align: middle;\n",
       "    }\n",
       "\n",
       "    .dataframe tbody tr th {\n",
       "        vertical-align: top;\n",
       "    }\n",
       "\n",
       "    .dataframe thead th {\n",
       "        text-align: right;\n",
       "    }\n",
       "</style>\n",
       "<table border=\"1\" class=\"dataframe\">\n",
       "  <thead>\n",
       "    <tr style=\"text-align: right;\">\n",
       "      <th></th>\n",
       "      <th></th>\n",
       "      <th>timestamp</th>\n",
       "      <th>duration</th>\n",
       "      <th>number_of_trees</th>\n",
       "      <th>training_rmse</th>\n",
       "      <th>training_logloss</th>\n",
       "      <th>training_classification_error</th>\n",
       "      <th>validation_rmse</th>\n",
       "      <th>validation_logloss</th>\n",
       "      <th>validation_classification_error</th>\n",
       "    </tr>\n",
       "  </thead>\n",
       "  <tbody>\n",
       "    <tr>\n",
       "      <th>0</th>\n",
       "      <td></td>\n",
       "      <td>2018-11-08 15:44:45</td>\n",
       "      <td>16 min 10.654 sec</td>\n",
       "      <td>0.0</td>\n",
       "      <td>NaN</td>\n",
       "      <td>NaN</td>\n",
       "      <td>NaN</td>\n",
       "      <td>NaN</td>\n",
       "      <td>NaN</td>\n",
       "      <td>NaN</td>\n",
       "    </tr>\n",
       "    <tr>\n",
       "      <th>1</th>\n",
       "      <td></td>\n",
       "      <td>2018-11-08 15:44:45</td>\n",
       "      <td>16 min 11.283 sec</td>\n",
       "      <td>1.0</td>\n",
       "      <td>0.571816</td>\n",
       "      <td>2.237315</td>\n",
       "      <td>0.360508</td>\n",
       "      <td>0.570851</td>\n",
       "      <td>2.229023</td>\n",
       "      <td>0.359606</td>\n",
       "    </tr>\n",
       "    <tr>\n",
       "      <th>2</th>\n",
       "      <td></td>\n",
       "      <td>2018-11-08 15:44:46</td>\n",
       "      <td>16 min 12.027 sec</td>\n",
       "      <td>2.0</td>\n",
       "      <td>0.571121</td>\n",
       "      <td>2.149894</td>\n",
       "      <td>0.359905</td>\n",
       "      <td>0.565474</td>\n",
       "      <td>1.377158</td>\n",
       "      <td>0.353774</td>\n",
       "    </tr>\n",
       "    <tr>\n",
       "      <th>3</th>\n",
       "      <td></td>\n",
       "      <td>2018-11-08 15:44:47</td>\n",
       "      <td>16 min 12.888 sec</td>\n",
       "      <td>3.0</td>\n",
       "      <td>0.570347</td>\n",
       "      <td>2.024643</td>\n",
       "      <td>0.359136</td>\n",
       "      <td>0.563952</td>\n",
       "      <td>1.160672</td>\n",
       "      <td>0.351851</td>\n",
       "    </tr>\n",
       "    <tr>\n",
       "      <th>4</th>\n",
       "      <td></td>\n",
       "      <td>2018-11-08 15:44:48</td>\n",
       "      <td>16 min 13.845 sec</td>\n",
       "      <td>4.0</td>\n",
       "      <td>0.569093</td>\n",
       "      <td>1.850927</td>\n",
       "      <td>0.357942</td>\n",
       "      <td>0.563165</td>\n",
       "      <td>1.063868</td>\n",
       "      <td>0.350501</td>\n",
       "    </tr>\n",
       "    <tr>\n",
       "      <th>5</th>\n",
       "      <td></td>\n",
       "      <td>2018-11-08 15:44:52</td>\n",
       "      <td>16 min 18.273 sec</td>\n",
       "      <td>10.0</td>\n",
       "      <td>0.565979</td>\n",
       "      <td>1.216633</td>\n",
       "      <td>0.353381</td>\n",
       "      <td>0.562346</td>\n",
       "      <td>0.948963</td>\n",
       "      <td>0.347346</td>\n",
       "    </tr>\n",
       "    <tr>\n",
       "      <th>6</th>\n",
       "      <td></td>\n",
       "      <td>2018-11-08 15:45:01</td>\n",
       "      <td>16 min 27.317 sec</td>\n",
       "      <td>22.0</td>\n",
       "      <td>0.563846</td>\n",
       "      <td>0.977828</td>\n",
       "      <td>0.349761</td>\n",
       "      <td>0.561867</td>\n",
       "      <td>0.938362</td>\n",
       "      <td>0.345800</td>\n",
       "    </tr>\n",
       "    <tr>\n",
       "      <th>7</th>\n",
       "      <td></td>\n",
       "      <td>2018-11-08 15:45:21</td>\n",
       "      <td>16 min 46.788 sec</td>\n",
       "      <td>48.0</td>\n",
       "      <td>0.563064</td>\n",
       "      <td>0.945372</td>\n",
       "      <td>0.348269</td>\n",
       "      <td>0.561542</td>\n",
       "      <td>0.935340</td>\n",
       "      <td>0.345735</td>\n",
       "    </tr>\n",
       "    <tr>\n",
       "      <th>8</th>\n",
       "      <td></td>\n",
       "      <td>2018-11-08 15:46:01</td>\n",
       "      <td>17 min 26.560 sec</td>\n",
       "      <td>100.0</td>\n",
       "      <td>0.562760</td>\n",
       "      <td>0.940694</td>\n",
       "      <td>0.347618</td>\n",
       "      <td>0.561449</td>\n",
       "      <td>0.934557</td>\n",
       "      <td>0.345262</td>\n",
       "    </tr>\n",
       "  </tbody>\n",
       "</table>\n",
       "</div>"
      ],
      "text/plain": [
       "               timestamp           duration  number_of_trees  training_rmse  \\\n",
       "0    2018-11-08 15:44:45  16 min 10.654 sec              0.0            NaN   \n",
       "1    2018-11-08 15:44:45  16 min 11.283 sec              1.0       0.571816   \n",
       "2    2018-11-08 15:44:46  16 min 12.027 sec              2.0       0.571121   \n",
       "3    2018-11-08 15:44:47  16 min 12.888 sec              3.0       0.570347   \n",
       "4    2018-11-08 15:44:48  16 min 13.845 sec              4.0       0.569093   \n",
       "5    2018-11-08 15:44:52  16 min 18.273 sec             10.0       0.565979   \n",
       "6    2018-11-08 15:45:01  16 min 27.317 sec             22.0       0.563846   \n",
       "7    2018-11-08 15:45:21  16 min 46.788 sec             48.0       0.563064   \n",
       "8    2018-11-08 15:46:01  17 min 26.560 sec            100.0       0.562760   \n",
       "\n",
       "   training_logloss  training_classification_error  validation_rmse  \\\n",
       "0               NaN                            NaN              NaN   \n",
       "1          2.237315                       0.360508         0.570851   \n",
       "2          2.149894                       0.359905         0.565474   \n",
       "3          2.024643                       0.359136         0.563952   \n",
       "4          1.850927                       0.357942         0.563165   \n",
       "5          1.216633                       0.353381         0.562346   \n",
       "6          0.977828                       0.349761         0.561867   \n",
       "7          0.945372                       0.348269         0.561542   \n",
       "8          0.940694                       0.347618         0.561449   \n",
       "\n",
       "   validation_logloss  validation_classification_error  \n",
       "0                 NaN                              NaN  \n",
       "1            2.229023                         0.359606  \n",
       "2            1.377158                         0.353774  \n",
       "3            1.160672                         0.351851  \n",
       "4            1.063868                         0.350501  \n",
       "5            0.948963                         0.347346  \n",
       "6            0.938362                         0.345800  \n",
       "7            0.935340                         0.345735  \n",
       "8            0.934557                         0.345262  "
      ]
     },
     "execution_count": 104,
     "metadata": {},
     "output_type": "execute_result"
    }
   ],
   "source": [
    "model.score_history()"
   ]
  },
  {
   "cell_type": "code",
   "execution_count": 105,
   "metadata": {
    "collapsed": false
   },
   "outputs": [
    {
     "data": {
      "image/png": "[encoded data removed]",
      "text/plain": [
       "<Figure size 576x396 with 1 Axes>"
      ]
     },
     "metadata": {},
     "output_type": "display_data"
    }
   ],
   "source": [
    "model.plot()"
   ]
  },
  {
   "cell_type": "code",
   "execution_count": 107,
   "metadata": {
    "collapsed": false
   },
   "outputs": [
    {
     "data": {
      "image/png": "[encoded data removed]",
      "text/plain": [
       "<Figure size 1008x720 with 1 Axes>"
      ]
     },
     "metadata": {},
     "output_type": "display_data"
    }
   ],
   "source": [
    "model.varimp_plot()"
   ]
  },
  {
   "cell_type": "code",
   "execution_count": 109,
   "metadata": {
    "collapsed": false
   },
   "outputs": [
    {
     "name": "stdout",
     "output_type": "stream",
     "text": [
      "/Users/chaogao/Documents/Python_course/CCPT/model/DRF_model_python_1541703477744_5\n"
     ]
    }
   ],
   "source": [
    "# save the model\n",
    "model_path = h2o.save_model(model=model, path=\"../model\", force=True)\n",
    "\n",
    "print(model_path)\n",
    "\n",
    "# load the model\n",
    "#saved_model = h2o.load_model(model_path)"
   ]
  },
  {
   "cell_type": "code",
   "execution_count": 110,
   "metadata": {
    "collapsed": false,
    "scrolled": true
   },
   "outputs": [
    {
     "data": {
      "text/html": [
       "<table>\n",
       "<thead>\n",
       "<tr><th>       </th><th>license_plate_type  </th><th>violation_description                   </th><th>vehicle_make  </th><th>fine_level1_amount  </th><th>officer          </th><th>lat                </th><th>lng                </th><th>Outcome  </th><th>Month  </th><th>Weekday  </th><th>Hour  </th><th>Plate_State  </th></tr>\n",
       "</thead>\n",
       "<tbody>\n",
       "<tr><td>type   </td><td>enum                </td><td>enum                                    </td><td>enum          </td><td>int                 </td><td>int              </td><td>real               </td><td>real               </td><td>enum     </td><td>enum   </td><td>enum     </td><td>enum  </td><td>enum         </td></tr>\n",
       "<tr><td>mins   </td><td>                    </td><td>                                        </td><td>              </td><td>25.0                </td><td>0.0              </td><td>41.644110999999995 </td><td>-87.997822         </td><td>         </td><td>       </td><td>         </td><td>      </td><td>             </td></tr>\n",
       "<tr><td>mean   </td><td>                    </td><td>                                        </td><td>              </td><td>83.70345956347458   </td><td>4984.380911572525</td><td>41.88128872057646  </td><td>-87.66941363724943 </td><td>         </td><td>       </td><td>         </td><td>      </td><td>             </td></tr>\n",
       "<tr><td>maxs   </td><td>                    </td><td>                                        </td><td>              </td><td>500.0               </td><td>99883.0          </td><td>42.048927          </td><td>-87.52483510192856 </td><td>         </td><td>       </td><td>         </td><td>      </td><td>             </td></tr>\n",
       "<tr><td>sigma  </td><td>                    </td><td>                                        </td><td>              </td><td>47.38545309559593   </td><td>6383.079945766539</td><td>0.07661662540889354</td><td>0.05355833876899383</td><td>         </td><td>       </td><td>         </td><td>      </td><td>             </td></tr>\n",
       "<tr><td>zeros  </td><td>                    </td><td>                                        </td><td>              </td><td>0                   </td><td>4                </td><td>0                  </td><td>0                  </td><td>         </td><td>       </td><td>         </td><td>      </td><td>             </td></tr>\n",
       "<tr><td>missing</td><td>0                   </td><td>0                                       </td><td>0             </td><td>0                   </td><td>1328             </td><td>0                  </td><td>0                  </td><td>0        </td><td>0      </td><td>0        </td><td>0     </td><td>0            </td></tr>\n",
       "<tr><td>0      </td><td>PAS                 </td><td>REAR AND FRONT PLATE REQUIRED           </td><td>LNDR          </td><td>60.0                </td><td>5238.0           </td><td>41.83490870000001  </td><td>-87.61417004242811 </td><td>3        </td><td>5      </td><td>3        </td><td>17    </td><td>1            </td></tr>\n",
       "<tr><td>1      </td><td>TMP                 </td><td>EXPIRED PLATES OR TEMPORARY REGISTRATION</td><td>CHRY          </td><td>60.0                </td><td>10109.0          </td><td>41.83490870000001  </td><td>-87.61417004242811 </td><td>2        </td><td>1      </td><td>5        </td><td>0     </td><td>1            </td></tr>\n",
       "<tr><td>2      </td><td>PAS                 </td><td>BLOCK ACCESS/ALLEY/DRIVEWAY/FIRELANE    </td><td>HOND          </td><td>150.0               </td><td>5121.0           </td><td>41.7945873494539   </td><td>-87.77028650039058 </td><td>0        </td><td>11     </td><td>5        </td><td>20    </td><td>1            </td></tr>\n",
       "<tr><td>3      </td><td>PAS                 </td><td>DISABLED PARKING ZONE                   </td><td>FORD          </td><td>250.0               </td><td>5652.0           </td><td>41.7945873494539   </td><td>-87.77028650039058 </td><td>0        </td><td>5      </td><td>4        </td><td>17    </td><td>1            </td></tr>\n",
       "<tr><td>4      </td><td>PAS                 </td><td>BLOCK ACCESS/ALLEY/DRIVEWAY/FIRELANE    </td><td>DODG          </td><td>150.0               </td><td>5652.0           </td><td>41.7945873494539   </td><td>-87.77028650039058 </td><td>2        </td><td>11     </td><td>4        </td><td>16    </td><td>1            </td></tr>\n",
       "<tr><td>5      </td><td>PAS                 </td><td>BLOCK ACCESS/ALLEY/DRIVEWAY/FIRELANE    </td><td>FORD          </td><td>150.0               </td><td>18502.0          </td><td>41.7945873494539   </td><td>-87.77028650039058 </td><td>0        </td><td>4      </td><td>0        </td><td>18    </td><td>1            </td></tr>\n",
       "<tr><td>6      </td><td>PAS                 </td><td>PARK OR STAND IN BUS/TAXI/CARRIAGE STAND</td><td>JEEP          </td><td>100.0               </td><td>23932.0          </td><td>41.9538056         </td><td>-87.73266732147945 </td><td>2        </td><td>8      </td><td>6        </td><td>4     </td><td>1            </td></tr>\n",
       "<tr><td>7      </td><td>PAS                 </td><td>PARK OR STAND IN BUS/TAXI/CARRIAGE STAND</td><td>CHEV          </td><td>100.0               </td><td>6628.0           </td><td>41.9538056         </td><td>-87.73266732147945 </td><td>2        </td><td>4      </td><td>5        </td><td>2     </td><td>1            </td></tr>\n",
       "<tr><td>8      </td><td>PAS                 </td><td>PARKING/STANDING PROHIBITED ANYTIME     </td><td>HOND          </td><td>75.0                </td><td>6628.0           </td><td>41.9538056         </td><td>-87.73266732147945 </td><td>0        </td><td>4      </td><td>1        </td><td>23    </td><td>1            </td></tr>\n",
       "<tr><td>9      </td><td>PAS                 </td><td>PARK OR STAND IN BUS/TAXI/CARRIAGE STAND</td><td>TOYT          </td><td>100.0               </td><td>23932.0          </td><td>41.9538056         </td><td>-87.73266732147945 </td><td>0        </td><td>7      </td><td>5        </td><td>15    </td><td>1            </td></tr>\n",
       "</tbody>\n",
       "</table>"
      ]
     },
     "metadata": {},
     "output_type": "display_data"
    }
   ],
   "source": [
    "hf_ml.summary()"
   ]
  },
  {
   "cell_type": "code",
   "execution_count": 23,
   "metadata": {
    "collapsed": true
   },
   "outputs": [],
   "source": [
    "train_col = ['license_plate_type','violation_description','fine_level1_amount',\n",
    "             'Plate_State','Month', 'Weekday', 'Hour']\n",
    "response_col = 'Outcome'"
   ]
  },
  {
   "cell_type": "code",
   "execution_count": 24,
   "metadata": {
    "collapsed": false
   },
   "outputs": [],
   "source": [
    "RF_v2 = H2ORandomForestEstimator(ntrees=100, max_depth=20, nfolds=10,categorical_encoding = 'SortByResponse')"
   ]
  },
  {
   "cell_type": "code",
   "execution_count": 25,
   "metadata": {
    "collapsed": false
   },
   "outputs": [
    {
     "name": "stdout",
     "output_type": "stream",
     "text": [
      "drf Model Build progress: |███████████████████████████████████████████████| 100%\n"
     ]
    }
   ],
   "source": [
    "RF_v2.train(x=train_col, y=response_col, training_frame=train, validation_frame = valid)"
   ]
  },
  {
   "cell_type": "code",
   "execution_count": 26,
   "metadata": {
    "collapsed": false
   },
   "outputs": [
    {
     "name": "stdout",
     "output_type": "stream",
     "text": [
      "\n",
      "ModelMetricsMultinomial: drf\n",
      "** Reported on test data. **\n",
      "\n",
      "MSE: 0.3172807508987705\n",
      "RMSE: 0.56327679776356\n",
      "LogLoss: 0.9496083166712825\n",
      "Mean Per-Class Error: 0.660904778212057\n",
      "Confusion Matrix: Row labels: Actual class; Column labels: Predicted class\n",
      "\n"
     ]
    },
    {
     "data": {
      "text/html": [
       "<div style=\"overflow:auto\"><table style=\"width:50%\"><tr><td><b>0</b></td>\n",
       "<td><b>1</b></td>\n",
       "<td><b>2</b></td>\n",
       "<td><b>3</b></td>\n",
       "<td><b>Error</b></td>\n",
       "<td><b>Rate</b></td></tr>\n",
       "<tr><td>100189.0</td>\n",
       "<td>843.0</td>\n",
       "<td>4165.0</td>\n",
       "<td>1747.0</td>\n",
       "<td>0.0631639</td>\n",
       "<td>6,755 / 106,944</td></tr>\n",
       "<tr><td>11259.0</td>\n",
       "<td>1488.0</td>\n",
       "<td>1170.0</td>\n",
       "<td>445.0</td>\n",
       "<td>0.8963933</td>\n",
       "<td>12,874 / 14,362</td></tr>\n",
       "<tr><td>24658.0</td>\n",
       "<td>248.0</td>\n",
       "<td>5412.0</td>\n",
       "<td>879.0</td>\n",
       "<td>0.8265218</td>\n",
       "<td>25,785 / 31,197</td></tr>\n",
       "<tr><td>11942.0</td>\n",
       "<td>175.0</td>\n",
       "<td>1758.0</td>\n",
       "<td>2305.0</td>\n",
       "<td>0.8575402</td>\n",
       "<td>13,875 / 16,180</td></tr>\n",
       "<tr><td>148048.0</td>\n",
       "<td>2754.0</td>\n",
       "<td>12505.0</td>\n",
       "<td>5376.0</td>\n",
       "<td>0.3514818</td>\n",
       "<td>59,289 / 168,683</td></tr></table></div>"
      ],
      "text/plain": [
       "0       1     2      3     Error      Rate\n",
       "------  ----  -----  ----  ---------  ----------------\n",
       "100189  843   4165   1747  0.0631639  6,755 / 106,944\n",
       "11259   1488  1170   445   0.896393   12,874 / 14,362\n",
       "24658   248   5412   879   0.826522   25,785 / 31,197\n",
       "11942   175   1758   2305  0.85754    13,875 / 16,180\n",
       "148048  2754  12505  5376  0.351482   59,289 / 168,683"
      ]
     },
     "metadata": {},
     "output_type": "display_data"
    },
    {
     "name": "stdout",
     "output_type": "stream",
     "text": [
      "Top-4 Hit Ratios: \n"
     ]
    },
    {
     "data": {
      "text/html": [
       "<div style=\"overflow:auto\"><table style=\"width:50%\"><tr><td><b>k</b></td>\n",
       "<td><b>hit_ratio</b></td></tr>\n",
       "<tr><td>1</td>\n",
       "<td>0.6485182</td></tr>\n",
       "<tr><td>2</td>\n",
       "<td>0.8439084</td></tr>\n",
       "<tr><td>3</td>\n",
       "<td>0.9401895</td></tr>\n",
       "<tr><td>4</td>\n",
       "<td>0.9999999</td></tr></table></div>"
      ],
      "text/plain": [
       "k    hit_ratio\n",
       "---  -----------\n",
       "1    0.648518\n",
       "2    0.843908\n",
       "3    0.94019\n",
       "4    1"
      ]
     },
     "metadata": {},
     "output_type": "display_data"
    },
    {
     "name": "stdout",
     "output_type": "stream",
     "text": [
      "\n"
     ]
    }
   ],
   "source": [
    "# Model performance\n",
    "performance = RF_v2.model_performance(test_data=test)\n",
    "\n",
    "print(performance)"
   ]
  },
  {
   "cell_type": "code",
   "execution_count": 29,
   "metadata": {
    "collapsed": false
   },
   "outputs": [
    {
     "data": {
      "image/png": "[encoded data removed]",
      "text/plain": [
       "<Figure size 1008x720 with 1 Axes>"
      ]
     },
     "metadata": {},
     "output_type": "display_data"
    }
   ],
   "source": [
    "RF_v2.varimp_plot()"
   ]
  },
  {
   "cell_type": "code",
   "execution_count": null,
   "metadata": {
    "collapsed": true
   },
   "outputs": [],
   "source": [
    "# save the model\n",
    "model_path = h2o.save_model(model=RF_V2, path=\"../model\", force=True)\n",
    "\n",
    "print(model_path)"
   ]
  }
 ],
 "metadata": {
  "kernelspec": {
   "display_name": "Python 3",
   "language": "python",
   "name": "python3"
  },
  "language_info": {
   "codemirror_mode": {
    "name": "ipython",
    "version": 3
   },
   "file_extension": ".py",
   "mimetype": "text/x-python",
   "name": "python",
   "nbconvert_exporter": "python",
   "pygments_lexer": "ipython3",
   "version": "3.6.6"
  }
 },
 "nbformat": 4,
 "nbformat_minor": 2
}
