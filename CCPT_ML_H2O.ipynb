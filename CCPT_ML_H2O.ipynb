{
 "cells": [
  {
   "cell_type": "code",
   "execution_count": 15,
   "metadata": {
    "collapsed": true
   },
   "outputs": [],
   "source": [
    "import pandas as pd\n",
    "import matplotlib.pyplot as plt\n",
    "import seaborn as sns\n",
    "import numpy as np\n",
    "import warnings\n",
    "warnings.filterwarnings(\"ignore\")\n",
    "\n",
    "import datetime"
   ]
  },
  {
   "cell_type": "code",
   "execution_count": 16,
   "metadata": {
    "collapsed": true
   },
   "outputs": [],
   "source": [
    "import h2o\n",
    "from h2o.estimators import H2ORandomForestEstimator"
   ]
  },
  {
   "cell_type": "code",
   "execution_count": 3,
   "metadata": {
    "collapsed": true
   },
   "outputs": [],
   "source": [
    "df_ml = pd.read_csv('./CCPT_ML.csv')"
   ]
  },
  {
   "cell_type": "code",
   "execution_count": 114,
   "metadata": {
    "collapsed": false
   },
   "outputs": [
    {
     "data": {
      "text/html": [
       "<div>\n",
       "<style scoped>\n",
       "    .dataframe tbody tr th:only-of-type {\n",
       "        vertical-align: middle;\n",
       "    }\n",
       "\n",
       "    .dataframe tbody tr th {\n",
       "        vertical-align: top;\n",
       "    }\n",
       "\n",
       "    .dataframe thead th {\n",
       "        text-align: right;\n",
       "    }\n",
       "</style>\n",
       "<table border=\"1\" class=\"dataframe\">\n",
       "  <thead>\n",
       "    <tr style=\"text-align: right;\">\n",
       "      <th></th>\n",
       "      <th>fine_level1_amount</th>\n",
       "      <th>lat</th>\n",
       "      <th>lng</th>\n",
       "      <th>Outcome</th>\n",
       "      <th>Month</th>\n",
       "      <th>Weekday</th>\n",
       "      <th>Hour</th>\n",
       "      <th>Plate_State</th>\n",
       "      <th>Lat_rm</th>\n",
       "      <th>Lng_rm</th>\n",
       "    </tr>\n",
       "  </thead>\n",
       "  <tbody>\n",
       "    <tr>\n",
       "      <th>count</th>\n",
       "      <td>844991.000000</td>\n",
       "      <td>844991.000000</td>\n",
       "      <td>844991.000000</td>\n",
       "      <td>844991.000000</td>\n",
       "      <td>844991.000000</td>\n",
       "      <td>844991.000000</td>\n",
       "      <td>844991.000000</td>\n",
       "      <td>844991.000000</td>\n",
       "      <td>8.449910e+05</td>\n",
       "      <td>8.449910e+05</td>\n",
       "    </tr>\n",
       "    <tr>\n",
       "      <th>mean</th>\n",
       "      <td>83.703460</td>\n",
       "      <td>41.881289</td>\n",
       "      <td>-87.669414</td>\n",
       "      <td>0.746391</td>\n",
       "      <td>6.481580</td>\n",
       "      <td>2.695444</td>\n",
       "      <td>12.441935</td>\n",
       "      <td>0.900317</td>\n",
       "      <td>3.068166e-11</td>\n",
       "      <td>-1.589554e-11</td>\n",
       "    </tr>\n",
       "    <tr>\n",
       "      <th>std</th>\n",
       "      <td>47.385453</td>\n",
       "      <td>0.076617</td>\n",
       "      <td>0.053558</td>\n",
       "      <td>1.066386</td>\n",
       "      <td>3.343086</td>\n",
       "      <td>1.842667</td>\n",
       "      <td>5.498481</td>\n",
       "      <td>0.299577</td>\n",
       "      <td>7.661663e-02</td>\n",
       "      <td>5.355834e-02</td>\n",
       "    </tr>\n",
       "    <tr>\n",
       "      <th>min</th>\n",
       "      <td>25.000000</td>\n",
       "      <td>41.644111</td>\n",
       "      <td>-87.997822</td>\n",
       "      <td>0.000000</td>\n",
       "      <td>1.000000</td>\n",
       "      <td>0.000000</td>\n",
       "      <td>0.000000</td>\n",
       "      <td>0.000000</td>\n",
       "      <td>-2.371777e-01</td>\n",
       "      <td>-3.284084e-01</td>\n",
       "    </tr>\n",
       "    <tr>\n",
       "      <th>25%</th>\n",
       "      <td>60.000000</td>\n",
       "      <td>41.845536</td>\n",
       "      <td>-87.701778</td>\n",
       "      <td>0.000000</td>\n",
       "      <td>4.000000</td>\n",
       "      <td>1.000000</td>\n",
       "      <td>9.000000</td>\n",
       "      <td>1.000000</td>\n",
       "      <td>-3.575252e-02</td>\n",
       "      <td>-3.236446e-02</td>\n",
       "    </tr>\n",
       "    <tr>\n",
       "      <th>50%</th>\n",
       "      <td>60.000000</td>\n",
       "      <td>41.892878</td>\n",
       "      <td>-87.661099</td>\n",
       "      <td>0.000000</td>\n",
       "      <td>6.000000</td>\n",
       "      <td>3.000000</td>\n",
       "      <td>12.000000</td>\n",
       "      <td>1.000000</td>\n",
       "      <td>1.158938e-02</td>\n",
       "      <td>8.314437e-03</td>\n",
       "    </tr>\n",
       "    <tr>\n",
       "      <th>75%</th>\n",
       "      <td>75.000000</td>\n",
       "      <td>41.934664</td>\n",
       "      <td>-87.629767</td>\n",
       "      <td>2.000000</td>\n",
       "      <td>9.000000</td>\n",
       "      <td>4.000000</td>\n",
       "      <td>17.000000</td>\n",
       "      <td>1.000000</td>\n",
       "      <td>5.337538e-02</td>\n",
       "      <td>3.964664e-02</td>\n",
       "    </tr>\n",
       "    <tr>\n",
       "      <th>max</th>\n",
       "      <td>500.000000</td>\n",
       "      <td>42.048927</td>\n",
       "      <td>-87.524835</td>\n",
       "      <td>3.000000</td>\n",
       "      <td>12.000000</td>\n",
       "      <td>6.000000</td>\n",
       "      <td>23.000000</td>\n",
       "      <td>1.000000</td>\n",
       "      <td>1.676383e-01</td>\n",
       "      <td>1.445785e-01</td>\n",
       "    </tr>\n",
       "  </tbody>\n",
       "</table>\n",
       "</div>"
      ],
      "text/plain": [
       "       fine_level1_amount            lat            lng        Outcome  \\\n",
       "count       844991.000000  844991.000000  844991.000000  844991.000000   \n",
       "mean            83.703460      41.881289     -87.669414       0.746391   \n",
       "std             47.385453       0.076617       0.053558       1.066386   \n",
       "min             25.000000      41.644111     -87.997822       0.000000   \n",
       "25%             60.000000      41.845536     -87.701778       0.000000   \n",
       "50%             60.000000      41.892878     -87.661099       0.000000   \n",
       "75%             75.000000      41.934664     -87.629767       2.000000   \n",
       "max            500.000000      42.048927     -87.524835       3.000000   \n",
       "\n",
       "               Month        Weekday           Hour    Plate_State  \\\n",
       "count  844991.000000  844991.000000  844991.000000  844991.000000   \n",
       "mean        6.481580       2.695444      12.441935       0.900317   \n",
       "std         3.343086       1.842667       5.498481       0.299577   \n",
       "min         1.000000       0.000000       0.000000       0.000000   \n",
       "25%         4.000000       1.000000       9.000000       1.000000   \n",
       "50%         6.000000       3.000000      12.000000       1.000000   \n",
       "75%         9.000000       4.000000      17.000000       1.000000   \n",
       "max        12.000000       6.000000      23.000000       1.000000   \n",
       "\n",
       "             Lat_rm        Lng_rm  \n",
       "count  8.449910e+05  8.449910e+05  \n",
       "mean   3.068166e-11 -1.589554e-11  \n",
       "std    7.661663e-02  5.355834e-02  \n",
       "min   -2.371777e-01 -3.284084e-01  \n",
       "25%   -3.575252e-02 -3.236446e-02  \n",
       "50%    1.158938e-02  8.314437e-03  \n",
       "75%    5.337538e-02  3.964664e-02  \n",
       "max    1.676383e-01  1.445785e-01  "
      ]
     },
     "execution_count": 114,
     "metadata": {},
     "output_type": "execute_result"
    }
   ],
   "source": [
    "df_ml.describe()"
   ]
  },
  {
   "cell_type": "code",
   "execution_count": 116,
   "metadata": {
    "collapsed": false
   },
   "outputs": [],
   "source": [
    "mask = (df_ml.Outcome != 0)\n",
    "df_ml_sub = df_ml.loc[mask]"
   ]
  },
  {
   "cell_type": "code",
   "execution_count": 118,
   "metadata": {
    "collapsed": false,
    "scrolled": true
   },
   "outputs": [
    {
     "data": {
      "text/plain": [
       "2    157280\n",
       "3     81066\n",
       "1     72936\n",
       "Name: Outcome, dtype: int64"
      ]
     },
     "execution_count": 118,
     "metadata": {},
     "output_type": "execute_result"
    }
   ],
   "source": [
    "df_ml_sub.Outcome.value_counts()"
   ]
  },
  {
   "cell_type": "code",
   "execution_count": 119,
   "metadata": {
    "collapsed": true
   },
   "outputs": [],
   "source": [
    "df_ml_sub['Lat_rm'] = df_ml_sub['lat'] - df_ml_sub['lat'].mean()"
   ]
  },
  {
   "cell_type": "code",
   "execution_count": 120,
   "metadata": {
    "collapsed": true
   },
   "outputs": [],
   "source": [
    "df_ml_sub['Lng_rm'] = df_ml_sub['lng'] - df_ml_sub['lng'].mean()"
   ]
  },
  {
   "cell_type": "code",
   "execution_count": 113,
   "metadata": {
    "collapsed": false
   },
   "outputs": [
    {
     "name": "stdout",
     "output_type": "stream",
     "text": [
      "H2O session _sid_bafc closed.\n"
     ]
    }
   ],
   "source": [
    "h2o.cluster().shutdown()\n",
    "#h2o.remove_all()"
   ]
  },
  {
   "cell_type": "code",
   "execution_count": 121,
   "metadata": {
    "collapsed": false,
    "scrolled": true
   },
   "outputs": [
    {
     "name": "stdout",
     "output_type": "stream",
     "text": [
      "Checking whether there is an H2O instance running at http://localhost:54321..... not found.\n",
      "Attempting to start a local H2O server...\n",
      "  Java Version: openjdk version \"1.8.0_152-release\"; OpenJDK Runtime Environment (build 1.8.0_152-release-1056-b12); OpenJDK 64-Bit Server VM (build 25.152-b12, mixed mode)\n",
      "  Starting server from /Users/chaogao/anaconda/h2o_jar/h2o.jar\n",
      "  Ice root: /var/folders/qy/8ph9blss7658wd26ypypv6jh0000gn/T/tmpeahr_0b6\n",
      "  JVM stdout: /var/folders/qy/8ph9blss7658wd26ypypv6jh0000gn/T/tmpeahr_0b6/h2o_chaogao_started_from_python.out\n",
      "  JVM stderr: /var/folders/qy/8ph9blss7658wd26ypypv6jh0000gn/T/tmpeahr_0b6/h2o_chaogao_started_from_python.err\n",
      "  Server is running at http://127.0.0.1:54321\n",
      "Connecting to H2O server at http://127.0.0.1:54321... successful.\n",
      "Warning: Your H2O cluster version is too old (8 months and 6 days)! Please download and install the latest version from http://h2o.ai/download/\n"
     ]
    },
    {
     "data": {
      "text/html": [
       "<div style=\"overflow:auto\"><table style=\"width:50%\"><tr><td>H2O cluster uptime:</td>\n",
       "<td>02 secs</td></tr>\n",
       "<tr><td>H2O cluster timezone:</td>\n",
       "<td>America/New_York</td></tr>\n",
       "<tr><td>H2O data parsing timezone:</td>\n",
       "<td>UTC</td></tr>\n",
       "<tr><td>H2O cluster version:</td>\n",
       "<td>3.18.0.2</td></tr>\n",
       "<tr><td>H2O cluster version age:</td>\n",
       "<td>8 months and 6 days !!!</td></tr>\n",
       "<tr><td>H2O cluster name:</td>\n",
       "<td>H2O_from_python_chaogao_uvp9kk</td></tr>\n",
       "<tr><td>H2O cluster total nodes:</td>\n",
       "<td>1</td></tr>\n",
       "<tr><td>H2O cluster free memory:</td>\n",
       "<td>17.78 Gb</td></tr>\n",
       "<tr><td>H2O cluster total cores:</td>\n",
       "<td>12</td></tr>\n",
       "<tr><td>H2O cluster allowed cores:</td>\n",
       "<td>12</td></tr>\n",
       "<tr><td>H2O cluster status:</td>\n",
       "<td>accepting new members, healthy</td></tr>\n",
       "<tr><td>H2O connection url:</td>\n",
       "<td>http://127.0.0.1:54321</td></tr>\n",
       "<tr><td>H2O connection proxy:</td>\n",
       "<td>None</td></tr>\n",
       "<tr><td>H2O internal security:</td>\n",
       "<td>False</td></tr>\n",
       "<tr><td>H2O API Extensions:</td>\n",
       "<td>XGBoost, Algos, AutoML, Core V3, Core V4</td></tr>\n",
       "<tr><td>Python version:</td>\n",
       "<td>3.6.6 final</td></tr></table></div>"
      ],
      "text/plain": [
       "--------------------------  ----------------------------------------\n",
       "H2O cluster uptime:         02 secs\n",
       "H2O cluster timezone:       America/New_York\n",
       "H2O data parsing timezone:  UTC\n",
       "H2O cluster version:        3.18.0.2\n",
       "H2O cluster version age:    8 months and 6 days !!!\n",
       "H2O cluster name:           H2O_from_python_chaogao_uvp9kk\n",
       "H2O cluster total nodes:    1\n",
       "H2O cluster free memory:    17.78 Gb\n",
       "H2O cluster total cores:    12\n",
       "H2O cluster allowed cores:  12\n",
       "H2O cluster status:         accepting new members, healthy\n",
       "H2O connection url:         http://127.0.0.1:54321\n",
       "H2O connection proxy:\n",
       "H2O internal security:      False\n",
       "H2O API Extensions:         XGBoost, Algos, AutoML, Core V3, Core V4\n",
       "Python version:             3.6.6 final\n",
       "--------------------------  ----------------------------------------"
      ]
     },
     "metadata": {},
     "output_type": "display_data"
    }
   ],
   "source": [
    "h2o.init(ip='localhost',max_mem_size = '20G',min_mem_size = '15G')"
   ]
  },
  {
   "cell_type": "code",
   "execution_count": 122,
   "metadata": {
    "collapsed": false
   },
   "outputs": [
    {
     "data": {
      "text/html": [
       "<div>\n",
       "<style scoped>\n",
       "    .dataframe tbody tr th:only-of-type {\n",
       "        vertical-align: middle;\n",
       "    }\n",
       "\n",
       "    .dataframe tbody tr th {\n",
       "        vertical-align: top;\n",
       "    }\n",
       "\n",
       "    .dataframe thead th {\n",
       "        text-align: right;\n",
       "    }\n",
       "</style>\n",
       "<table border=\"1\" class=\"dataframe\">\n",
       "  <thead>\n",
       "    <tr style=\"text-align: right;\">\n",
       "      <th></th>\n",
       "      <th>key</th>\n",
       "    </tr>\n",
       "  </thead>\n",
       "  <tbody>\n",
       "  </tbody>\n",
       "</table>\n",
       "</div>"
      ],
      "text/plain": [
       "Empty DataFrame\n",
       "Columns: [key]\n",
       "Index: []"
      ]
     },
     "execution_count": 122,
     "metadata": {},
     "output_type": "execute_result"
    }
   ],
   "source": [
    "h2o.ls()"
   ]
  },
  {
   "cell_type": "code",
   "execution_count": 123,
   "metadata": {
    "collapsed": false
   },
   "outputs": [
    {
     "name": "stdout",
     "output_type": "stream",
     "text": [
      "Parse progress: |█████████████████████████████████████████████████████████| 100%\n"
     ]
    }
   ],
   "source": [
    "hf_ml = h2o.H2OFrame(df_ml_sub)"
   ]
  },
  {
   "cell_type": "code",
   "execution_count": 60,
   "metadata": {
    "collapsed": false
   },
   "outputs": [
    {
     "data": {
      "text/html": [
       "<table>\n",
       "<thead>\n",
       "<tr><th>license_plate_type  </th><th>violation_description                   </th><th>vehicle_make  </th><th style=\"text-align: right;\">  fine_level1_amount</th><th style=\"text-align: right;\">  officer</th><th style=\"text-align: right;\">    lat</th><th style=\"text-align: right;\">     lng</th><th style=\"text-align: right;\">  Outcome</th><th style=\"text-align: right;\">  Month</th><th style=\"text-align: right;\">  Weekday</th><th style=\"text-align: right;\">  Hour</th><th style=\"text-align: right;\">  Plate_State</th><th style=\"text-align: right;\">    Lat_rm</th><th style=\"text-align: right;\">    Lng_rm</th></tr>\n",
       "</thead>\n",
       "<tbody>\n",
       "<tr><td>PAS                 </td><td>REAR AND FRONT PLATE REQUIRED           </td><td>LNDR          </td><td style=\"text-align: right;\">                  60</td><td style=\"text-align: right;\">     5238</td><td style=\"text-align: right;\">41.8349</td><td style=\"text-align: right;\">-87.6142</td><td style=\"text-align: right;\">        3</td><td style=\"text-align: right;\">      5</td><td style=\"text-align: right;\">        3</td><td style=\"text-align: right;\">    17</td><td style=\"text-align: right;\">            1</td><td style=\"text-align: right;\">-0.04638  </td><td style=\"text-align: right;\"> 0.0552436</td></tr>\n",
       "<tr><td>TMP                 </td><td>EXPIRED PLATES OR TEMPORARY REGISTRATION</td><td>CHRY          </td><td style=\"text-align: right;\">                  60</td><td style=\"text-align: right;\">    10109</td><td style=\"text-align: right;\">41.8349</td><td style=\"text-align: right;\">-87.6142</td><td style=\"text-align: right;\">        2</td><td style=\"text-align: right;\">      1</td><td style=\"text-align: right;\">        5</td><td style=\"text-align: right;\">     0</td><td style=\"text-align: right;\">            1</td><td style=\"text-align: right;\">-0.04638  </td><td style=\"text-align: right;\"> 0.0552436</td></tr>\n",
       "<tr><td>PAS                 </td><td>BLOCK ACCESS/ALLEY/DRIVEWAY/FIRELANE    </td><td>HOND          </td><td style=\"text-align: right;\">                 150</td><td style=\"text-align: right;\">     5121</td><td style=\"text-align: right;\">41.7946</td><td style=\"text-align: right;\">-87.7703</td><td style=\"text-align: right;\">        0</td><td style=\"text-align: right;\">     11</td><td style=\"text-align: right;\">        5</td><td style=\"text-align: right;\">    20</td><td style=\"text-align: right;\">            1</td><td style=\"text-align: right;\">-0.0867014</td><td style=\"text-align: right;\">-0.100873 </td></tr>\n",
       "<tr><td>PAS                 </td><td>DISABLED PARKING ZONE                   </td><td>FORD          </td><td style=\"text-align: right;\">                 250</td><td style=\"text-align: right;\">     5652</td><td style=\"text-align: right;\">41.7946</td><td style=\"text-align: right;\">-87.7703</td><td style=\"text-align: right;\">        0</td><td style=\"text-align: right;\">      5</td><td style=\"text-align: right;\">        4</td><td style=\"text-align: right;\">    17</td><td style=\"text-align: right;\">            1</td><td style=\"text-align: right;\">-0.0867014</td><td style=\"text-align: right;\">-0.100873 </td></tr>\n",
       "<tr><td>PAS                 </td><td>BLOCK ACCESS/ALLEY/DRIVEWAY/FIRELANE    </td><td>DODG          </td><td style=\"text-align: right;\">                 150</td><td style=\"text-align: right;\">     5652</td><td style=\"text-align: right;\">41.7946</td><td style=\"text-align: right;\">-87.7703</td><td style=\"text-align: right;\">        2</td><td style=\"text-align: right;\">     11</td><td style=\"text-align: right;\">        4</td><td style=\"text-align: right;\">    16</td><td style=\"text-align: right;\">            1</td><td style=\"text-align: right;\">-0.0867014</td><td style=\"text-align: right;\">-0.100873 </td></tr>\n",
       "</tbody>\n",
       "</table>"
      ]
     },
     "metadata": {},
     "output_type": "display_data"
    },
    {
     "data": {
      "text/plain": []
     },
     "execution_count": 60,
     "metadata": {},
     "output_type": "execute_result"
    }
   ],
   "source": [
    "hf_ml.head(5)"
   ]
  },
  {
   "cell_type": "code",
   "execution_count": 124,
   "metadata": {
    "collapsed": true
   },
   "outputs": [],
   "source": [
    "hf_ml[\"license_plate_type\"]= hf_ml[\"license_plate_type\"].asfactor()\n",
    "hf_ml[\"violation_description\"]= hf_ml[\"violation_description\"].asfactor()\n",
    "hf_ml[\"vehicle_make\"]= hf_ml[\"vehicle_make\"].asfactor()\n",
    "hf_ml[\"officer\"]= hf_ml[\"officer\"].asfactor()\n",
    "hf_ml[\"Plate_State\"]= hf_ml[\"Plate_State\"].asfactor()\n",
    "hf_ml[\"Month\"]= hf_ml[\"Month\"].asfactor()\n",
    "hf_ml[\"Weekday\"]= hf_ml[\"Weekday\"].asfactor()\n",
    "hf_ml[\"Hour\"]= hf_ml[\"Hour\"].asfactor()\n",
    "hf_ml[\"Outcome\"]= hf_ml[\"Outcome\"].asfactor()"
   ]
  },
  {
   "cell_type": "code",
   "execution_count": 125,
   "metadata": {
    "collapsed": true
   },
   "outputs": [],
   "source": [
    "#train, test = hf_ml.split_frame(ratios=[0.8])\n",
    "train, valid, test = hf_ml.split_frame([0.6, 0.2], seed=1234)"
   ]
  },
  {
   "cell_type": "code",
   "execution_count": 22,
   "metadata": {
    "collapsed": true
   },
   "outputs": [],
   "source": [
    "train_col = ['license_plate_type','violation_description','fine_level1_amount',\n",
    "             'Plate_State','Month', 'Weekday', 'Hour']\n",
    "response_col = 'Outcome'"
   ]
  },
  {
   "cell_type": "code",
   "execution_count": 10,
   "metadata": {
    "collapsed": true
   },
   "outputs": [],
   "source": [
    "RF_v2 = H2ORandomForestEstimator(ntrees=100, max_depth=20, nfolds=10,categorical_encoding = 'SortByResponse',balance_classes = True)"
   ]
  },
  {
   "cell_type": "code",
   "execution_count": 11,
   "metadata": {
    "collapsed": false
   },
   "outputs": [
    {
     "name": "stdout",
     "output_type": "stream",
     "text": [
      "drf Model Build progress: |███████████████████████████████████████████████| 100%\n"
     ]
    }
   ],
   "source": [
    "RF_v2.train(x=train_col, y=response_col, training_frame=train, validation_frame = valid)"
   ]
  },
  {
   "cell_type": "code",
   "execution_count": 12,
   "metadata": {
    "collapsed": false
   },
   "outputs": [
    {
     "name": "stdout",
     "output_type": "stream",
     "text": [
      "\n",
      "ModelMetricsMultinomial: drf\n",
      "** Reported on test data. **\n",
      "\n",
      "MSE: 0.3138745106042716\n",
      "RMSE: 0.5602450451403131\n",
      "LogLoss: 0.9409951424583269\n",
      "Mean Per-Class Error: 0.6771756747814172\n",
      "Confusion Matrix: Row labels: Actual class; Column labels: Predicted class\n",
      "\n"
     ]
    },
    {
     "data": {
      "text/html": [
       "<div style=\"overflow:auto\"><table style=\"width:50%\"><tr><td><b>0</b></td>\n",
       "<td><b>1</b></td>\n",
       "<td><b>2</b></td>\n",
       "<td><b>3</b></td>\n",
       "<td><b>Error</b></td>\n",
       "<td><b>Rate</b></td></tr>\n",
       "<tr><td>102683.0</td>\n",
       "<td>490.0</td>\n",
       "<td>3170.0</td>\n",
       "<td>601.0</td>\n",
       "<td>0.0398433</td>\n",
       "<td>4,261 / 106,944</td></tr>\n",
       "<tr><td>11954.0</td>\n",
       "<td>1232.0</td>\n",
       "<td>996.0</td>\n",
       "<td>180.0</td>\n",
       "<td>0.9142181</td>\n",
       "<td>13,130 / 14,362</td></tr>\n",
       "<tr><td>25707.0</td>\n",
       "<td>125.0</td>\n",
       "<td>5011.0</td>\n",
       "<td>354.0</td>\n",
       "<td>0.8393756</td>\n",
       "<td>26,186 / 31,197</td></tr>\n",
       "<tr><td>13127.0</td>\n",
       "<td>69.0</td>\n",
       "<td>1613.0</td>\n",
       "<td>1371.0</td>\n",
       "<td>0.9152658</td>\n",
       "<td>14,809 / 16,180</td></tr>\n",
       "<tr><td>153471.0</td>\n",
       "<td>1916.0</td>\n",
       "<td>10790.0</td>\n",
       "<td>2506.0</td>\n",
       "<td>0.3461285</td>\n",
       "<td>58,386 / 168,683</td></tr></table></div>"
      ],
      "text/plain": [
       "0       1     2      3     Error      Rate\n",
       "------  ----  -----  ----  ---------  ----------------\n",
       "102683  490   3170   601   0.0398433  4,261 / 106,944\n",
       "11954   1232  996    180   0.914218   13,130 / 14,362\n",
       "25707   125   5011   354   0.839376   26,186 / 31,197\n",
       "13127   69    1613   1371  0.915266   14,809 / 16,180\n",
       "153471  1916  10790  2506  0.346129   58,386 / 168,683"
      ]
     },
     "metadata": {},
     "output_type": "display_data"
    },
    {
     "name": "stdout",
     "output_type": "stream",
     "text": [
      "Top-4 Hit Ratios: \n"
     ]
    },
    {
     "data": {
      "text/html": [
       "<div style=\"overflow:auto\"><table style=\"width:50%\"><tr><td><b>k</b></td>\n",
       "<td><b>hit_ratio</b></td></tr>\n",
       "<tr><td>1</td>\n",
       "<td>0.6538715</td></tr>\n",
       "<tr><td>2</td>\n",
       "<td>0.8482894</td></tr>\n",
       "<tr><td>3</td>\n",
       "<td>0.9423119</td></tr>\n",
       "<tr><td>4</td>\n",
       "<td>1.0</td></tr></table></div>"
      ],
      "text/plain": [
       "k    hit_ratio\n",
       "---  -----------\n",
       "1    0.653872\n",
       "2    0.848289\n",
       "3    0.942312\n",
       "4    1"
      ]
     },
     "metadata": {},
     "output_type": "display_data"
    },
    {
     "name": "stdout",
     "output_type": "stream",
     "text": [
      "\n"
     ]
    }
   ],
   "source": [
    "# Model performance\n",
    "performance = RF_v2.model_performance(test_data=test)\n",
    "\n",
    "print(performance)"
   ]
  },
  {
   "cell_type": "code",
   "execution_count": 126,
   "metadata": {
    "collapsed": true
   },
   "outputs": [],
   "source": [
    "train_col = ['license_plate_type','violation_description','fine_level1_amount',\n",
    "             'Plate_State','Month', 'Weekday', 'Hour','Lat_rm','Lng_rm','officer','vehicle_make']\n",
    "response_col = 'Outcome'"
   ]
  },
  {
   "cell_type": "code",
   "execution_count": 127,
   "metadata": {
    "collapsed": true
   },
   "outputs": [],
   "source": [
    "RF_sub = H2ORandomForestEstimator(ntrees=100, max_depth=15, nfolds=10,min_rows = 50,categorical_encoding = 'SortByResponse',balance_classes = True)"
   ]
  },
  {
   "cell_type": "code",
   "execution_count": 128,
   "metadata": {
    "collapsed": false
   },
   "outputs": [
    {
     "name": "stdout",
     "output_type": "stream",
     "text": [
      "drf Model Build progress: |███████████████████████████████████████████████| 100%\n"
     ]
    }
   ],
   "source": [
    "RF_sub.train(x=train_col, y=response_col, training_frame=train, validation_frame = valid)"
   ]
  },
  {
   "cell_type": "code",
   "execution_count": 108,
   "metadata": {
    "collapsed": false
   },
   "outputs": [
    {
     "name": "stdout",
     "output_type": "stream",
     "text": [
      "\n",
      "ModelMetricsMultinomial: drf\n",
      "** Reported on test data. **\n",
      "\n",
      "MSE: 0.2933995945903271\n",
      "RMSE: 0.5416637283318194\n",
      "LogLoss: 0.8862776777274202\n",
      "Mean Per-Class Error: 0.6341679055260474\n",
      "Confusion Matrix: Row labels: Actual class; Column labels: Predicted class\n",
      "\n"
     ]
    },
    {
     "data": {
      "text/html": [
       "<div style=\"overflow:auto\"><table style=\"width:50%\"><tr><td><b>0</b></td>\n",
       "<td><b>1</b></td>\n",
       "<td><b>2</b></td>\n",
       "<td><b>3</b></td>\n",
       "<td><b>Error</b></td>\n",
       "<td><b>Rate</b></td></tr>\n",
       "<tr><td>101510.0</td>\n",
       "<td>424.0</td>\n",
       "<td>4243.0</td>\n",
       "<td>767.0</td>\n",
       "<td>0.0508116</td>\n",
       "<td>5,434 / 106,944</td></tr>\n",
       "<tr><td>11649.0</td>\n",
       "<td>1176.0</td>\n",
       "<td>1238.0</td>\n",
       "<td>299.0</td>\n",
       "<td>0.9181173</td>\n",
       "<td>13,186 / 14,362</td></tr>\n",
       "<tr><td>22151.0</td>\n",
       "<td>126.0</td>\n",
       "<td>8231.0</td>\n",
       "<td>689.0</td>\n",
       "<td>0.7361605</td>\n",
       "<td>22,966 / 31,197</td></tr>\n",
       "<tr><td>10897.0</td>\n",
       "<td>33.0</td>\n",
       "<td>2525.0</td>\n",
       "<td>2725.0</td>\n",
       "<td>0.8315822</td>\n",
       "<td>13,455 / 16,180</td></tr>\n",
       "<tr><td>146207.0</td>\n",
       "<td>1759.0</td>\n",
       "<td>16237.0</td>\n",
       "<td>4480.0</td>\n",
       "<td>0.3262984</td>\n",
       "<td>55,041 / 168,683</td></tr></table></div>"
      ],
      "text/plain": [
       "0       1     2      3     Error      Rate\n",
       "------  ----  -----  ----  ---------  ----------------\n",
       "101510  424   4243   767   0.0508116  5,434 / 106,944\n",
       "11649   1176  1238   299   0.918117   13,186 / 14,362\n",
       "22151   126   8231   689   0.736161   22,966 / 31,197\n",
       "10897   33    2525   2725  0.831582   13,455 / 16,180\n",
       "146207  1759  16237  4480  0.326298   55,041 / 168,683"
      ]
     },
     "metadata": {},
     "output_type": "display_data"
    },
    {
     "name": "stdout",
     "output_type": "stream",
     "text": [
      "Top-4 Hit Ratios: \n"
     ]
    },
    {
     "data": {
      "text/html": [
       "<div style=\"overflow:auto\"><table style=\"width:50%\"><tr><td><b>k</b></td>\n",
       "<td><b>hit_ratio</b></td></tr>\n",
       "<tr><td>1</td>\n",
       "<td>0.6737016</td></tr>\n",
       "<tr><td>2</td>\n",
       "<td>0.8628730</td></tr>\n",
       "<tr><td>3</td>\n",
       "<td>0.9523248</td></tr>\n",
       "<tr><td>4</td>\n",
       "<td>1.0</td></tr></table></div>"
      ],
      "text/plain": [
       "k    hit_ratio\n",
       "---  -----------\n",
       "1    0.673702\n",
       "2    0.862873\n",
       "3    0.952325\n",
       "4    1"
      ]
     },
     "metadata": {},
     "output_type": "display_data"
    },
    {
     "name": "stdout",
     "output_type": "stream",
     "text": [
      "\n"
     ]
    }
   ],
   "source": [
    "# Model performance\n",
    "performance = RF_v5.model_performance(test_data=test)\n",
    "\n",
    "print(performance)"
   ]
  },
  {
   "cell_type": "code",
   "execution_count": 129,
   "metadata": {
    "collapsed": false
   },
   "outputs": [
    {
     "name": "stdout",
     "output_type": "stream",
     "text": [
      "\n",
      "ModelMetricsMultinomial: drf\n",
      "** Reported on test data. **\n",
      "\n",
      "MSE: 0.3145643042192076\n",
      "RMSE: 0.5608603250535802\n",
      "LogLoss: 0.8801188623896596\n",
      "Mean Per-Class Error: 0.47335772636457235\n",
      "Confusion Matrix: Row labels: Actual class; Column labels: Predicted class\n",
      "\n"
     ]
    },
    {
     "data": {
      "text/html": [
       "<div style=\"overflow:auto\"><table style=\"width:50%\"><tr><td><b>1</b></td>\n",
       "<td><b>2</b></td>\n",
       "<td><b>3</b></td>\n",
       "<td><b>Error</b></td>\n",
       "<td><b>Rate</b></td></tr>\n",
       "<tr><td>4232.0</td>\n",
       "<td>8405.0</td>\n",
       "<td>1901.0</td>\n",
       "<td>0.7089008</td>\n",
       "<td>10,306 / 14,538</td></tr>\n",
       "<tr><td>1911.0</td>\n",
       "<td>26480.0</td>\n",
       "<td>2865.0</td>\n",
       "<td>0.1528027</td>\n",
       "<td>4,776 / 31,256</td></tr>\n",
       "<tr><td>954.0</td>\n",
       "<td>8129.0</td>\n",
       "<td>7184.0</td>\n",
       "<td>0.5583697</td>\n",
       "<td>9,083 / 16,267</td></tr>\n",
       "<tr><td>7097.0</td>\n",
       "<td>43014.0</td>\n",
       "<td>11950.0</td>\n",
       "<td>0.3893750</td>\n",
       "<td>24,165 / 62,061</td></tr></table></div>"
      ],
      "text/plain": [
       "1     2      3      Error     Rate\n",
       "----  -----  -----  --------  ---------------\n",
       "4232  8405   1901   0.708901  10,306 / 14,538\n",
       "1911  26480  2865   0.152803  4,776 / 31,256\n",
       "954   8129   7184   0.55837   9,083 / 16,267\n",
       "7097  43014  11950  0.389375  24,165 / 62,061"
      ]
     },
     "metadata": {},
     "output_type": "display_data"
    },
    {
     "name": "stdout",
     "output_type": "stream",
     "text": [
      "Top-3 Hit Ratios: \n"
     ]
    },
    {
     "data": {
      "text/html": [
       "<div style=\"overflow:auto\"><table style=\"width:50%\"><tr><td><b>k</b></td>\n",
       "<td><b>hit_ratio</b></td></tr>\n",
       "<tr><td>1</td>\n",
       "<td>0.610625</td></tr>\n",
       "<tr><td>2</td>\n",
       "<td>0.8676947</td></tr>\n",
       "<tr><td>3</td>\n",
       "<td>1.0</td></tr></table></div>"
      ],
      "text/plain": [
       "k    hit_ratio\n",
       "---  -----------\n",
       "1    0.610625\n",
       "2    0.867695\n",
       "3    1"
      ]
     },
     "metadata": {},
     "output_type": "display_data"
    },
    {
     "name": "stdout",
     "output_type": "stream",
     "text": [
      "\n"
     ]
    }
   ],
   "source": [
    "# Model performance\n",
    "performance = RF_sub.model_performance(test_data=test)\n",
    "\n",
    "print(performance)"
   ]
  },
  {
   "cell_type": "code",
   "execution_count": 111,
   "metadata": {
    "collapsed": false,
    "scrolled": true
   },
   "outputs": [
    {
     "data": {
      "text/html": [
       "<div>\n",
       "<style scoped>\n",
       "    .dataframe tbody tr th:only-of-type {\n",
       "        vertical-align: middle;\n",
       "    }\n",
       "\n",
       "    .dataframe tbody tr th {\n",
       "        vertical-align: top;\n",
       "    }\n",
       "\n",
       "    .dataframe thead th {\n",
       "        text-align: right;\n",
       "    }\n",
       "</style>\n",
       "<table border=\"1\" class=\"dataframe\">\n",
       "  <thead>\n",
       "    <tr style=\"text-align: right;\">\n",
       "      <th></th>\n",
       "      <th></th>\n",
       "      <th>timestamp</th>\n",
       "      <th>duration</th>\n",
       "      <th>number_of_trees</th>\n",
       "      <th>training_rmse</th>\n",
       "      <th>training_logloss</th>\n",
       "      <th>training_classification_error</th>\n",
       "      <th>validation_rmse</th>\n",
       "      <th>validation_logloss</th>\n",
       "      <th>validation_classification_error</th>\n",
       "    </tr>\n",
       "  </thead>\n",
       "  <tbody>\n",
       "    <tr>\n",
       "      <th>0</th>\n",
       "      <td></td>\n",
       "      <td>2018-11-12 12:07:13</td>\n",
       "      <td>30 min 46.182 sec</td>\n",
       "      <td>0.0</td>\n",
       "      <td>NaN</td>\n",
       "      <td>NaN</td>\n",
       "      <td>NaN</td>\n",
       "      <td>NaN</td>\n",
       "      <td>NaN</td>\n",
       "      <td>NaN</td>\n",
       "    </tr>\n",
       "    <tr>\n",
       "      <th>1</th>\n",
       "      <td></td>\n",
       "      <td>2018-11-12 12:07:15</td>\n",
       "      <td>30 min 48.026 sec</td>\n",
       "      <td>1.0</td>\n",
       "      <td>0.684800</td>\n",
       "      <td>1.491765</td>\n",
       "      <td>0.592364</td>\n",
       "      <td>0.567727</td>\n",
       "      <td>2.495905</td>\n",
       "      <td>0.358972</td>\n",
       "    </tr>\n",
       "    <tr>\n",
       "      <th>2</th>\n",
       "      <td></td>\n",
       "      <td>2018-11-12 12:07:16</td>\n",
       "      <td>30 min 49.439 sec</td>\n",
       "      <td>2.0</td>\n",
       "      <td>0.685292</td>\n",
       "      <td>1.455562</td>\n",
       "      <td>0.593879</td>\n",
       "      <td>0.559195</td>\n",
       "      <td>1.189208</td>\n",
       "      <td>0.352792</td>\n",
       "    </tr>\n",
       "    <tr>\n",
       "      <th>3</th>\n",
       "      <td></td>\n",
       "      <td>2018-11-12 12:07:20</td>\n",
       "      <td>30 min 53.474 sec</td>\n",
       "      <td>5.0</td>\n",
       "      <td>0.684274</td>\n",
       "      <td>1.390641</td>\n",
       "      <td>0.594828</td>\n",
       "      <td>0.556579</td>\n",
       "      <td>1.005094</td>\n",
       "      <td>0.352555</td>\n",
       "    </tr>\n",
       "    <tr>\n",
       "      <th>4</th>\n",
       "      <td></td>\n",
       "      <td>2018-11-12 12:07:24</td>\n",
       "      <td>30 min 57.691 sec</td>\n",
       "      <td>8.0</td>\n",
       "      <td>0.683472</td>\n",
       "      <td>1.359760</td>\n",
       "      <td>0.594732</td>\n",
       "      <td>0.556372</td>\n",
       "      <td>0.987876</td>\n",
       "      <td>0.353514</td>\n",
       "    </tr>\n",
       "    <tr>\n",
       "      <th>5</th>\n",
       "      <td></td>\n",
       "      <td>2018-11-12 12:07:30</td>\n",
       "      <td>31 min  3.381 sec</td>\n",
       "      <td>12.0</td>\n",
       "      <td>0.682916</td>\n",
       "      <td>1.334649</td>\n",
       "      <td>0.594688</td>\n",
       "      <td>0.555914</td>\n",
       "      <td>0.985481</td>\n",
       "      <td>0.354065</td>\n",
       "    </tr>\n",
       "    <tr>\n",
       "      <th>6</th>\n",
       "      <td></td>\n",
       "      <td>2018-11-12 12:07:39</td>\n",
       "      <td>31 min 11.941 sec</td>\n",
       "      <td>18.0</td>\n",
       "      <td>0.681696</td>\n",
       "      <td>1.318301</td>\n",
       "      <td>0.594909</td>\n",
       "      <td>0.556953</td>\n",
       "      <td>0.991719</td>\n",
       "      <td>0.355645</td>\n",
       "    </tr>\n",
       "    <tr>\n",
       "      <th>7</th>\n",
       "      <td></td>\n",
       "      <td>2018-11-12 12:07:51</td>\n",
       "      <td>31 min 24.784 sec</td>\n",
       "      <td>27.0</td>\n",
       "      <td>0.681366</td>\n",
       "      <td>1.312589</td>\n",
       "      <td>0.594774</td>\n",
       "      <td>0.556899</td>\n",
       "      <td>0.992075</td>\n",
       "      <td>0.355059</td>\n",
       "    </tr>\n",
       "    <tr>\n",
       "      <th>8</th>\n",
       "      <td></td>\n",
       "      <td>2018-11-12 12:08:10</td>\n",
       "      <td>31 min 43.269 sec</td>\n",
       "      <td>40.0</td>\n",
       "      <td>0.681331</td>\n",
       "      <td>1.310874</td>\n",
       "      <td>0.594948</td>\n",
       "      <td>0.556702</td>\n",
       "      <td>0.990358</td>\n",
       "      <td>0.355539</td>\n",
       "    </tr>\n",
       "    <tr>\n",
       "      <th>9</th>\n",
       "      <td></td>\n",
       "      <td>2018-11-12 12:08:37</td>\n",
       "      <td>32 min 10.807 sec</td>\n",
       "      <td>59.0</td>\n",
       "      <td>0.681401</td>\n",
       "      <td>1.309926</td>\n",
       "      <td>0.595288</td>\n",
       "      <td>0.555947</td>\n",
       "      <td>0.986089</td>\n",
       "      <td>0.354461</td>\n",
       "    </tr>\n",
       "    <tr>\n",
       "      <th>10</th>\n",
       "      <td></td>\n",
       "      <td>2018-11-12 12:09:24</td>\n",
       "      <td>32 min 57.675 sec</td>\n",
       "      <td>89.0</td>\n",
       "      <td>0.681303</td>\n",
       "      <td>1.308953</td>\n",
       "      <td>0.595003</td>\n",
       "      <td>0.556480</td>\n",
       "      <td>0.990641</td>\n",
       "      <td>0.354710</td>\n",
       "    </tr>\n",
       "    <tr>\n",
       "      <th>11</th>\n",
       "      <td></td>\n",
       "      <td>2018-11-12 12:09:46</td>\n",
       "      <td>33 min 19.380 sec</td>\n",
       "      <td>100.0</td>\n",
       "      <td>0.681379</td>\n",
       "      <td>1.309052</td>\n",
       "      <td>0.595088</td>\n",
       "      <td>0.556379</td>\n",
       "      <td>0.989692</td>\n",
       "      <td>0.354704</td>\n",
       "    </tr>\n",
       "  </tbody>\n",
       "</table>\n",
       "</div>"
      ],
      "text/plain": [
       "                timestamp           duration  number_of_trees  training_rmse  \\\n",
       "0     2018-11-12 12:07:13  30 min 46.182 sec              0.0            NaN   \n",
       "1     2018-11-12 12:07:15  30 min 48.026 sec              1.0       0.684800   \n",
       "2     2018-11-12 12:07:16  30 min 49.439 sec              2.0       0.685292   \n",
       "3     2018-11-12 12:07:20  30 min 53.474 sec              5.0       0.684274   \n",
       "4     2018-11-12 12:07:24  30 min 57.691 sec              8.0       0.683472   \n",
       "5     2018-11-12 12:07:30  31 min  3.381 sec             12.0       0.682916   \n",
       "6     2018-11-12 12:07:39  31 min 11.941 sec             18.0       0.681696   \n",
       "7     2018-11-12 12:07:51  31 min 24.784 sec             27.0       0.681366   \n",
       "8     2018-11-12 12:08:10  31 min 43.269 sec             40.0       0.681331   \n",
       "9     2018-11-12 12:08:37  32 min 10.807 sec             59.0       0.681401   \n",
       "10    2018-11-12 12:09:24  32 min 57.675 sec             89.0       0.681303   \n",
       "11    2018-11-12 12:09:46  33 min 19.380 sec            100.0       0.681379   \n",
       "\n",
       "    training_logloss  training_classification_error  validation_rmse  \\\n",
       "0                NaN                            NaN              NaN   \n",
       "1           1.491765                       0.592364         0.567727   \n",
       "2           1.455562                       0.593879         0.559195   \n",
       "3           1.390641                       0.594828         0.556579   \n",
       "4           1.359760                       0.594732         0.556372   \n",
       "5           1.334649                       0.594688         0.555914   \n",
       "6           1.318301                       0.594909         0.556953   \n",
       "7           1.312589                       0.594774         0.556899   \n",
       "8           1.310874                       0.594948         0.556702   \n",
       "9           1.309926                       0.595288         0.555947   \n",
       "10          1.308953                       0.595003         0.556480   \n",
       "11          1.309052                       0.595088         0.556379   \n",
       "\n",
       "    validation_logloss  validation_classification_error  \n",
       "0                  NaN                              NaN  \n",
       "1             2.495905                         0.358972  \n",
       "2             1.189208                         0.352792  \n",
       "3             1.005094                         0.352555  \n",
       "4             0.987876                         0.353514  \n",
       "5             0.985481                         0.354065  \n",
       "6             0.991719                         0.355645  \n",
       "7             0.992075                         0.355059  \n",
       "8             0.990358                         0.355539  \n",
       "9             0.986089                         0.354461  \n",
       "10            0.990641                         0.354710  \n",
       "11            0.989692                         0.354704  "
      ]
     },
     "execution_count": 111,
     "metadata": {},
     "output_type": "execute_result"
    }
   ],
   "source": [
    "RF_v5.score_history()"
   ]
  },
  {
   "cell_type": "code",
   "execution_count": 130,
   "metadata": {
    "collapsed": false
   },
   "outputs": [
    {
     "data": {
      "image/png": "[encoded data removed]",
      "text/plain": [
       "<Figure size 576x396 with 1 Axes>"
      ]
     },
     "metadata": {},
     "output_type": "display_data"
    }
   ],
   "source": [
    "RF_sub.plot()"
   ]
  },
  {
   "cell_type": "code",
   "execution_count": 131,
   "metadata": {
    "collapsed": false
   },
   "outputs": [
    {
     "data": {
      "image/png": "[encoded data removed]",
      "text/plain": [
       "<Figure size 1008x720 with 1 Axes>"
      ]
     },
     "metadata": {},
     "output_type": "display_data"
    }
   ],
   "source": [
    "RF_sub.varimp_plot()"
   ]
  },
  {
   "cell_type": "code",
   "execution_count": 132,
   "metadata": {
    "collapsed": false
   },
   "outputs": [
    {
     "name": "stdout",
     "output_type": "stream",
     "text": [
      "/Users/chaogao/Documents/Python_course/CCPT/model/DRF_model_python_1542046911812_1\n"
     ]
    }
   ],
   "source": [
    "# save the model\n",
    "model_path = h2o.save_model(model=RF_sub, path=\"../model\", force=True)\n",
    "\n",
    "print(model_path)"
   ]
  },
  {
   "cell_type": "code",
   "execution_count": 23,
   "metadata": {
    "collapsed": true
   },
   "outputs": [],
   "source": [
    "from h2o.estimators.gbm import H2OGradientBoostingEstimator"
   ]
  },
  {
   "cell_type": "code",
   "execution_count": 24,
   "metadata": {
    "collapsed": false
   },
   "outputs": [
    {
     "name": "stdout",
     "output_type": "stream",
     "text": [
      "gbm Model Build progress: |███████████████████████████████████████████████| 100%\n"
     ]
    }
   ],
   "source": [
    "gbm_v1 = H2OGradientBoostingEstimator(\n",
    "    model_id=\"gbm_v1\",\n",
    "    seed=1244\n",
    ")\n",
    "gbm_v1.train(x=train_col, y=response_col, training_frame=train, validation_frame=valid)"
   ]
  },
  {
   "cell_type": "code",
   "execution_count": 25,
   "metadata": {
    "collapsed": false
   },
   "outputs": [
    {
     "name": "stdout",
     "output_type": "stream",
     "text": [
      "\n",
      "ModelMetricsMultinomial: gbm\n",
      "** Reported on test data. **\n",
      "\n",
      "MSE: 0.3151665486226499\n",
      "RMSE: 0.5613969617148368\n",
      "LogLoss: 0.9275033519594889\n",
      "Mean Per-Class Error: 0.6646070321465434\n",
      "Confusion Matrix: Row labels: Actual class; Column labels: Predicted class\n",
      "\n"
     ]
    },
    {
     "data": {
      "text/html": [
       "<div style=\"overflow:auto\"><table style=\"width:50%\"><tr><td><b>0</b></td>\n",
       "<td><b>1</b></td>\n",
       "<td><b>2</b></td>\n",
       "<td><b>3</b></td>\n",
       "<td><b>Error</b></td>\n",
       "<td><b>Rate</b></td></tr>\n",
       "<tr><td>102018.0</td>\n",
       "<td>617.0</td>\n",
       "<td>3434.0</td>\n",
       "<td>875.0</td>\n",
       "<td>0.0460615</td>\n",
       "<td>4,926 / 106,944</td></tr>\n",
       "<tr><td>11631.0</td>\n",
       "<td>1472.0</td>\n",
       "<td>1019.0</td>\n",
       "<td>240.0</td>\n",
       "<td>0.8975073</td>\n",
       "<td>12,890 / 14,362</td></tr>\n",
       "<tr><td>25183.0</td>\n",
       "<td>185.0</td>\n",
       "<td>5369.0</td>\n",
       "<td>460.0</td>\n",
       "<td>0.8279001</td>\n",
       "<td>25,828 / 31,197</td></tr>\n",
       "<tr><td>12629.0</td>\n",
       "<td>74.0</td>\n",
       "<td>1648.0</td>\n",
       "<td>1829.0</td>\n",
       "<td>0.8869592</td>\n",
       "<td>14,351 / 16,180</td></tr>\n",
       "<tr><td>151461.0</td>\n",
       "<td>2348.0</td>\n",
       "<td>11470.0</td>\n",
       "<td>3404.0</td>\n",
       "<td>0.3438106</td>\n",
       "<td>57,995 / 168,683</td></tr></table></div>"
      ],
      "text/plain": [
       "0       1     2      3     Error      Rate\n",
       "------  ----  -----  ----  ---------  ----------------\n",
       "102018  617   3434   875   0.0460615  4,926 / 106,944\n",
       "11631   1472  1019   240   0.897507   12,890 / 14,362\n",
       "25183   185   5369   460   0.8279     25,828 / 31,197\n",
       "12629   74    1648   1829  0.886959   14,351 / 16,180\n",
       "151461  2348  11470  3404  0.343811   57,995 / 168,683"
      ]
     },
     "metadata": {},
     "output_type": "display_data"
    },
    {
     "name": "stdout",
     "output_type": "stream",
     "text": [
      "Top-4 Hit Ratios: \n"
     ]
    },
    {
     "data": {
      "text/html": [
       "<div style=\"overflow:auto\"><table style=\"width:50%\"><tr><td><b>k</b></td>\n",
       "<td><b>hit_ratio</b></td></tr>\n",
       "<tr><td>1</td>\n",
       "<td>0.6561894</td></tr>\n",
       "<tr><td>2</td>\n",
       "<td>0.8513365</td></tr>\n",
       "<tr><td>3</td>\n",
       "<td>0.9443513</td></tr>\n",
       "<tr><td>4</td>\n",
       "<td>1.0</td></tr></table></div>"
      ],
      "text/plain": [
       "k    hit_ratio\n",
       "---  -----------\n",
       "1    0.656189\n",
       "2    0.851337\n",
       "3    0.944351\n",
       "4    1"
      ]
     },
     "metadata": {},
     "output_type": "display_data"
    },
    {
     "name": "stdout",
     "output_type": "stream",
     "text": [
      "\n"
     ]
    }
   ],
   "source": [
    "# Model performance\n",
    "performance = gbm_v1.model_performance(test_data=test)\n",
    "\n",
    "print(performance)"
   ]
  },
  {
   "cell_type": "code",
   "execution_count": 26,
   "metadata": {
    "collapsed": false
   },
   "outputs": [
    {
     "name": "stdout",
     "output_type": "stream",
     "text": [
      "/Users/chaogao/Documents/Python_course/CCPT/model/gbm_v1\n"
     ]
    }
   ],
   "source": [
    "# save the model\n",
    "model_path = h2o.save_model(model=gbm_v1, path=\"../model\", force=True)\n",
    "\n",
    "print(model_path)"
   ]
  },
  {
   "cell_type": "code",
   "execution_count": 28,
   "metadata": {
    "collapsed": false
   },
   "outputs": [
    {
     "name": "stdout",
     "output_type": "stream",
     "text": [
      "gbm Model Build progress: |███████████████████████████████████████████████| 100%\n"
     ]
    }
   ],
   "source": [
    "gbm_v2 = H2OGradientBoostingEstimator(\n",
    "    model_id=\"gbm_v1\",categorical_encoding = 'SortByResponse',\n",
    "    seed=1244,balance_classes = True)\n",
    "gbm_v2.train(x=train_col, y=response_col, training_frame=train, validation_frame=valid)"
   ]
  },
  {
   "cell_type": "code",
   "execution_count": 29,
   "metadata": {
    "collapsed": false
   },
   "outputs": [
    {
     "name": "stdout",
     "output_type": "stream",
     "text": [
      "\n",
      "ModelMetricsMultinomial: gbm\n",
      "** Reported on test data. **\n",
      "\n",
      "MSE: 0.31501091714932083\n",
      "RMSE: 0.5612583337014434\n",
      "LogLoss: 0.9279318590702603\n",
      "Mean Per-Class Error: 0.6665482504400887\n",
      "Confusion Matrix: Row labels: Actual class; Column labels: Predicted class\n",
      "\n"
     ]
    },
    {
     "data": {
      "text/html": [
       "<div style=\"overflow:auto\"><table style=\"width:50%\"><tr><td><b>0</b></td>\n",
       "<td><b>1</b></td>\n",
       "<td><b>2</b></td>\n",
       "<td><b>3</b></td>\n",
       "<td><b>Error</b></td>\n",
       "<td><b>Rate</b></td></tr>\n",
       "<tr><td>102110.0</td>\n",
       "<td>643.0</td>\n",
       "<td>3317.0</td>\n",
       "<td>874.0</td>\n",
       "<td>0.0452012</td>\n",
       "<td>4,834 / 106,944</td></tr>\n",
       "<tr><td>11694.0</td>\n",
       "<td>1490.0</td>\n",
       "<td>964.0</td>\n",
       "<td>214.0</td>\n",
       "<td>0.8962540</td>\n",
       "<td>12,872 / 14,362</td></tr>\n",
       "<tr><td>25360.0</td>\n",
       "<td>186.0</td>\n",
       "<td>5217.0</td>\n",
       "<td>434.0</td>\n",
       "<td>0.8327724</td>\n",
       "<td>25,980 / 31,197</td></tr>\n",
       "<tr><td>12758.0</td>\n",
       "<td>74.0</td>\n",
       "<td>1600.0</td>\n",
       "<td>1748.0</td>\n",
       "<td>0.8919654</td>\n",
       "<td>14,432 / 16,180</td></tr>\n",
       "<tr><td>151922.0</td>\n",
       "<td>2393.0</td>\n",
       "<td>11098.0</td>\n",
       "<td>3270.0</td>\n",
       "<td>0.3445398</td>\n",
       "<td>58,118 / 168,683</td></tr></table></div>"
      ],
      "text/plain": [
       "0       1     2      3     Error      Rate\n",
       "------  ----  -----  ----  ---------  ----------------\n",
       "102110  643   3317   874   0.0452012  4,834 / 106,944\n",
       "11694   1490  964    214   0.896254   12,872 / 14,362\n",
       "25360   186   5217   434   0.832772   25,980 / 31,197\n",
       "12758   74    1600   1748  0.891965   14,432 / 16,180\n",
       "151922  2393  11098  3270  0.34454    58,118 / 168,683"
      ]
     },
     "metadata": {},
     "output_type": "display_data"
    },
    {
     "name": "stdout",
     "output_type": "stream",
     "text": [
      "Top-4 Hit Ratios: \n"
     ]
    },
    {
     "data": {
      "text/html": [
       "<div style=\"overflow:auto\"><table style=\"width:50%\"><tr><td><b>k</b></td>\n",
       "<td><b>hit_ratio</b></td></tr>\n",
       "<tr><td>1</td>\n",
       "<td>0.6554602</td></tr>\n",
       "<tr><td>2</td>\n",
       "<td>0.8516211</td></tr>\n",
       "<tr><td>3</td>\n",
       "<td>0.9445587</td></tr>\n",
       "<tr><td>4</td>\n",
       "<td>1.0</td></tr></table></div>"
      ],
      "text/plain": [
       "k    hit_ratio\n",
       "---  -----------\n",
       "1    0.65546\n",
       "2    0.851621\n",
       "3    0.944559\n",
       "4    1"
      ]
     },
     "metadata": {},
     "output_type": "display_data"
    },
    {
     "name": "stdout",
     "output_type": "stream",
     "text": [
      "\n"
     ]
    }
   ],
   "source": [
    "# Model performance\n",
    "performance = gbm_v1.model_performance(test_data=test)\n",
    "\n",
    "print(performance)"
   ]
  },
  {
   "cell_type": "code",
   "execution_count": 30,
   "metadata": {
    "collapsed": false
   },
   "outputs": [
    {
     "data": {
      "image/png": "[encoded data removed]",
      "text/plain": [
       "<Figure size 1008x720 with 1 Axes>"
      ]
     },
     "metadata": {},
     "output_type": "display_data"
    }
   ],
   "source": [
    "gbm_v2.varimp_plot()"
   ]
  },
  {
   "cell_type": "code",
   "execution_count": null,
   "metadata": {
    "collapsed": true
   },
   "outputs": [],
   "source": []
  }
 ],
 "metadata": {
  "kernelspec": {
   "display_name": "Python 3",
   "language": "python",
   "name": "python3"
  },
  "language_info": {
   "codemirror_mode": {
    "name": "ipython",
    "version": 3
   },
   "file_extension": ".py",
   "mimetype": "text/x-python",
   "name": "python",
   "nbconvert_exporter": "python",
   "pygments_lexer": "ipython3",
   "version": "3.6.6"
  }
 },
 "nbformat": 4,
 "nbformat_minor": 2
}
