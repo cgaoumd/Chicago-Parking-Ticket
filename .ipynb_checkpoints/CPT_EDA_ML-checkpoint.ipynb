{
 "cells": [
  {
   "cell_type": "markdown",
   "metadata": {},
   "source": [
    "Python notebook for exploratory data analysis of the City of Chicago Parking Ticket Data"
   ]
  },
  {
   "cell_type": "code",
   "execution_count": 1,
   "metadata": {
    "collapsed": true
   },
   "outputs": [],
   "source": [
    "import pandas as pd\n",
    "import matplotlib.pyplot as plt\n",
    "import seaborn as sns\n",
    "import numpy as np\n",
    "import warnings\n",
    "warnings.filterwarnings(\"ignore\")\n",
    "\n",
    "import datetime"
   ]
  },
  {
   "cell_type": "code",
   "execution_count": 2,
   "metadata": {
    "collapsed": true
   },
   "outputs": [],
   "source": [
    "# read the dataframe\n",
    "df_CCPT = pd.read_csv('../data/parking_tickets_frac.csv')"
   ]
  },
  {
   "cell_type": "code",
   "execution_count": 3,
   "metadata": {
    "collapsed": false
   },
   "outputs": [
    {
     "data": {
      "text/html": [
       "<div>\n",
       "<style scoped>\n",
       "    .dataframe tbody tr th:only-of-type {\n",
       "        vertical-align: middle;\n",
       "    }\n",
       "\n",
       "    .dataframe tbody tr th {\n",
       "        vertical-align: top;\n",
       "    }\n",
       "\n",
       "    .dataframe thead th {\n",
       "        text-align: right;\n",
       "    }\n",
       "</style>\n",
       "<table border=\"1\" class=\"dataframe\">\n",
       "  <thead>\n",
       "    <tr style=\"text-align: right;\">\n",
       "      <th></th>\n",
       "      <th>Unnamed: 0</th>\n",
       "      <th>ticket_number</th>\n",
       "      <th>issue_date</th>\n",
       "      <th>violation_location</th>\n",
       "      <th>license_plate_number</th>\n",
       "      <th>license_plate_state</th>\n",
       "      <th>license_plate_type</th>\n",
       "      <th>zipcode</th>\n",
       "      <th>violation_code</th>\n",
       "      <th>violation_description</th>\n",
       "      <th>...</th>\n",
       "      <th>fine_level2_amount</th>\n",
       "      <th>current_amount_due</th>\n",
       "      <th>total_payments</th>\n",
       "      <th>ticket_queue</th>\n",
       "      <th>ticket_queue_date</th>\n",
       "      <th>notice_level</th>\n",
       "      <th>hearing_disposition</th>\n",
       "      <th>notice_number</th>\n",
       "      <th>officer</th>\n",
       "      <th>address</th>\n",
       "    </tr>\n",
       "  </thead>\n",
       "  <tbody>\n",
       "    <tr>\n",
       "      <th>0</th>\n",
       "      <td>19727593</td>\n",
       "      <td>9185717028</td>\n",
       "      <td>2014-08-05 21:26:00</td>\n",
       "      <td>1852 N MAUD</td>\n",
       "      <td>1e55730db26522e18e6cc4e37db1d5e49a1e9740ef56b5...</td>\n",
       "      <td>MI</td>\n",
       "      <td>PAS</td>\n",
       "      <td>NaN</td>\n",
       "      <td>0964090E</td>\n",
       "      <td>RESIDENTIAL PERMIT PARKING</td>\n",
       "      <td>...</td>\n",
       "      <td>150</td>\n",
       "      <td>0.0</td>\n",
       "      <td>75.0</td>\n",
       "      <td>Paid</td>\n",
       "      <td>2014-08-18 00:00:00</td>\n",
       "      <td>NaN</td>\n",
       "      <td>NaN</td>\n",
       "      <td>0</td>\n",
       "      <td>1432</td>\n",
       "      <td>1800 n maud, chicago, il</td>\n",
       "    </tr>\n",
       "    <tr>\n",
       "      <th>1</th>\n",
       "      <td>19367998</td>\n",
       "      <td>64352592</td>\n",
       "      <td>2014-06-14 09:41:00</td>\n",
       "      <td>4057 N SUNNYSIDE</td>\n",
       "      <td>e2ceaa3ed4fba9fa9ddeb146a1218c43eedac433ebacef...</td>\n",
       "      <td>IL</td>\n",
       "      <td>PAS</td>\n",
       "      <td>605212454</td>\n",
       "      <td>0964040B</td>\n",
       "      <td>STREET CLEANING</td>\n",
       "      <td>...</td>\n",
       "      <td>120</td>\n",
       "      <td>0.0</td>\n",
       "      <td>60.0</td>\n",
       "      <td>Paid</td>\n",
       "      <td>2014-08-23 00:00:00</td>\n",
       "      <td>NaN</td>\n",
       "      <td>NaN</td>\n",
       "      <td>5181940070</td>\n",
       "      <td>18937</td>\n",
       "      <td>4000 n sunnyside, chicago, il</td>\n",
       "    </tr>\n",
       "    <tr>\n",
       "      <th>2</th>\n",
       "      <td>5681589</td>\n",
       "      <td>9177655732</td>\n",
       "      <td>2009-01-07 19:56:00</td>\n",
       "      <td>3324 N HALSTED ST</td>\n",
       "      <td>c822dc8d016c735a2d95f33cd9fda4c89519c7aa8c1073...</td>\n",
       "      <td>IL</td>\n",
       "      <td>PAS</td>\n",
       "      <td>606473722</td>\n",
       "      <td>0964200B</td>\n",
       "      <td>PARK OUTSIDE METERED SPACE</td>\n",
       "      <td>...</td>\n",
       "      <td>100</td>\n",
       "      <td>0.0</td>\n",
       "      <td>50.0</td>\n",
       "      <td>Paid</td>\n",
       "      <td>2009-02-05 00:00:00</td>\n",
       "      <td>VIOL</td>\n",
       "      <td>NaN</td>\n",
       "      <td>5105450510</td>\n",
       "      <td>1030</td>\n",
       "      <td>3300 n halsted st, chicago, il</td>\n",
       "    </tr>\n",
       "    <tr>\n",
       "      <th>3</th>\n",
       "      <td>22647956</td>\n",
       "      <td>9188902856</td>\n",
       "      <td>2015-10-24 14:55:00</td>\n",
       "      <td>1953 N LACROSSE AV</td>\n",
       "      <td>0dc52cb43957b09dfc5514e2080d5c1e2a8de3747fe144...</td>\n",
       "      <td>IL</td>\n",
       "      <td>PAS</td>\n",
       "      <td>606512031</td>\n",
       "      <td>0964190A</td>\n",
       "      <td>EXP. METER NON-CENTRAL BUSINESS DISTRICT</td>\n",
       "      <td>...</td>\n",
       "      <td>100</td>\n",
       "      <td>0.0</td>\n",
       "      <td>50.0</td>\n",
       "      <td>Paid</td>\n",
       "      <td>2015-10-29 00:00:00</td>\n",
       "      <td>NaN</td>\n",
       "      <td>NaN</td>\n",
       "      <td>5131145590</td>\n",
       "      <td>1408</td>\n",
       "      <td>1900 n lacrosse av, chicago, il</td>\n",
       "    </tr>\n",
       "    <tr>\n",
       "      <th>4</th>\n",
       "      <td>1161221</td>\n",
       "      <td>9058219394</td>\n",
       "      <td>2007-05-30 17:27:00</td>\n",
       "      <td>1151 W WAVELAND</td>\n",
       "      <td>c99f5ac386092c0274cc2b247e1a411baf8f3a1587965b...</td>\n",
       "      <td>IL</td>\n",
       "      <td>PAS</td>\n",
       "      <td>600351014</td>\n",
       "      <td>0964090E</td>\n",
       "      <td>RESIDENTIAL PERMIT PARKING</td>\n",
       "      <td>...</td>\n",
       "      <td>100</td>\n",
       "      <td>0.0</td>\n",
       "      <td>50.0</td>\n",
       "      <td>Paid</td>\n",
       "      <td>2007-06-26 00:00:00</td>\n",
       "      <td>VIOL</td>\n",
       "      <td>NaN</td>\n",
       "      <td>5084345240</td>\n",
       "      <td>678</td>\n",
       "      <td>1100 w waveland, chicago, il</td>\n",
       "    </tr>\n",
       "  </tbody>\n",
       "</table>\n",
       "<p>5 rows × 24 columns</p>\n",
       "</div>"
      ],
      "text/plain": [
       "   Unnamed: 0  ticket_number           issue_date  violation_location  \\\n",
       "0    19727593     9185717028  2014-08-05 21:26:00         1852 N MAUD   \n",
       "1    19367998       64352592  2014-06-14 09:41:00    4057 N SUNNYSIDE   \n",
       "2     5681589     9177655732  2009-01-07 19:56:00   3324 N HALSTED ST   \n",
       "3    22647956     9188902856  2015-10-24 14:55:00  1953 N LACROSSE AV   \n",
       "4     1161221     9058219394  2007-05-30 17:27:00     1151 W WAVELAND   \n",
       "\n",
       "                                license_plate_number license_plate_state  \\\n",
       "0  1e55730db26522e18e6cc4e37db1d5e49a1e9740ef56b5...                  MI   \n",
       "1  e2ceaa3ed4fba9fa9ddeb146a1218c43eedac433ebacef...                  IL   \n",
       "2  c822dc8d016c735a2d95f33cd9fda4c89519c7aa8c1073...                  IL   \n",
       "3  0dc52cb43957b09dfc5514e2080d5c1e2a8de3747fe144...                  IL   \n",
       "4  c99f5ac386092c0274cc2b247e1a411baf8f3a1587965b...                  IL   \n",
       "\n",
       "  license_plate_type    zipcode violation_code  \\\n",
       "0                PAS        NaN       0964090E   \n",
       "1                PAS  605212454       0964040B   \n",
       "2                PAS  606473722       0964200B   \n",
       "3                PAS  606512031       0964190A   \n",
       "4                PAS  600351014       0964090E   \n",
       "\n",
       "                      violation_description               ...                 \\\n",
       "0                RESIDENTIAL PERMIT PARKING               ...                  \n",
       "1                           STREET CLEANING               ...                  \n",
       "2                PARK OUTSIDE METERED SPACE               ...                  \n",
       "3  EXP. METER NON-CENTRAL BUSINESS DISTRICT               ...                  \n",
       "4                RESIDENTIAL PERMIT PARKING               ...                  \n",
       "\n",
       "  fine_level2_amount current_amount_due total_payments  ticket_queue  \\\n",
       "0                150                0.0           75.0          Paid   \n",
       "1                120                0.0           60.0          Paid   \n",
       "2                100                0.0           50.0          Paid   \n",
       "3                100                0.0           50.0          Paid   \n",
       "4                100                0.0           50.0          Paid   \n",
       "\n",
       "     ticket_queue_date  notice_level  hearing_disposition notice_number  \\\n",
       "0  2014-08-18 00:00:00           NaN                  NaN             0   \n",
       "1  2014-08-23 00:00:00           NaN                  NaN    5181940070   \n",
       "2  2009-02-05 00:00:00          VIOL                  NaN    5105450510   \n",
       "3  2015-10-29 00:00:00           NaN                  NaN    5131145590   \n",
       "4  2007-06-26 00:00:00          VIOL                  NaN    5084345240   \n",
       "\n",
       "  officer                          address  \n",
       "0    1432         1800 n maud, chicago, il  \n",
       "1   18937    4000 n sunnyside, chicago, il  \n",
       "2    1030   3300 n halsted st, chicago, il  \n",
       "3    1408  1900 n lacrosse av, chicago, il  \n",
       "4     678     1100 w waveland, chicago, il  \n",
       "\n",
       "[5 rows x 24 columns]"
      ]
     },
     "execution_count": 3,
     "metadata": {},
     "output_type": "execute_result"
    }
   ],
   "source": [
    "df_CCPT.head(5)"
   ]
  },
  {
   "cell_type": "code",
   "execution_count": 4,
   "metadata": {
    "collapsed": false
   },
   "outputs": [
    {
     "data": {
      "text/html": [
       "<div>\n",
       "<style scoped>\n",
       "    .dataframe tbody tr th:only-of-type {\n",
       "        vertical-align: middle;\n",
       "    }\n",
       "\n",
       "    .dataframe tbody tr th {\n",
       "        vertical-align: top;\n",
       "    }\n",
       "\n",
       "    .dataframe thead th {\n",
       "        text-align: right;\n",
       "    }\n",
       "</style>\n",
       "<table border=\"1\" class=\"dataframe\">\n",
       "  <thead>\n",
       "    <tr style=\"text-align: right;\">\n",
       "      <th></th>\n",
       "      <th>Unique Entry</th>\n",
       "      <th>Nan Entry</th>\n",
       "    </tr>\n",
       "  </thead>\n",
       "  <tbody>\n",
       "    <tr>\n",
       "      <th>Unnamed: 0</th>\n",
       "      <td>5654516</td>\n",
       "      <td>False</td>\n",
       "    </tr>\n",
       "    <tr>\n",
       "      <th>ticket_number</th>\n",
       "      <td>5654516</td>\n",
       "      <td>False</td>\n",
       "    </tr>\n",
       "    <tr>\n",
       "      <th>issue_date</th>\n",
       "      <td>2978168</td>\n",
       "      <td>False</td>\n",
       "    </tr>\n",
       "    <tr>\n",
       "      <th>violation_location</th>\n",
       "      <td>1461772</td>\n",
       "      <td>False</td>\n",
       "    </tr>\n",
       "    <tr>\n",
       "      <th>license_plate_number</th>\n",
       "      <td>3148505</td>\n",
       "      <td>False</td>\n",
       "    </tr>\n",
       "    <tr>\n",
       "      <th>license_plate_state</th>\n",
       "      <td>63</td>\n",
       "      <td>True</td>\n",
       "    </tr>\n",
       "    <tr>\n",
       "      <th>license_plate_type</th>\n",
       "      <td>152</td>\n",
       "      <td>True</td>\n",
       "    </tr>\n",
       "    <tr>\n",
       "      <th>zipcode</th>\n",
       "      <td>752499</td>\n",
       "      <td>True</td>\n",
       "    </tr>\n",
       "    <tr>\n",
       "      <th>violation_code</th>\n",
       "      <td>130</td>\n",
       "      <td>False</td>\n",
       "    </tr>\n",
       "    <tr>\n",
       "      <th>violation_description</th>\n",
       "      <td>128</td>\n",
       "      <td>False</td>\n",
       "    </tr>\n",
       "    <tr>\n",
       "      <th>unit</th>\n",
       "      <td>373</td>\n",
       "      <td>True</td>\n",
       "    </tr>\n",
       "    <tr>\n",
       "      <th>unit_description</th>\n",
       "      <td>6</td>\n",
       "      <td>False</td>\n",
       "    </tr>\n",
       "    <tr>\n",
       "      <th>vehicle_make</th>\n",
       "      <td>175</td>\n",
       "      <td>False</td>\n",
       "    </tr>\n",
       "    <tr>\n",
       "      <th>fine_level1_amount</th>\n",
       "      <td>15</td>\n",
       "      <td>False</td>\n",
       "    </tr>\n",
       "    <tr>\n",
       "      <th>fine_level2_amount</th>\n",
       "      <td>16</td>\n",
       "      <td>False</td>\n",
       "    </tr>\n",
       "    <tr>\n",
       "      <th>current_amount_due</th>\n",
       "      <td>18838</td>\n",
       "      <td>False</td>\n",
       "    </tr>\n",
       "    <tr>\n",
       "      <th>total_payments</th>\n",
       "      <td>26346</td>\n",
       "      <td>False</td>\n",
       "    </tr>\n",
       "    <tr>\n",
       "      <th>ticket_queue</th>\n",
       "      <td>7</td>\n",
       "      <td>False</td>\n",
       "    </tr>\n",
       "    <tr>\n",
       "      <th>ticket_queue_date</th>\n",
       "      <td>4159</td>\n",
       "      <td>False</td>\n",
       "    </tr>\n",
       "    <tr>\n",
       "      <th>notice_level</th>\n",
       "      <td>5</td>\n",
       "      <td>True</td>\n",
       "    </tr>\n",
       "    <tr>\n",
       "      <th>hearing_disposition</th>\n",
       "      <td>2</td>\n",
       "      <td>True</td>\n",
       "    </tr>\n",
       "    <tr>\n",
       "      <th>notice_number</th>\n",
       "      <td>2977432</td>\n",
       "      <td>False</td>\n",
       "    </tr>\n",
       "    <tr>\n",
       "      <th>officer</th>\n",
       "      <td>22021</td>\n",
       "      <td>False</td>\n",
       "    </tr>\n",
       "    <tr>\n",
       "      <th>address</th>\n",
       "      <td>187498</td>\n",
       "      <td>False</td>\n",
       "    </tr>\n",
       "  </tbody>\n",
       "</table>\n",
       "</div>"
      ],
      "text/plain": [
       "                       Unique Entry  Nan Entry\n",
       "Unnamed: 0                  5654516      False\n",
       "ticket_number               5654516      False\n",
       "issue_date                  2978168      False\n",
       "violation_location          1461772      False\n",
       "license_plate_number        3148505      False\n",
       "license_plate_state              63       True\n",
       "license_plate_type              152       True\n",
       "zipcode                      752499       True\n",
       "violation_code                  130      False\n",
       "violation_description           128      False\n",
       "unit                            373       True\n",
       "unit_description                  6      False\n",
       "vehicle_make                    175      False\n",
       "fine_level1_amount               15      False\n",
       "fine_level2_amount               16      False\n",
       "current_amount_due            18838      False\n",
       "total_payments                26346      False\n",
       "ticket_queue                      7      False\n",
       "ticket_queue_date              4159      False\n",
       "notice_level                      5       True\n",
       "hearing_disposition               2       True\n",
       "notice_number               2977432      False\n",
       "officer                       22021      False\n",
       "address                      187498      False"
      ]
     },
     "execution_count": 4,
     "metadata": {},
     "output_type": "execute_result"
    }
   ],
   "source": [
    "hd = {'Unique Entry': df_CCPT.nunique(axis = 0),\n",
    "        'Nan Entry': df_CCPT.isnull().any()}\n",
    "pd.DataFrame(data = hd, index = df_CCPT.columns.values)\n",
    "\n",
    "# potential columns to drop: ticket_number,violation_location (since its normalized to address),license_plate_number,\n",
    "# zipcode, unit, notice_number  "
   ]
  },
  {
   "cell_type": "code",
   "execution_count": 5,
   "metadata": {
    "collapsed": true
   },
   "outputs": [],
   "source": [
    "to_drop = ['Unnamed: 0','ticket_number','violation_location','license_plate_number',\n",
    "           'zipcode','unit','unit_description','notice_number']\n",
    "df_CCPT.drop(labels=to_drop ,axis = 1,inplace = True)"
   ]
  },
  {
   "cell_type": "code",
   "execution_count": 6,
   "metadata": {
    "collapsed": true
   },
   "outputs": [],
   "source": [
    "row2drop= ['license_plate_state','license_plate_type']\n",
    "df_CCPT.dropna(axis = 0, how = 'any', subset = row2drop, inplace = True)"
   ]
  },
  {
   "cell_type": "code",
   "execution_count": null,
   "metadata": {
    "collapsed": true
   },
   "outputs": [],
   "source": [
    "df_CCPT['license_plate_state'].isnull().any()"
   ]
  },
  {
   "cell_type": "code",
   "execution_count": 7,
   "metadata": {
    "collapsed": false
   },
   "outputs": [
    {
     "data": {
      "text/plain": [
       "0   2014-08-05 21:26:00\n",
       "1   2014-06-14 09:41:00\n",
       "2   2009-01-07 19:56:00\n",
       "3   2015-10-24 14:55:00\n",
       "4   2007-05-30 17:27:00\n",
       "Name: issue_date, dtype: datetime64[ns]"
      ]
     },
     "execution_count": 7,
     "metadata": {},
     "output_type": "execute_result"
    }
   ],
   "source": [
    "df_CCPT['issue_date'] = pd.to_datetime(df_CCPT['issue_date'])\n",
    "df_CCPT['issue_date'].head(5)\n"
   ]
  },
  {
   "cell_type": "code",
   "execution_count": 8,
   "metadata": {
    "collapsed": true
   },
   "outputs": [],
   "source": [
    "# Getting the data from year 2015 to 2017\n",
    "mask16 = ((df_CCPT['issue_date'] >= pd.Timestamp(2016,1,1,0)) & (df_CCPT['issue_date'] <pd.Timestamp(2018,1,1,0)))\n",
    "df_CCPT16 = df_CCPT.loc[mask16]"
   ]
  },
  {
   "cell_type": "code",
   "execution_count": null,
   "metadata": {
    "collapsed": true
   },
   "outputs": [],
   "source": [
    "wd = {'weekday': df_CCPT16['issue_date'].dt.weekday,\n",
    "        'hourofday': df_CCPT16['issue_date'].dt.hour}\n",
    "df_date = pd.DataFrame(data = wd, index = df_CCPT16.index)"
   ]
  },
  {
   "cell_type": "code",
   "execution_count": null,
   "metadata": {
    "collapsed": true
   },
   "outputs": [],
   "source": [
    "plt.figure(figsize=(9,15))\n",
    "plt.title('Days and Hours of Violations', fontweight='bold',fontsize = 16);\n",
    "plt.hist2d(df_date['weekday'],df_date['hourofday'],[np.linspace(-0.5,6.5,num=8),np.linspace(-0.5,23.5,num=25)]);\n",
    "plt.xticks(np.arange(7), ['Mon','Tue','Wed','Thu','Fri','Sat','Sun'], fontweight='bold');\n",
    "hours_indx = [(datetime.time(i).strftime('%I %p')) for i in range(24)]\n",
    "plt.yticks(np.arange(24), hours_indx, fontweight='bold');"
   ]
  },
  {
   "cell_type": "code",
   "execution_count": null,
   "metadata": {
    "collapsed": true
   },
   "outputs": [],
   "source": [
    "df_CCPT16['license_plate_state'].value_counts().head(10)"
   ]
  },
  {
   "cell_type": "code",
   "execution_count": null,
   "metadata": {
    "collapsed": true
   },
   "outputs": [],
   "source": [
    "x_ticks = df_CCPT16['license_plate_state'].value_counts().index\n",
    "heights = df_CCPT16['license_plate_state'].value_counts()\n",
    "y_pos = np.arange(len(x_ticks))\n",
    "fig = plt.figure(figsize=(15,14)) \n",
    "# set horizontal bars\n",
    "plt.barh(y_pos, heights)\n",
    " \n",
    "# set names on the y-axis\n",
    "plt.yticks(y_pos, x_ticks)\n",
    "plt.gca().invert_yaxis() \n",
    "# plot figure\n",
    "plt.show()"
   ]
  },
  {
   "cell_type": "code",
   "execution_count": null,
   "metadata": {
    "collapsed": true
   },
   "outputs": [],
   "source": [
    "plate_state = df_CCPT16['license_plate_state'].value_counts().index\n",
    "ticket_status = df_CCPT16['ticket_queue'].value_counts().index\n",
    "# Here I categorize the ticket status in to 4:\n",
    "# Paid, Dissmissed, Likely to be Guilty (Notice), Unlikely to pay (the rest: Define, Court, Bankrupcy,Hearing Req)\n",
    "count_by_state = np.zeros([2,4])\n",
    "\n",
    "\n",
    "mask_instate = (df_CCPT16['license_plate_state'] == 'IL')\n",
    "count_by_state[0,0] = np.count_nonzero(df_CCPT16.loc[mask_instate]['ticket_queue'] == 'Paid')\n",
    "count_by_state[0,1] = np.count_nonzero(df_CCPT16.loc[mask_instate]['ticket_queue'] == 'Dismissed')\n",
    "count_by_state[0,2] = np.count_nonzero(df_CCPT16.loc[mask_instate]['ticket_queue'] == 'Notice') \n",
    "count_by_state[0,3] = df_CCPT16.loc[mask_instate]['ticket_queue'].size - np.sum(count_by_state[0,0:3])\n",
    "                \n",
    "mask_outstate = (df_CCPT16['license_plate_state'] != 'IL')\n",
    "count_by_state[1,0] = np.count_nonzero(df_CCPT16.loc[mask_outstate]['ticket_queue'] == 'Paid')\n",
    "count_by_state[1,1] = np.count_nonzero(df_CCPT16.loc[mask_outstate]['ticket_queue'] == 'Dismissed')\n",
    "count_by_state[1,2] = np.count_nonzero(df_CCPT16.loc[mask_outstate]['ticket_queue'] == 'Notice') \n",
    "count_by_state[1,3] = df_CCPT16.loc[mask_outstate]['ticket_queue'].size - np.sum(count_by_state[1,0:3])"
   ]
  },
  {
   "cell_type": "code",
   "execution_count": null,
   "metadata": {
    "collapsed": true
   },
   "outputs": [],
   "source": [
    "from matplotlib import rc\n",
    "\n",
    "plt.figure(figsize=(9,9))\n",
    "plt.tick_params(labelbottom=True)\n",
    "rc('font',weight = 'bold')\n",
    "r = np.arange(2)\n",
    "# bar width\n",
    "BW = 1\n",
    "\n",
    "plt.bar(r, count_by_state[:,0], color='blue', edgecolor='white', width=BW,label = 'Paid')\n",
    "plt.bar(r, count_by_state[:,1], bottom=count_by_state[:,0], color='red', edgecolor='white', width=BW,label='Dismissed')\n",
    "plt.bar(r, count_by_state[:,2], bottom=np.sum(count_by_state[:,0:2],axis = 1), color='green', edgecolor='white', width=BW,label='Likely Guilty')\n",
    "plt.bar(r, count_by_state[:,3], bottom=np.sum(count_by_state[:,0:3],axis = 1), color='magenta', edgecolor='white', width=BW,label='Unlikely to Pay')\n",
    "\n",
    "plt.xticks(r, ['In state plate','Out of state plate'], fontweight='bold',rotation='vertical')\n",
    "#plt.xlabel(\"Violation Type (Top 20)\")\n",
    "plt.ylabel(\"No. of Occurance between 2016 and 2017\")\n",
    "plt.legend(fontsize = 16)\n",
    "plt.show()"
   ]
  },
  {
   "cell_type": "code",
   "execution_count": null,
   "metadata": {
    "collapsed": true
   },
   "outputs": [],
   "source": [
    "plt.figure(figsize=(18,9))\n",
    "df_CCPT16['violation_description'].value_counts().head(30).plot(kind='pie')\n",
    "#plt.tick_params(labelbottom='on')\n",
    "plt.ylabel('', fontsize=16);\n",
    "plt.xlabel('Violation Type', fontsize=16);\n",
    "plt.title('Number of Parking Tickets Given for Each Violation Code', fontsize=16);"
   ]
  },
  {
   "cell_type": "code",
   "execution_count": null,
   "metadata": {
    "collapsed": true
   },
   "outputs": [],
   "source": [
    "violation_type = df_CCPT16['violation_description'].value_counts().index\n",
    "ticket_status = df_CCPT16['ticket_queue'].value_counts().index\n",
    "# Here I categorize the ticket status in to 4:\n",
    "# Paid, Dissmissed, Likely to be Guilty (Notice), Unlikely to pay (the rest: Define, Court, Bankrupcy,Hearing Req)\n",
    "count_by_vt = np.zeros([20,4])\n",
    "\n",
    "for vt_index in np.arange(20):\n",
    "    mask = (df_CCPT16['violation_description'] == violation_type[vt_index])\n",
    "    count_by_vt[vt_index,0] = np.count_nonzero(df_CCPT16.loc[mask]['ticket_queue'] == 'Paid')\n",
    "    count_by_vt[vt_index,1] = np.count_nonzero(df_CCPT16.loc[mask]['ticket_queue'] == 'Dismissed')\n",
    "    count_by_vt[vt_index,2] = np.count_nonzero(df_CCPT16.loc[mask]['ticket_queue'] == 'Notice') \n",
    "    count_by_vt[vt_index,3] = df_CCPT16.loc[mask]['ticket_queue'].size - np.sum(count_by_vt[vt_index,0:3])"
   ]
  },
  {
   "cell_type": "code",
   "execution_count": null,
   "metadata": {
    "collapsed": true
   },
   "outputs": [],
   "source": [
    "plt.figure(figsize=(18,9))\n",
    "plt.tick_params(labelbottom=True)\n",
    "rc('font',weight = 'bold')\n",
    "r = np.arange(20)\n",
    "# bar width\n",
    "BW = 1\n",
    "\n",
    "plt.bar(r, count_by_vt[:,0], color='blue', edgecolor='white', width=BW,label = 'Paid')\n",
    "plt.bar(r, count_by_vt[:,1], bottom=count_by_vt[:,0], color='red', edgecolor='white', width=BW,label='Dismissed')\n",
    "plt.bar(r, count_by_vt[:,2], bottom=np.sum(count_by_vt[:,0:2],axis = 1), color='green', edgecolor='white', width=BW,label='Likely Guilty')\n",
    "plt.bar(r, count_by_vt[:,3], bottom=np.sum(count_by_vt[:,0:3],axis = 1), color='magenta', edgecolor='white', width=BW,label='Unlikely to Pay')\n",
    "\n",
    "plt.xticks(r, violation_type[:20], fontweight='bold',rotation='vertical')\n",
    "plt.xlabel(\"Violation Type (Top 20)\")\n",
    "plt.ylabel(\"No. of Occurance between 2016 and 2017\")\n",
    "plt.legend(fontsize = 16)\n",
    "plt.show()"
   ]
  },
  {
   "cell_type": "code",
   "execution_count": null,
   "metadata": {
    "collapsed": true
   },
   "outputs": [],
   "source": [
    "hd = {'Unique Entry': df_CCPT.nunique(axis = 0),\n",
    "        'Nan Entry': df_CCPT.isnull().any()}\n",
    "pd.DataFrame(data = hd, index = df_CCPT16.columns.values)\n"
   ]
  },
  {
   "cell_type": "code",
   "execution_count": null,
   "metadata": {
    "collapsed": true
   },
   "outputs": [],
   "source": [
    "fine_amount = df_CCPT16[['fine_level1_amount','fine_level2_amount','current_amount_due','total_payments']]"
   ]
  },
  {
   "cell_type": "code",
   "execution_count": null,
   "metadata": {
    "collapsed": true,
    "scrolled": true
   },
   "outputs": [],
   "source": [
    "# fine_level2 is always twice the fine_level1, which makes it not helpful here\n",
    "np.mean(fine_amount['fine_level2_amount']//fine_amount['fine_level1_amount'])"
   ]
  },
  {
   "cell_type": "code",
   "execution_count": null,
   "metadata": {
    "collapsed": true
   },
   "outputs": [],
   "source": [
    "fine_amount['final_amount'] = fine_amount['current_amount_due'] + fine_amount['total_payments']\n",
    "fine_amount['due_or_not'] = fine_amount['current_amount_due'] > 0"
   ]
  },
  {
   "cell_type": "code",
   "execution_count": null,
   "metadata": {
    "collapsed": true
   },
   "outputs": [],
   "source": [
    "sns.set()\n",
    "#ax = sns.scatterplot(x=fine_amount['fine_level1_amount'], y = fine_amount['final_amount'], hue=fine_amount['due_or_not'],data=tips)\n",
    "\n",
    "ax = sns.jointplot(x = 'fine_level1_amount', y = 'final_amount',data=fine_amount[:10000])\n",
    "plt.show()"
   ]
  },
  {
   "cell_type": "code",
   "execution_count": null,
   "metadata": {
    "collapsed": true,
    "scrolled": false
   },
   "outputs": [],
   "source": [
    "fine_level = np.sort(df_CCPT16['fine_level1_amount'].unique())\n",
    "fine_due_or_not = np.zeros([np.size(fine_level),2])\n",
    "\n",
    "for fl_indx in np.arange(np.size(fine_level)):\n",
    "    mask = (df_CCPT16['fine_level1_amount'] == fine_level[fl_indx])\n",
    "    fine_due_or_not[fl_indx,0] = np.count_nonzero(df_CCPT16.loc[mask]['current_amount_due'] <= 0 ) # paid\n",
    "    fine_due_or_not[fl_indx,1] = np.count_nonzero(df_CCPT16.loc[mask]['current_amount_due'] > 0 ) # due"
   ]
  },
  {
   "cell_type": "code",
   "execution_count": null,
   "metadata": {
    "collapsed": true
   },
   "outputs": [],
   "source": [
    "plt.figure(figsize=(18,9))\n",
    "plt.tick_params(labelbottom=True)\n",
    "rc('font',weight = 'bold')\n",
    "r = np.arange(np.size(fine_level))\n",
    "# bar width\n",
    "BW = 1\n",
    "\n",
    "plt.bar(r, fine_due_or_not[:,0], color='blue', edgecolor='white', width=BW,label = 'Paid')\n",
    "plt.bar(r, fine_due_or_not[:,1], bottom=fine_due_or_not[:,0], color='red', edgecolor='white', width=BW,label='Due')\n",
    "\n",
    "plt.xticks(r, fine_level, fontweight='bold',rotation='vertical')\n",
    "plt.xlabel(\"Initial Fine Amount\")\n",
    "plt.ylabel(\"No. of Ticket between 2016 and 2017\")\n",
    "plt.legend(fontsize = 16)\n",
    "plt.show()\n",
    "\n"
   ]
  },
  {
   "cell_type": "code",
   "execution_count": null,
   "metadata": {
    "collapsed": true
   },
   "outputs": [],
   "source": [
    " np.sort(df_CCPT16['fine_level1_amount'].unique())"
   ]
  },
  {
   "cell_type": "code",
   "execution_count": null,
   "metadata": {
    "collapsed": true
   },
   "outputs": [],
   "source": [
    "df_CCPT16['address'].head()"
   ]
  },
  {
   "cell_type": "code",
   "execution_count": null,
   "metadata": {
    "collapsed": true
   },
   "outputs": [],
   "source": [
    "address_df = pd.DataFrame(df_CCPT16['address'].str.split(', ').tolist(), columns=['address','city','state','None'])\n",
    "#adderss_df.drop(columns = 'None',inplace = True)"
   ]
  },
  {
   "cell_type": "code",
   "execution_count": null,
   "metadata": {
    "collapsed": true
   },
   "outputs": [],
   "source": [
    "address_df.head()"
   ]
  },
  {
   "cell_type": "code",
   "execution_count": null,
   "metadata": {
    "collapsed": true
   },
   "outputs": [],
   "source": [
    "address_df['city'].value_counts()"
   ]
  },
  {
   "cell_type": "code",
   "execution_count": null,
   "metadata": {
    "collapsed": true
   },
   "outputs": [],
   "source": [
    "mask = (address_df['state']==' chicago')\n",
    "address_df.loc[mask]"
   ]
  },
  {
   "cell_type": "code",
   "execution_count": null,
   "metadata": {
    "collapsed": true
   },
   "outputs": [],
   "source": [
    "# found anomoly here, change it\n",
    "mask_add = (df_CCPT16['address'] == '600 n st, louis, chicago, il')\n",
    "# I know this looks ugly, I haven't found a better way :(\n",
    "df_CCPT16['address'] = df_CCPT16['address'].str.replace('600 n st, louis, chicago, il','600 n st louis, chicago, il')"
   ]
  },
  {
   "cell_type": "code",
   "execution_count": null,
   "metadata": {
    "collapsed": true
   },
   "outputs": [],
   "source": [
    "df_CCPT16.loc[mask_add]['address']"
   ]
  },
  {
   "cell_type": "code",
   "execution_count": null,
   "metadata": {
    "collapsed": true
   },
   "outputs": [],
   "source": [
    "address_df = pd.DataFrame(df_CCPT16['address'].str.split(', ').tolist(), columns=['address','city','state'])"
   ]
  },
  {
   "cell_type": "code",
   "execution_count": null,
   "metadata": {
    "collapsed": true
   },
   "outputs": [],
   "source": [
    "address_df['city'].value_counts()\n",
    "# now the address should have been cleaned"
   ]
  },
  {
   "cell_type": "code",
   "execution_count": null,
   "metadata": {
    "collapsed": true,
    "scrolled": true
   },
   "outputs": [],
   "source": [
    "address_df['state'].unique()\n",
    "print('Number of unique addresses: {}'.format(len(address_df['address'].unique())))"
   ]
  },
  {
   "cell_type": "code",
   "execution_count": null,
   "metadata": {
    "collapsed": true
   },
   "outputs": [],
   "source": [
    "address_df = pd.DataFrame(address_df['address'].unique(), columns=['address'])\n",
    "address_df['lat'] = np.nan\n",
    "address_df['lng'] = np.nan\n",
    "address_df.head()"
   ]
  },
  {
   "cell_type": "code",
   "execution_count": null,
   "metadata": {
    "collapsed": true
   },
   "outputs": [],
   "source": [
    "import geocoder\n",
    "import requests\n",
    "import time"
   ]
  },
  {
   "cell_type": "code",
   "execution_count": null,
   "metadata": {
    "collapsed": true
   },
   "outputs": [],
   "source": [
    "class GeoSessions:\n",
    "    def __init__(self):\n",
    "        self.Arcgis = requests.Session()\n",
    "        self.Komoot = requests.Session()\n",
    "        self.USCensus = requests.Session()\n",
    "        self.OSM = requests.Session()\n",
    "\n",
    "def create_sessions():\n",
    "    return GeoSessions()\n",
    "\n",
    "def geocode_address(address, s):\n",
    "    g = geocoder.komoot(address, session=s.Komoot)\n",
    "    if (g.ok == False):        \n",
    "        g = geocoder.osm(address, session=s.OSM)\n",
    "    if (g.ok == False):\n",
    "        g = geocoder.arcgis(address, session=s.Arcgis)\n",
    "    if (g.ok == False):\n",
    "        g = geocoder.uscensus(address, session=s.USCensus)\n",
    "    return g"
   ]
  },
  {
   "cell_type": "code",
   "execution_count": null,
   "metadata": {
    "collapsed": true
   },
   "outputs": [],
   "source": [
    "s = create_sessions()\n"
   ]
  },
  {
   "cell_type": "code",
   "execution_count": null,
   "metadata": {
    "collapsed": true
   },
   "outputs": [],
   "source": [
    "addr = address_df['address'][0] + ', Chicago, IL'\n",
    "tmp = geocode_address(addr, s)\n",
    "print(addr)\n",
    "print('Latitude:  {}'.format(tmp.lat))\n",
    "print('Longitude: {}'.format(tmp.lng))"
   ]
  },
  {
   "cell_type": "code",
   "execution_count": null,
   "metadata": {
    "collapsed": true
   },
   "outputs": [],
   "source": [
    "failed_inds = []\n",
    "iter_between_saves = 100"
   ]
  },
  {
   "cell_type": "code",
   "execution_count": null,
   "metadata": {
    "collapsed": true,
    "scrolled": true
   },
   "outputs": [],
   "source": [
    "missing_latlon_ind = address_df[address_df['lat'].isnull()][:60001].index.tolist()\n",
    "\n",
    "for i in missing_latlon_ind:\n",
    "    try:\n",
    "        if i%iter_between_saves == 0:\n",
    "            print('reached index {}, saving df'.format(i))\n",
    "            address_df.to_csv('CCPT_frac_1617.csv', index=False)\n",
    "        addr = address_df['address'][i] + ', Chicago, IL'\n",
    "        tmp = geocode_address(addr, s)\n",
    "        address_df.loc[i,'lat'] = tmp.lat\n",
    "        address_df.loc[i,'lng'] = tmp.lng\n",
    "    except Exception as e:\n",
    "        failed_inds.append(i)\n",
    "address_df.to_csv('CCPT_frac_1617.csv', index=False)"
   ]
  },
  {
   "cell_type": "code",
   "execution_count": null,
   "metadata": {
    "collapsed": true,
    "scrolled": true
   },
   "outputs": [],
   "source": [
    "address_df[address_df['lat'].isnull()]"
   ]
  },
  {
   "cell_type": "code",
   "execution_count": null,
   "metadata": {
    "collapsed": true
   },
   "outputs": [],
   "source": [
    "# load the presaved df for geocoded df\n",
    "df_geoloc = pd.read_csv('./data/Geocoded_CCPT_1617.csv')\n",
    "df_geoloc['address'] = df_geoloc['address'] + ', chicago, il'\n"
   ]
  },
  {
   "cell_type": "code",
   "execution_count": null,
   "metadata": {
    "collapsed": false
   },
   "outputs": [],
   "source": [
    "geocoded_df = pd.merge(left=df_CCPT16, right=df_geoloc, how='inner', on='address')\n",
    "geocoded_df.head()"
   ]
  },
  {
   "cell_type": "code",
   "execution_count": null,
   "metadata": {
    "collapsed": true
   },
   "outputs": [],
   "source": [
    "mask_chi = ((geocoded_df['lat']>=41.63) & (geocoded_df['lat']<= 42.05) &\n",
    "               (geocoded_df['lng']>= -88.0) & (geocoded_df['lng']<= -87.5))\n",
    "\n",
    "geocoded_df = geocoded_df.loc[mask_chi]"
   ]
  },
  {
   "cell_type": "code",
   "execution_count": null,
   "metadata": {
    "collapsed": true
   },
   "outputs": [],
   "source": [
    "import folium\n",
    "import folium.plugins as plugins\n",
    "\n",
    "#from folium.plugins import HeatMap"
   ]
  },
  {
   "cell_type": "code",
   "execution_count": null,
   "metadata": {
    "collapsed": true
   },
   "outputs": [],
   "source": [
    "chicago_lat = 41.8\n",
    "chicago_lng = -87.7"
   ]
  },
  {
   "cell_type": "code",
   "execution_count": null,
   "metadata": {
    "collapsed": false,
    "scrolled": true
   },
   "outputs": [],
   "source": [
    "df_permit = geocoded_df.loc[geocoded_df['violation_description'] == 'RESIDENTIAL PERMIT PARKING']\n",
    "df_permit.head()\n",
    "#df_CCPT16['issue_date'].groupby(df_CCPT16['issue_date'].dt.hour).count().plot(kind='bar')"
   ]
  },
  {
   "cell_type": "code",
   "execution_count": null,
   "metadata": {
    "collapsed": true
   },
   "outputs": [],
   "source": [
    "df_permit_hm = df_permit[['lat','lng']]"
   ]
  },
  {
   "cell_type": "code",
   "execution_count": null,
   "metadata": {
    "collapsed": true
   },
   "outputs": [],
   "source": [
    "# There are quite some outliers, here I will just remove the ones outside Chicago, \n",
    "# later I will do the more careful cleaning\n",
    "\n",
    "mask_chi = ((df_permit['lat']>=41.63) & (df_permit['lat']<= 42.05) &\n",
    "               (df_permit['lng']>= -88.0) & (df_permit['lng']<= -87.5))\n",
    "df_permit_hm = df_permit_hm.loc[mask_chi]"
   ]
  },
  {
   "cell_type": "code",
   "execution_count": null,
   "metadata": {
    "collapsed": true
   },
   "outputs": [],
   "source": [
    "permit_data = [[row['lat'],row['lng']] for index, row in df_permit_hm.iterrows()]"
   ]
  },
  {
   "cell_type": "code",
   "execution_count": null,
   "metadata": {
    "collapsed": false
   },
   "outputs": [],
   "source": [
    "np.size(permit_data)"
   ]
  },
  {
   "cell_type": "code",
   "execution_count": null,
   "metadata": {
    "collapsed": false
   },
   "outputs": [],
   "source": [
    "m = folium.Map([chicago_lat,chicago_lng],  tiles = \"Stamen Toner\",zoom_start=10)\n",
    "hm = plugins.HeatMap(permit_data,radius = 9)\n",
    "hm.add_to(m)\n",
    "m"
   ]
  },
  {
   "cell_type": "code",
   "execution_count": null,
   "metadata": {
    "collapsed": true,
    "scrolled": true
   },
   "outputs": [],
   "source": [
    "df_permit['Weight'] = df_permit['issue_date'].dt.hour\n",
    "df_permit['Weight'] = df_permit['Weight'].astype(float)\n",
    "df_permit_hmt = df_permit[['lat','lng','Weight']]"
   ]
  },
  {
   "cell_type": "code",
   "execution_count": null,
   "metadata": {
    "collapsed": true
   },
   "outputs": [],
   "source": [
    "permit_timeseries = [[[row['lat'],row['lng']] \n",
    "                           for index, row in df_permit_hmt[df_permit_hmt['Weight'] == i].iterrows()] for i in range(0,24)]"
   ]
  },
  {
   "cell_type": "code",
   "execution_count": null,
   "metadata": {
    "collapsed": true,
    "scrolled": false
   },
   "outputs": [],
   "source": [
    "hours_indx = [(datetime.time(i).strftime('%I %p')) for i in range(24)]\n",
    "mt = folium.Map([chicago_lat,chicago_lng],tiles = \"Stamen Toner\",zoom_start=10)\n",
    "hmt = plugins.HeatMapWithTime(permit_timeseries,auto_play=True,radius = 5, min_opacity = 1,index = hours_indx)\n",
    "hmt.add_to(mt)\n",
    "mt"
   ]
  },
  {
   "cell_type": "code",
   "execution_count": null,
   "metadata": {
    "collapsed": true
   },
   "outputs": [],
   "source": [
    "plt.figure(figsize=(16,8))\n",
    "df_permit['issue_date'].groupby(df_permit['issue_date'].dt.hour).count().plot(kind='bar')\n",
    "plt.tick_params(labelbottom='on')\n",
    "plt.ylabel('No. of cars', fontsize=16);\n",
    "plt.xlabel('Day Time', fontsize=16);\n",
    "plt.title('Parking ticket issued at different time of the day', fontsize=16);\n"
   ]
  },
  {
   "cell_type": "code",
   "execution_count": null,
   "metadata": {
    "collapsed": true
   },
   "outputs": [],
   "source": [
    "# machine learning\n",
    "from sklearn.linear_model import LogisticRegression\n",
    "from sklearn.svm import SVC, LinearSVC\n",
    "from sklearn.ensemble import RandomForestClassifier\n",
    "from sklearn.neighbors import KNeighborsClassifier\n",
    "from sklearn.naive_bayes import GaussianNB\n",
    "from sklearn.linear_model import Perceptron\n",
    "from sklearn.linear_model import SGDClassifier\n",
    "from sklearn.tree import DecisionTreeClassifier"
   ]
  },
  {
   "cell_type": "code",
   "execution_count": null,
   "metadata": {
    "collapsed": false
   },
   "outputs": [],
   "source": [
    "geocoded_df.head()"
   ]
  },
  {
   "cell_type": "code",
   "execution_count": null,
   "metadata": {
    "collapsed": true
   },
   "outputs": [],
   "source": [
    "to_drop = ['fine_level2_amount','current_amount_due','total_payments',\n",
    "          'ticket_queue_date','notice_level','hearing_disposition','address']\n",
    "geocoded_df.drop(labels=to_drop ,axis = 1,inplace = True)"
   ]
  },
  {
   "cell_type": "code",
   "execution_count": null,
   "metadata": {
    "collapsed": true
   },
   "outputs": [],
   "source": [
    "row2drop= ['license_plate_type']\n",
    "geocoded_df.dropna(axis = 0, how = 'any', subset = row2drop, inplace = True)\n",
    "#geocoded_df['license_plate_type'].value_counts()"
   ]
  },
  {
   "cell_type": "code",
   "execution_count": null,
   "metadata": {
    "collapsed": true
   },
   "outputs": [],
   "source": [
    "hd = {'Unique Entry': geocoded_df.nunique(axis = 0),\n",
    "        'Nan Entry': geocoded_df.isnull().any()}\n",
    "pd.DataFrame(data = hd, index = geocoded_df.columns.values)"
   ]
  },
  {
   "cell_type": "code",
   "execution_count": null,
   "metadata": {
    "collapsed": true
   },
   "outputs": [],
   "source": []
  },
  {
   "cell_type": "code",
   "execution_count": null,
   "metadata": {
    "collapsed": true
   },
   "outputs": [],
   "source": [
    "geocoded_df['ticket_queue'].value_counts()"
   ]
  },
  {
   "cell_type": "code",
   "execution_count": null,
   "metadata": {
    "collapsed": true
   },
   "outputs": [],
   "source": [
    "geocoded_df['Outcome'] = np.nan\n",
    "geocoded_df['Outcome'] = geocoded_df['ticket_queue'].map( {'Paid': 0, 'Dismissed': 1, 'Notice': 2,'Define':3,'Bankruptcy':3,'Court':3,'Hearing Req':3} ).astype(int)\n",
    "#geocoded_df.loc[geocoded_df['ticket_queue']=='Court']"
   ]
  },
  {
   "cell_type": "code",
   "execution_count": null,
   "metadata": {
    "collapsed": true
   },
   "outputs": [],
   "source": [
    "wd = {'Month':geocoded_df['issue_date'].dt.month,\n",
    "      'Weekday': geocoded_df['issue_date'].dt.weekday,\n",
    "      'Hour': geocoded_df['issue_date'].dt.hour}\n",
    "df_date = pd.DataFrame(data = wd, index = geocoded_df.index)"
   ]
  },
  {
   "cell_type": "code",
   "execution_count": null,
   "metadata": {
    "collapsed": true
   },
   "outputs": [],
   "source": [
    "df_ml = pd.concat([geocoded_df,df_date],axis=1)"
   ]
  },
  {
   "cell_type": "code",
   "execution_count": null,
   "metadata": {
    "collapsed": true
   },
   "outputs": [],
   "source": [
    "df_ml.head()"
   ]
  },
  {
   "cell_type": "code",
   "execution_count": null,
   "metadata": {
    "collapsed": true
   },
   "outputs": [],
   "source": [
    "mask_in_state = (df_ml['license_plate_state'] == 'IL')\n",
    "df_ml['Plate_State'] = np.zeros(df_ml['license_plate_state'].count()).astype(int)\n",
    "df_ml.loc[mask_in_state,'Plate_State'] = np.ones(df_ml.loc[mask_in_state]['Plate_State'].count()).astype(int)"
   ]
  },
  {
   "cell_type": "code",
   "execution_count": null,
   "metadata": {
    "collapsed": true,
    "scrolled": true
   },
   "outputs": [],
   "source": [
    "df_ml['license_plate_type'].value_counts()"
   ]
  },
  {
   "cell_type": "code",
   "execution_count": null,
   "metadata": {
    "collapsed": true
   },
   "outputs": [],
   "source": [
    "mask_plate_type = df_ml['license_plate_type'].isin(['PAS','TRK','TMP','TXI','DLC','FFM'])\n",
    "df_ml.loc[~mask_plate_type,'license_plate_type'] = 'OTH'"
   ]
  },
  {
   "cell_type": "code",
   "execution_count": null,
   "metadata": {
    "collapsed": false
   },
   "outputs": [],
   "source": [
    "df_ml.loc[~mask_plate_type]"
   ]
  },
  {
   "cell_type": "code",
   "execution_count": null,
   "metadata": {
    "collapsed": false
   },
   "outputs": [],
   "source": [
    "df_ml['license_plate_type'].value_counts()"
   ]
  },
  {
   "cell_type": "code",
   "execution_count": null,
   "metadata": {
    "collapsed": true
   },
   "outputs": [],
   "source": [
    "df_ml['vehicle_make'].value_counts()"
   ]
  },
  {
   "cell_type": "code",
   "execution_count": null,
   "metadata": {
    "collapsed": true
   },
   "outputs": [],
   "source": [
    "violation_type = df_ml['violation_description'].value_counts().index\n",
    "mask_vio_type = df_ml['violation_description'].isin(violation_type[:25])\n",
    "df_ml.loc[~mask_vio_type,'violation_description'] = 'OTHER'"
   ]
  },
  {
   "cell_type": "code",
   "execution_count": null,
   "metadata": {
    "collapsed": false
   },
   "outputs": [],
   "source": [
    "df_ml.loc[~mask_vio_type]"
   ]
  },
  {
   "cell_type": "code",
   "execution_count": null,
   "metadata": {
    "collapsed": false
   },
   "outputs": [],
   "source": [
    " df_ml['violation_description'].value_counts()"
   ]
  },
  {
   "cell_type": "code",
   "execution_count": null,
   "metadata": {
    "collapsed": false
   },
   "outputs": [],
   "source": [
    "hd = {'Unique Entry': df_ml.nunique(axis = 0),\n",
    "        'Nan Entry': df_ml.isnull().any()}\n",
    "pd.DataFrame(data = hd, index = df_ml.columns.values)"
   ]
  },
  {
   "cell_type": "code",
   "execution_count": null,
   "metadata": {
    "collapsed": true
   },
   "outputs": [],
   "source": [
    "to_drop = ['issue_date','license_plate_state','violation_code','ticket_queue']\n",
    "df_ml.drop(labels=to_drop ,axis = 1,inplace = True)"
   ]
  },
  {
   "cell_type": "code",
   "execution_count": null,
   "metadata": {
    "collapsed": false
   },
   "outputs": [],
   "source": [
    "df_ml.columns"
   ]
  },
  {
   "cell_type": "code",
   "execution_count": null,
   "metadata": {
    "collapsed": true,
    "scrolled": true
   },
   "outputs": [],
   "source": [
    "df_ml.officer.value_counts()"
   ]
  },
  {
   "cell_type": "code",
   "execution_count": null,
   "metadata": {
    "collapsed": true
   },
   "outputs": [],
   "source": [
    "df_ml.to_csv('CCPT_ML.csv', index=False)"
   ]
  },
  {
   "cell_type": "code",
   "execution_count": null,
   "metadata": {
    "collapsed": true
   },
   "outputs": [],
   "source": [
    "import h2o\n",
    "from h2o.estimators import H2ORandomForestEstimator"
   ]
  },
  {
   "cell_type": "code",
   "execution_count": null,
   "metadata": {
    "collapsed": false
   },
   "outputs": [],
   "source": [
    "data = h2o.import_file('CCPT_ML.csv')"
   ]
  },
  {
   "cell_type": "code",
   "execution_count": null,
   "metadata": {
    "collapsed": false,
    "scrolled": true
   },
   "outputs": [],
   "source": [
    "data['Outcome']."
   ]
  },
  {
   "cell_type": "code",
   "execution_count": null,
   "metadata": {
    "collapsed": true
   },
   "outputs": [],
   "source": [
    "train_col = ['license_plate_type','violation_description','fine_level1_amount',\n",
    "             'Plate_State','Month', 'Weekday', 'Hour']\n",
    "response_col = ['Outcome']"
   ]
  },
  {
   "cell_type": "code",
   "execution_count": null,
   "metadata": {
    "collapsed": false
   },
   "outputs": [],
   "source": [
    "h2o.init()"
   ]
  },
  {
   "cell_type": "code",
   "execution_count": null,
   "metadata": {
    "collapsed": true
   },
   "outputs": [],
   "source": [
    "train, test = data.split_frame(ratios=[0.8])"
   ]
  },
  {
   "cell_type": "code",
   "execution_count": null,
   "metadata": {
    "collapsed": true
   },
   "outputs": [],
   "source": [
    "model = H2ORandomForestEstimator(ntrees=50, max_depth=20, nfolds=10)"
   ]
  },
  {
   "cell_type": "code",
   "execution_count": null,
   "metadata": {
    "collapsed": false
   },
   "outputs": [],
   "source": [
    "model.train(x=train_col, y=response_col, training_frame=train)"
   ]
  },
  {
   "cell_type": "code",
   "execution_count": null,
   "metadata": {
    "collapsed": true
   },
   "outputs": [],
   "source": []
  }
 ],
 "metadata": {
  "kernelspec": {
   "display_name": "Python 3",
   "language": "python",
   "name": "python3"
  },
  "language_info": {
   "codemirror_mode": {
    "name": "ipython",
    "version": 3
   },
   "file_extension": ".py",
   "mimetype": "text/x-python",
   "name": "python",
   "nbconvert_exporter": "python",
   "pygments_lexer": "ipython3",
   "version": "3.6.6"
  }
 },
 "nbformat": 4,
 "nbformat_minor": 2
}
